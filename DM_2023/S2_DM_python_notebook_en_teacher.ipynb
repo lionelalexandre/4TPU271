{
 "cells": [
  {
   "cell_type": "markdown",
   "metadata": {
    "colab_type": "text",
    "id": "view-in-github"
   },
   "source": [
    "<a href=\"https://colab.research.google.com/github/lionelalexandre/4TPU271/blob/main/S2_TD1_python_notebook_en_teacher.ipynb\" target=\"_parent\"><img src=\"https://colab.research.google.com/assets/colab-badge.svg\" alt=\"Open In Colab\"/></a>"
   ]
  },
  {
   "cell_type": "markdown",
   "metadata": {
    "id": "nv0Y9pmYeuWZ"
   },
   "source": [
    "# <span style=\"color:blue\"> <center>Teacher / TD1 : 4TPU279U $-$ Bachelor 1st year $-$ spring 2023</center></span>\n",
    "# <center><span style=\"color:red\">*Prenom Nom Groupe*</span></center>\n",
    "# <hr style=\"border:1px solid black\"><center>  Devoir Maison : trajectoire d'un ballon de rugby </center><hr style=\"border:1px solid black\">\n",
    "</br>"
   ]
  },
  {
   "cell_type": "markdown",
   "metadata": {
    "id": "WjQWi3fWeuWc"
   },
   "source": [
    "Déposer ce fichier **notebook** complété (ou sa version Python/Spyder) ainsi que le fichier de données sur \n",
    "[Moodle](https://moodle1.u-bordeaux.fr/course/view.php?id=12271) via la page consacrée à votre demi-groupe.\n",
    "\n",
    "\n",
    "Renommer le fichier suivant : \n",
    "- `DM_NomPrenom_S2.ipynb` pour un fichier *jupyter-notebook*\n",
    "\n",
    "ou \n",
    "\n",
    "- `DM_NomPrenom_S2.py` pour un fichier *python* pur\n",
    "\n",
    "et\n",
    "\n",
    "- `trajectoire_NomPrenom.txt` pour le fichier de données"
   ]
  },
  {
   "cell_type": "markdown",
   "metadata": {},
   "source": [
    "<div class=\"alert alert-block alert-warning\">\n",
    "<b>ATTENTION :</b> Abolir totalement l’emploi des espaces, lettres accentuées et autres symboles\n",
    "dans le nom du fichier !\n",
    "</div>"
   ]
  },
  {
   "cell_type": "markdown",
   "metadata": {},
   "source": [
    "**Les points suivants seront pris en compte pour l'évaluation :**\n",
    "- respect des consignes\n",
    "- qualité des données extraites *via* Tracker\n",
    "- mise en forme des figures (légendes, unités, titre etc...)\n",
    "- clarté des programmes et mise en page"
   ]
  },
  {
   "cell_type": "markdown",
   "metadata": {
    "id": "M2CEBhD5euWd"
   },
   "source": [
    "### <hr style=\"border:1px solid black\">  Tracker  <hr style=\"border:1px solid black\">\n",
    "\n",
    "> Créer avec Tracker un echantillonnage de la vidéo. On pourra utiliser la hauteur de la barre transversale (3 mètres) pour la calibration. Sauvegarder le fichier de données au (format `txt` par défaut) sous le nom :\n",
    "`trajectoire_NomPrenom_S2.txt`"
   ]
  },
  {
   "cell_type": "markdown",
   "metadata": {
    "id": "0FoW8o7beuWd"
   },
   "source": [
    "### <hr style=\"border:1px solid black\"> Extraction des données et représentation <hr style=\"border:1px solid black\">"
   ]
  },
  {
   "cell_type": "markdown",
   "metadata": {
    "id": "g3rd8ra-euWe"
   },
   "source": [
    "> Extraire les données et stocker le temps dans une liste `t` et les coordonnées dans `x` et `y`. Puis convertir les listes en tableau numpy."
   ]
  },
  {
   "cell_type": "code",
   "execution_count": null,
   "metadata": {
    "colab": {
     "base_uri": "https://localhost:8080/"
    },
    "id": "0_ujBldHeuWf",
    "outputId": "b09ff60c-0cfe-4d27-fc55-f4bb074fbbac"
   },
   "outputs": [],
   "source": [
    "from numpy import array\n",
    "\n",
    "file = open('trajectoire_NomPrenom.txt','r')\n",
    "#file.readline()\n",
    "#file.readline()\n",
    "\n",
    "x = [ ] ; y = [ ] ; t = [ ]\n",
    "for line in file:\n",
    "    words = line.split(';')\n",
    "    #words = line.replace(',','.').split(' ')\n",
    "    print(words)\n",
    "    t.append( float(words[0]) )    \n",
    "    x.append( float(words[1]) )\n",
    "    y.append( float(words[2]) )\n",
    "    \n",
    "t = array(t)\n",
    "x = array(x)\n",
    "y = array(y)\n",
    "\n",
    "N = len(t)\n",
    "print('number of data points = ',N)"
   ]
  },
  {
   "cell_type": "markdown",
   "metadata": {},
   "source": [
    "> Tracer la loi horaire : $x(t)$"
   ]
  },
  {
   "cell_type": "code",
   "execution_count": null,
   "metadata": {},
   "outputs": [],
   "source": [
    "import matplotlib.pyplot as plt\n",
    "\n",
    "plt.plot(t,x,linestyle='', marker='o', markersize=2, color='orange')\n",
    "plt.title('Abscisse du ballon $x(t)$')\n",
    "plt.xlabel('$t$ (s)')\n",
    "plt.ylabel('$x$ (m)')"
   ]
  },
  {
   "cell_type": "markdown",
   "metadata": {},
   "source": [
    "> Tracer la loi horaire : $y(t)$"
   ]
  },
  {
   "cell_type": "code",
   "execution_count": null,
   "metadata": {},
   "outputs": [],
   "source": [
    "plt.plot(t,y,linestyle='', marker='o', markersize=2, color='orange')\n",
    "plt.title('Ordonnée du ballon $y(t)$')\n",
    "plt.xlabel('$t$ (s)')\n",
    "plt.ylabel('$y$ (m)')"
   ]
  },
  {
   "cell_type": "markdown",
   "metadata": {},
   "source": [
    "> Tracer la trajectoire du ballon : $y(t)$ en fonction de $x(t)$"
   ]
  },
  {
   "cell_type": "code",
   "execution_count": null,
   "metadata": {},
   "outputs": [],
   "source": [
    "plt.plot(x,y,linestyle='', marker='o', markersize=2, color='orange')\n",
    "plt.title('Trajectoire du ballon de rugby')\n",
    "plt.xlabel('$x$ (m)')\n",
    "plt.ylabel('$y$ (m)')"
   ]
  },
  {
   "cell_type": "markdown",
   "metadata": {
    "id": "aPWEedmiFHam"
   },
   "source": [
    "### <hr style=\"border:1px solid black\"> Traitement des données<hr style=\"border:1px solid black\">"
   ]
  },
  {
   "cell_type": "markdown",
   "metadata": {},
   "source": [
    "> Calcul des composantes *horizontale* $(v_x)$ et *verticale* $(v_y)$ de la vitesse du ballon en utilisant la méthode des **différences finies centrales**. On créera 2 listes `vx`et `vy` pour stocker les valeurs. Quelle est la taille du vecteur `vx` et de `vy` ? Faire afficher le résultat."
   ]
  },
  {
   "cell_type": "code",
   "execution_count": null,
   "metadata": {},
   "outputs": [],
   "source": [
    "vx =[]\n",
    "vy =[]\n",
    "\n",
    "for i in range(1, N-1):\n",
    "\n",
    "    vx.append( (x[i+1] - x[i-1])/(t[i+1] - t[i-1]) )\n",
    "    vy.append( (y[i+1] - y[i-1])/(t[i+1] - t[i-1]) )\n",
    "    \n",
    "N = len(vx)\n",
    "print('number of data points = ', N)\n"
   ]
  },
  {
   "cell_type": "markdown",
   "metadata": {},
   "source": [
    "> Eliminer la première et la dernière valeur du tableau `t` de telle sorte que la taille de `t` soit\n",
    "identique à celles de `vx` et `vy`. On appellera ce nouveau vecteur `tv`.\n"
   ]
  },
  {
   "cell_type": "code",
   "execution_count": null,
   "metadata": {},
   "outputs": [],
   "source": [
    "tv = list(t)\n",
    "\n",
    "tv.pop( 0)\n",
    "tv.pop(-1)\n",
    "\n",
    "N = len(tv)\n",
    "print('number of data points = ', N)"
   ]
  },
  {
   "cell_type": "markdown",
   "metadata": {},
   "source": [
    "> Tracer les composantes de la vitesse du ballon en fonction du temps, ie. $v_x(t)$ et $v_y(t_v)$"
   ]
  },
  {
   "cell_type": "code",
   "execution_count": null,
   "metadata": {},
   "outputs": [],
   "source": [
    "plt.plot(tv,vx,linestyle='', marker='o', markersize=2, color='orange', label='$v_x(t)$')\n",
    "plt.plot(tv,vy,linestyle='', marker='o', markersize=2, color='blue',   label='$v_y(t)$')\n",
    "\n",
    "plt.title('Composantes de la vitesse du ballon')\n",
    "plt.xlabel('$t$ (s)')\n",
    "plt.ylabel('$v_i$ (m/s)')\n",
    "plt.legend()"
   ]
  },
  {
   "cell_type": "markdown",
   "metadata": {},
   "source": [
    "> Tracer la composante horizontale de la vitesse du ballon en échelle semi-logarithmique, ie. $\\log(v_x)$ en fonction de $t_v$"
   ]
  },
  {
   "cell_type": "code",
   "execution_count": null,
   "metadata": {
    "scrolled": true
   },
   "outputs": [],
   "source": [
    "from numpy import log # logarithme naturel = \"ln\"\n",
    "\n",
    "plt.plot(tv,log(vx),linestyle='', marker='o', markersize=2, color='orange', linewidth=1.5, label='$v_x(t)$')\n",
    "\n",
    "plt.title('Composante horizontale de la vitesse du ballon')\n",
    "plt.xlabel('$t$ (s)')\n",
    "plt.ylabel('$\\log(v_x)$')\n",
    "plt.legend()"
   ]
  },
  {
   "cell_type": "markdown",
   "metadata": {},
   "source": [
    "### <hr style=\"border:1px solid black\"> Régression linéaire et temps caractéristiques <hr style=\"border:1px solid black\">"
   ]
  },
  {
   "cell_type": "markdown",
   "metadata": {},
   "source": [
    "- La composante horizontale de la vitesse doit vérifier la relation suivante :\n",
    "$$v_x(t) = v^0_{x}\\ \\exp\\left(-\\frac{t}{\\tau}\\right)$$\n",
    "avec $v^0_{x}=v_x(t=0)\\cos(\\alpha)$ où $\\alpha$ est l'angle de tir et $v_x(t=0)$ la vitesse initiale suivant $(Ox)$. Le paramètre $\\tau=m/\\mu$ correspond au temps caractéristique de décroissance de la vitesse.\n",
    "\n",
    "- La composante verticale de la vitesse doit vérifier la relation suivante :\n",
    "$$v_y(t) = v^0_{y}\\ \\exp\\left(-\\frac{t}{\\tau}\\right)+v_{\\mathrm{lim}}\\left(1-\\exp\\left(-\\frac{t}{\\tau}\\right)\\right)$$\n",
    "avec $v^0_{y}=v_y(t=0)\\sin(\\alpha)$ et $v_{\\mathrm{lim}}=-\\tau g =\\lim_{t\\rightarrow\\infty}v_y(t)$ représente l'asymptote verticale de la vitesse."
   ]
  },
  {
   "cell_type": "markdown",
   "metadata": {},
   "source": [
    "> A l'aide d'un ajustement linéaire de $\\ln(v_x)$ en fonction de $t$, déduire la valeur numérique de $\\tau$ :"
   ]
  },
  {
   "cell_type": "markdown",
   "metadata": {},
   "source": [
    "> $$\\ln(v_x) = \\ln(v_x^0) - \\frac{t}{\\tau}=a_0+a_1\\ t$$"
   ]
  },
  {
   "cell_type": "code",
   "execution_count": null,
   "metadata": {},
   "outputs": [],
   "source": [
    "from scipy.optimize import curve_fit\n",
    "from numpy import ones, sqrt\n",
    "\n",
    "def fmodel(x,a0,a1):\n",
    "    return a0 + a1*x\n",
    "\n",
    "# standard error is set to 1 in this example\n",
    "sig = ones((len(tv)))\n",
    "\n",
    "# call curve_fit to obtain the optimized coefficients and covariance\n",
    "popt, pcov = curve_fit(f=fmodel, xdata=tv, ydata=log(vx), sigma=sig)\n",
    "\n",
    "# extract optimized coefficients\n",
    "[a0, a1] = popt\n",
    "\n",
    "# extract standard deviation errors\n",
    "sa0 = sqrt(pcov[0,0])\n",
    "sa1 = sqrt(pcov[1,1])\n",
    "\n",
    "print('a0 = %.4f +/- %.4f'%(a0,sa0))\n",
    "print('a1 = %.4f +/- %.4f'%(a1,sa1))\n",
    "\n",
    "tau = -1/a1\n",
    "print('tau= %.4f s'%(tau))"
   ]
  },
  {
   "cell_type": "markdown",
   "metadata": {},
   "source": [
    "> Tracer la droite  de regression "
   ]
  },
  {
   "cell_type": "code",
   "execution_count": null,
   "metadata": {},
   "outputs": [],
   "source": [
    "from numpy import linspace, arange\n",
    "\n",
    "tv_model = linspace(min(tv),max(tv),128)\n",
    "vx_model = fmodel(x=tv_model,a0=a0,a1=a1)\n",
    "\n",
    "plt.plot(tv,      log(vx),       marker='o', color='black', linestyle='', markersize=4, label='exp. data')\n",
    "plt.plot(tv_model,vx_model,      marker= '', color='blue',  linestyle='-',\n",
    "         label='linear regression $\\ln(v_x(t))= %.3f %.3f t$'%(a0,a1))\n",
    "plt.ylabel(\"$\\log(v_x)$\")\n",
    "plt.xlabel(\"$t$ (s)\")\n",
    "\n",
    "plt.legend()\n",
    "#plt.savefig('figure_x.png', dpi=300, format='png', transparent=True)"
   ]
  },
  {
   "cell_type": "markdown",
   "metadata": {},
   "source": [
    "> Tracer la partie non constante de la composante verticale de la vitesse du ballon : $v_{\\mathrm{cst}}=v_y(t)-v_{\\mathrm{lim}}=v_y(t)+g\\tau$. On créera un tableau `vy_cst` à cet effet."
   ]
  },
  {
   "cell_type": "code",
   "execution_count": null,
   "metadata": {},
   "outputs": [],
   "source": [
    "from scipy.constants import g\n",
    "\n",
    "vy_cst = vy + g*tau\n",
    "\n",
    "plt.plot(tv,vy_cst,linestyle='', marker='o', markersize=2, color='orange', linewidth=1.5, label='$v_x(t)$')\n",
    "plt.xlabel('$t$ (s)')\n",
    "plt.ylabel('$v_y(t) - v_\\mathrm{lim}$ (m/s)')"
   ]
  },
  {
   "cell_type": "markdown",
   "metadata": {},
   "source": [
    "> Tracer la partie non constante de la composante verticale de la vitesse du ballon en échelle semi-logarithmique, ie. $\\log(v_y(t) - v_\\mathrm{lim})$ en fonction de $t$"
   ]
  },
  {
   "cell_type": "code",
   "execution_count": null,
   "metadata": {},
   "outputs": [],
   "source": [
    "plt.plot(tv,log(vy_cst),linestyle='', marker='o', markersize=2, color='orange', linewidth=1.5, label='$v_x(t)$')\n",
    "plt.xlabel('$t$ (s)')\n",
    "plt.ylabel('$\\ln(v_y(t) - v_\\mathrm{lim})$')"
   ]
  },
  {
   "cell_type": "markdown",
   "metadata": {},
   "source": [
    "> A l'aide d'un ajustement linéaire de $\\ln(v_y(t) - v_\\mathrm{lim})$ en fonction de $t$, déduire la valeur numérique de $\\tau$ :"
   ]
  },
  {
   "cell_type": "markdown",
   "metadata": {},
   "source": [
    "> $$\\ln\\left(v_y(t) - v_\\mathrm{lim}\\right) = \\ln\\left(v_x^0-v_\\mathrm{lim}\\right) - \\frac{t}{\\tau}=a_0+a_1\\ t$$"
   ]
  },
  {
   "cell_type": "code",
   "execution_count": null,
   "metadata": {},
   "outputs": [],
   "source": [
    "from scipy.optimize import curve_fit\n",
    "from numpy import ones, sqrt\n",
    "\n",
    "def fmodel(x,a0,a1):\n",
    "    return a0 + a1*x\n",
    "\n",
    "# standard error is set to 1 in this example\n",
    "sig = ones((len(tv)))\n",
    "\n",
    "# call curve_fit to obtain the optimized coefficients and covariance\n",
    "popt, pcov = curve_fit(f=fmodel, xdata=tv, ydata=log(vy_cst), sigma=sig)\n",
    "\n",
    "# extract optimized coefficients\n",
    "[a0, a1] = popt\n",
    "\n",
    "# extract standard deviation errors\n",
    "sa0 = sqrt(pcov[0,0])\n",
    "sa1 = sqrt(pcov[1,1])\n",
    "\n",
    "print('a0 = %.4f +/- %.4f'%(a0,sa0))\n",
    "print('a1 = %.4f +/- %.4f'%(a1,sa1))\n",
    "\n",
    "tau = -1/a1\n",
    "print('tau= %.4f s'%(tau))"
   ]
  },
  {
   "cell_type": "markdown",
   "metadata": {},
   "source": [
    "> Tracer la droite  de régression "
   ]
  },
  {
   "cell_type": "code",
   "execution_count": null,
   "metadata": {},
   "outputs": [],
   "source": [
    "from numpy import linspace, arange\n",
    "\n",
    "tv_model = linspace(min(tv),max(tv),128)\n",
    "vc_model = fmodel(x=tv_model,a0=a0,a1=a1)\n",
    "\n",
    "plt.plot(tv,  log(vy_cst),       marker='o', color='black', linestyle='', markersize=4, label='exp. data')\n",
    "plt.plot(tv_model,vc_model,      marker= '', color='blue',  linestyle='-',\n",
    "         label='linear regression $\\ln(v_x(t))= %.3f %.3f t$'%(a0,a1))\n",
    "plt.ylabel(\"$\\log(v_\\mathrm{cst})$\")\n",
    "plt.xlabel(\"$t$ (s)\")\n",
    "\n",
    "plt.legend()\n",
    "#plt.savefig('figure_2.png', dpi=300, format='png', transparent=True)"
   ]
  },
  {
   "cell_type": "markdown",
   "metadata": {
    "id": "O8OHxE2reuW6"
   },
   "source": [
    "<hr style=\"border:1px solid grey\">"
   ]
  },
  {
   "cell_type": "markdown",
   "metadata": {},
   "source": [
    "### <hr style=\"border:1px solid black\"> Pour aller plus loin <hr style=\"border:1px solid black\">"
   ]
  },
  {
   "cell_type": "markdown",
   "metadata": {},
   "source": [
    "> Tracer l'hodographe $(v_x,v_y)$"
   ]
  },
  {
   "cell_type": "code",
   "execution_count": null,
   "metadata": {},
   "outputs": [],
   "source": [
    "import matplotlib.pyplot as plt\n",
    "\n",
    "plt.plot(vx,vy,linestyle='', marker='o', markersize=2, color='orange', linewidth=1.5, label='$v_x(t)$')\n",
    "plt.xlabel('$v_x$ (m/s)')\n",
    "plt.ylabel('$v_y$ (m/s)')"
   ]
  },
  {
   "cell_type": "markdown",
   "metadata": {},
   "source": [
    "Ce dernier hodographe devrait être une droite, de même que la loi $\\ln (v_x(t))$ tracée plus haut.\n",
    "Dans le cas d'un ballon de rugby, la force de frottement est en fait une force de trainée en $-v^2$, ie. $\\vec f=-\\rho S C_x |v| \\vec v$ avec $\\rho$ densité de l'atmosphère, $S$ surface en contact et $C_x$ le coefficient de trainée. "
   ]
  }
 ],
 "metadata": {
  "celltoolbar": "Diaporama",
  "colab": {
   "include_colab_link": true,
   "provenance": []
  },
  "kernelspec": {
   "display_name": "Python 3 (ipykernel)",
   "language": "python",
   "name": "python3"
  },
  "language_info": {
   "codemirror_mode": {
    "name": "ipython",
    "version": 3
   },
   "file_extension": ".py",
   "mimetype": "text/x-python",
   "name": "python",
   "nbconvert_exporter": "python",
   "pygments_lexer": "ipython3",
   "version": "3.9.13"
  }
 },
 "nbformat": 4,
 "nbformat_minor": 1
}
