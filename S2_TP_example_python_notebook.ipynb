{
 "cells": [
  {
   "cell_type": "markdown",
   "id": "018c7f7e",
   "metadata": {
    "slideshow": {
     "slide_type": "slide"
    }
   },
   "source": [
    "# <span style=\"color:blue\"> <center>Student / TD3 : 4TPU279U $-$ Bachelor 1st year $-$ spring 2023</center></span>\n",
    "# <center>Introduction to python programming</center>\n",
    "# <hr style=\"border:1px solid black\"><center>   Survival guide for practical work </center><hr style=\"border:1px solid black\">\n",
    "</br>\n",
    "\n",
    "<div style=\"text-align: right\"> Credits: R. Boisgard, L. Truflandier, Philippe Paillou, Julien Burgin, Sara Zein, Leo Delmarre, Simon Villain-Guillot </div>"
   ]
  },
  {
   "cell_type": "markdown",
   "id": "223e4881",
   "metadata": {},
   "source": [
    "Given an example, in this survival guide we will:\n",
    "\n",
    "1. Plot the data using python. Add axis labels, units, legend.\n",
    "2. Fit a linear model to the data. \n",
    "3. Superimpose this line on the plot and save the figure.\n",
    "4. Use the linear model equation"
   ]
  },
  {
   "cell_type": "markdown",
   "id": "7cffd215",
   "metadata": {},
   "source": [
    "### Example"
   ]
  },
  {
   "cell_type": "markdown",
   "id": "c859430c",
   "metadata": {},
   "source": [
    "In water-resources engineering, the sizing of reservoirs depends on accurate estimates of\n",
    "water flow in the river that is being impounded. For some rivers, long-term historical\n",
    "records of such flow data are difficult to obtain. In contrast, meteorological data on\n",
    "precipitation are often available for many years past. Therefore, it is often useful to\n",
    "determine a relationship between flow and precipitation. This relationship can then be\n",
    "used to estimate flows for years when only precipitation measurements were made. The\n",
    "following data are available for a river: [<sup>1</sup>](#fn1)\n",
    "\n",
    "*Dans le domaine de l'ingénierie des ressources en eau, le dimensionnement des réservoirs dépend d'une estimation précise du débit de la rivière que l'on considère. Pour certains cours d'eau, il est difficile d'obtenir des enregistrements historiques à long terme du débit. En revanche, les données météorologiques sur les précipitations sont souvent disponibles pour de plus longues périodes. Par conséquent, il est souvent utile de déterminer une relation entre le débit et les précipitations. Cette relation peut alors être utilisée pour estimer les débits pour les années où seules les précipitations ont été mesurées. Les données suivantes sont disponibles pour une rivière :*\n",
    "\n",
    "Precip. (cm/yr)|  88.9 | 108.5 | 104.1 | 139.7 | 127.0 | 94.0 | 116.8 | 99.1 |\n",
    "---------------|-------|-------|-------|-------|-------|------|-------|------|\n",
    "Flow (m$^3$/s) |  14.6 |  16.7 |  15.3 |  23.2 |  19.5 | 16.1 |  18.1 | 16.6 |\n",
    "\n",
    "\n",
    "\n",
    "<span id=\"fn1\"> $^1$ Example taken from *Applied Numerical Methods with MATLAB* by S. C. Chapra.</span>"
   ]
  },
  {
   "cell_type": "markdown",
   "id": "2bfbc898",
   "metadata": {},
   "source": [
    "### <hr style=\"border:1px solid black\"> Load the data <hr style=\"border:1px solid black\">"
   ]
  },
  {
   "cell_type": "markdown",
   "id": "8d51f3d7",
   "metadata": {},
   "source": [
    "#### Create numpy array with the raw data\n",
    "\n",
    "> Here we first create list using the data which will be converted to `numpy arrays`\n",
    "\n",
    "> Warning : we used English floating-point notation !"
   ]
  },
  {
   "cell_type": "code",
   "execution_count": null,
   "id": "fdcad95a",
   "metadata": {},
   "outputs": [],
   "source": [
    "from numpy import array\n",
    "\n",
    "prec = [88.9, 108.5, 104.1, 139.7, 127.0, 94.0, 116.8, 99.1]\n",
    "flow = [14.6,  16.7,  15.3,  23.2,  19.5, 16.1,  18.1, 16.6]\n",
    "\n",
    "x = array(prec)\n",
    "y = array(flow)"
   ]
  },
  {
   "cell_type": "markdown",
   "id": "11e55071",
   "metadata": {},
   "source": [
    "#### ... or load the data from a file using python intrinsic function"
   ]
  },
  {
   "cell_type": "code",
   "execution_count": null,
   "id": "684e4c6a",
   "metadata": {},
   "outputs": [],
   "source": [
    "file = open('data_examples/prec_flow.csv','r')\n",
    "file.readline()\n",
    "\n",
    "x = [ ] ; y = [ ]\n",
    "for line in file:\n",
    "    words = line.split(',')\n",
    "    x.append( float(words[0]) )\n",
    "    y.append( float(words[1]) )\n",
    "print(prec)\n",
    "print()\n",
    "print(flow)"
   ]
  },
  {
   "cell_type": "markdown",
   "id": "2232c0ab",
   "metadata": {},
   "source": [
    "#### ... or load the data from a file using pandas"
   ]
  },
  {
   "cell_type": "code",
   "execution_count": null,
   "id": "19003b0b",
   "metadata": {},
   "outputs": [],
   "source": [
    "from pandas import read_csv\n",
    "\n",
    "data_pandas = read_csv('data_examples/prec_flow.csv')\n",
    "print(data_pandas)\n",
    "#data_numpy_array = data_pandas.to_numpy()\n",
    "#x = data_numpy_array[:,0]\n",
    "#y = data_numpy_array[:,1]"
   ]
  },
  {
   "cell_type": "markdown",
   "id": "49923831",
   "metadata": {},
   "source": [
    "### <hr style=\"border:1px solid black\"> Plot the graphics <hr style=\"border:1px solid black\">"
   ]
  },
  {
   "cell_type": "markdown",
   "id": "2c9117a1",
   "metadata": {},
   "source": [
    "#### Using Matplotlib"
   ]
  },
  {
   "cell_type": "code",
   "execution_count": null,
   "id": "5b15a766",
   "metadata": {},
   "outputs": [],
   "source": [
    "import matplotlib.pylab as plt\n",
    "\n",
    "plt.plot(x,y,marker='o',color='black', linestyle='')\n",
    "plt.xlabel(\"Precipitation (cm/yr)\")\n",
    "plt.ylabel(\"Flow (m$^3$/s)\")\n",
    "\n",
    "plt.xticks(arange(min(x)+1.1,max(x)+1,5))\n",
    "plt.yticks(arange(min(y)+0.4,max(y),1))\n",
    "plt.title('Water flow as a function of precipitation')\n",
    "\n",
    "#plt.xlim()\n",
    "#plt.ylim()"
   ]
  },
  {
   "cell_type": "markdown",
   "id": "402eb4c0",
   "metadata": {},
   "source": [
    "#### Using Pandas"
   ]
  },
  {
   "cell_type": "markdown",
   "id": "97a63d17",
   "metadata": {},
   "source": [
    "> Pandas can be used to performed plot with the function [`DataFrame.plot`](https://pandas.pydata.org/docs/reference/api/pandas.DataFrame.plot.html)"
   ]
  },
  {
   "cell_type": "code",
   "execution_count": null,
   "id": "fd4212d0",
   "metadata": {},
   "outputs": [],
   "source": [
    "data_pandas.plot(x='prec',y='flow',kind='scatter',color='black')"
   ]
  },
  {
   "cell_type": "markdown",
   "id": "dc1c4c2d",
   "metadata": {},
   "source": [
    "### <hr style=\"border:1px solid black\"> Perform a linear fit <hr style=\"border:1px solid black\">\n",
    "\n",
    "> The fit is performed using `curve_fit` from the library `scipy.optimize`\n",
    "\n",
    "> Given a the data points $\\{x_i,y_i\\}^N_{i=1}$, the standard error $\\{\\sigma_i\\}^N_{i=1}$ on $\\{y_i\\}^N_{i=1}$ and the model function $f_\\textrm{model}(x;a_0,a_1,...a_m)$ where $\\{a_k\\}_{k=1}^m$ are the coefficient to optimized. Given $\\chi^2$:\n",
    "$$\\chi^2=\\sum_{i=1}^{N}\\frac{\\left[y_i-f_\\textrm{model}\\left(x_i;a_0,a_1,...a_m\\right)\\right]^2}{\\sigma^2_i}$$\n",
    "`curve_fit`perform the $\\chi^2$ minimization with respect to these coefficients."
   ]
  },
  {
   "cell_type": "markdown",
   "id": "8753b336",
   "metadata": {},
   "source": [
    "First we define the model function ; in this case a linear function: $f(x)=a_0 +a_1x$"
   ]
  },
  {
   "cell_type": "code",
   "execution_count": null,
   "id": "95788094",
   "metadata": {},
   "outputs": [],
   "source": [
    "def fmodel(x,a0,a1):\n",
    "    return a0 + a1*x"
   ]
  },
  {
   "cell_type": "markdown",
   "id": "d7f7c0ca",
   "metadata": {},
   "source": [
    "Then we call the function `curve_fit` \n",
    "\n",
    "> with inputs $(f_\\textrm{model},x,y,\\sigma)$. \n",
    "\n",
    "> In output we have the optimal values for the coefficients (`popt`) and the (co)variance (`pcov`) of the coefficient estimates."
   ]
  },
  {
   "cell_type": "code",
   "execution_count": null,
   "id": "aece8595",
   "metadata": {},
   "outputs": [],
   "source": [
    "from scipy.optimize import curve_fit\n",
    "from numpy import ones, sqrt\n",
    "\n",
    "# standard error is set to 1 in this example\n",
    "sig = ones((len(x)))\n",
    "\n",
    "# call curve_fit to obtain the optimized coefficients and covariance\n",
    "popt, pcov = curve_fit(f=fmodel, xdata=x, ydata=y, sigma=sig)\n",
    "\n",
    "# extract optimized coefficients\n",
    "[a0, a1] = popt\n",
    "\n",
    "# extract standard deviation errors\n",
    "sa0 = sqrt(pcov[0,0])\n",
    "sa1 = sqrt(pcov[1,1])\n",
    "\n",
    "print('a0 = %.4f +/- %.4f'%(a0,sa0))\n",
    "print('a1 = %.4f +/- %.4f'%(a1,sa1))"
   ]
  },
  {
   "cell_type": "markdown",
   "id": "14f38cf9",
   "metadata": {},
   "source": [
    "### <hr style=\"border:1px solid black\"> Plot the linear model <hr style=\"border:1px solid black\">"
   ]
  },
  {
   "cell_type": "markdown",
   "id": "33077d49",
   "metadata": {},
   "source": [
    "Given $x_\\textrm{model}\\in[\\min(x),\\max(x)]$ with $N=128$ compute $y_\\textrm{model}=f_\\textrm{model}(x_\\textrm{model};a_0,a_1)$ "
   ]
  },
  {
   "cell_type": "code",
   "execution_count": null,
   "id": "b55ae2dd",
   "metadata": {},
   "outputs": [],
   "source": [
    "from numpy import linspace\n",
    "\n",
    "x_model = linspace(min(x),max(x),128)\n",
    "y_model = fmodel(x=x_model,a0=a0,a1=a1)"
   ]
  },
  {
   "cell_type": "markdown",
   "id": "cf6ed487",
   "metadata": {},
   "source": [
    "Plot the experimental data and the linear model function ; save the figure"
   ]
  },
  {
   "cell_type": "code",
   "execution_count": null,
   "id": "c8bf4819",
   "metadata": {},
   "outputs": [],
   "source": [
    "import matplotlib.pylab as plt\n",
    "\n",
    "plt.plot(x,      y,       marker='o', color='black', linestyle='', label='exp. data')\n",
    "plt.plot(x_model,y_model, marker= '', color='blue',  linestyle='-',\n",
    "         label='linear regression with $f(x)= %.3f + %.3f x$'%(a0,a1))\n",
    "\n",
    "plt.xlabel(\"Precipitation (cm/yr)\")\n",
    "plt.ylabel(\"Flow (m$^3$/s)\")\n",
    "\n",
    "plt.xticks(arange(min(x)+1.1,max(x)+1,5))\n",
    "plt.yticks(arange(min(y)+0.4,max(y),1))\n",
    "\n",
    "plt.legend()\n",
    "plt.title('Water flow as a function of precipitation')\n",
    "\n",
    "plt.savefig('figure_prec_flow.png', dpi=300, format='png', transparent=True)"
   ]
  },
  {
   "cell_type": "markdown",
   "id": "9379a3b6",
   "metadata": {},
   "source": [
    "### <hr style=\"border:1px solid black\"> Use the linear model <hr style=\"border:1px solid black\">\n",
    "\n",
    "Evaluate the annual water flow if the precipitation is 120 cm/year."
   ]
  },
  {
   "cell_type": "code",
   "execution_count": null,
   "id": "527151f4",
   "metadata": {},
   "outputs": [],
   "source": [
    "prec = 120\n",
    "flow = fmodel(x=prec,a0=a0,a1=a1)\n",
    "print('flow = %.4f m^3/s for prec. = %.4f'%(prec,flow))"
   ]
  }
 ],
 "metadata": {
  "kernelspec": {
   "display_name": "Python 3 (ipykernel)",
   "language": "python",
   "name": "python3"
  },
  "language_info": {
   "codemirror_mode": {
    "name": "ipython",
    "version": 3
   },
   "file_extension": ".py",
   "mimetype": "text/x-python",
   "name": "python",
   "nbconvert_exporter": "python",
   "pygments_lexer": "ipython3",
   "version": "3.9.13"
  }
 },
 "nbformat": 4,
 "nbformat_minor": 5
}
