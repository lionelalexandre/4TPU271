{
 "cells": [
  {
   "cell_type": "markdown",
   "metadata": {
    "id": "F1WI4b8ShUv1"
   },
   "source": [
    "# <span style=\"color:blue\"> <center>Teacher / TD5 : 4TPU279U $-$ Bachelor 1st year $-$ spring 2023</center></span>\n",
    "# <center>Introduction to python programming</center>\n",
    "# <hr style=\"border:1px solid black\"><center>  Integration of movement equations </center><hr style=\"border:1px solid black\">\n",
    "</br>\n",
    "\n",
    "<div style=\"text-align: right\"> L. Truflandier, Simon Villain-Guillot </div>\n"
   ]
  },
  {
   "cell_type": "markdown",
   "metadata": {},
   "source": [
    "The following topics will be cover in this notebook:\n",
    "- Equations of dynamics for plane motion\n",
    "- Gravitational fields and uniform circular motion  \n",
    "- Gravitational fields and elliptical motion"
   ]
  },
  {
   "cell_type": "markdown",
   "metadata": {},
   "source": [
    "<hr style=\"border:1px solid grey\">"
   ]
  },
  {
   "cell_type": "markdown",
   "metadata": {},
   "source": [
    "### <hr style=\"border:1px solid black\">  Equations of dynamics for plane motion <hr style=\"border:1px solid black\">"
   ]
  },
  {
   "cell_type": "markdown",
   "metadata": {},
   "source": [
    "The aim here is to construct the trajectories of material points subjected to various forces (spring, weight, friction, gravity) numerically, i.e. without analytically solving the differential equations of dynamics:\n",
    "\n",
    "$$\\begin{align}\n",
    "\\vec f &=m \\vec a =m \\frac {d \\vec v}{dt}\\quad\\quad\\\\\n",
    "\\vec v &= \\frac {d \\vec r}{dt}\n",
    "\\end{align}$$\n",
    "\n",
    "with $\\vec{v}$ the velocity vector with coordinates $(v_x,v_y,v_z)$ and $\\vec{r}$ the position vector with coordinates $(x,y,z)$. Using Euler's method, cf. ***equation*** $\\textcolor{green}{(6)}$ of previous notebook, the calculation of $\\vec{v}$ and $\\vec{r}$ can be obtained by the following recurrence:\n",
    "\n",
    "$$\\begin{align}\n",
    "\\vec{r}(t_{i+1}) &= \\vec{r}(t_i) + h\\ \\vec{v}(t_i)\\\\\n",
    "\\vec{v}(t_{i+1}) &= \\vec{v}(t_i) + \\frac{h}{m}\\vec{f}(t_i)\n",
    "\\end{align}$$\n",
    "\n",
    "with $h=t_{i+1}-t_{i}$ the integration step of the equations of motion. In the case of plane motion, \n",
    "we have :\n",
    "\n",
    "$$\\begin{align}\n",
    "  \\vec{r}= & \\begin{pmatrix}\n",
    "           x \\\\\n",
    "           y \\\\\n",
    "           0 \\\\\n",
    "         \\end{pmatrix},\\quad\n",
    "  \\vec{v}=  \\begin{pmatrix}\n",
    "           v_x \\\\\n",
    "           v_y \\\\\n",
    "           0 \\\\\n",
    "         \\end{pmatrix},\\quad\n",
    "  \\vec{f}=  \\begin{pmatrix}\n",
    "           f_x \\\\\n",
    "           f_y \\\\\n",
    "           0 \\\\\n",
    "         \\end{pmatrix}\n",
    "  \\end{align}$$ \n",
    "\n",
    "From the numerical integration of the equations of motion discussed in the previous notebook, and more specifically from the \n",
    "the Hooke-Newton algorithm, we obtain the following 2 recurrence relations for position: \n",
    "\n",
    "$$\\begin{align}\n",
    "x(t_{i+1})   &= x(t_i) + h\\;v_x(t_i)\\\\ \n",
    "y(t_{i+1})   &= y(t_i) + h\\;v_y(t_i)\\\\ \n",
    "\\end{align}$$\n",
    "\n",
    "and the following 2 relations for velocity:\n",
    "\n",
    "$$\\begin{align}\n",
    "v_x(t_{i+1}) &= v_x(t_i)+\\frac{h}m f_x\\left(x(t_{i+1}),y(t_{i+1})\\right) \\\\ \n",
    "v_y(t_{i+1}) &= v_y(t_i)+\\frac{h}m f_y\\left(x(t_{i+1}),y(t_{i+1})\\right) \\\\ \n",
    "\\end{align}$$"
   ]
  },
  {
   "cell_type": "markdown",
   "metadata": {},
   "source": [
    "### <hr style=\"border:1px solid black\">  Champs gravitationnel et mouvement circulaire uniforme <hr style=\"border:1px solid black\">"
   ]
  },
  {
   "cell_type": "markdown",
   "metadata": {},
   "source": [
    "> We wish to study the motion of an object of mass $m$ orbiting the sun and subject to Newton's gravitational force:\n",
    "$$\\vec f=-G\\frac{Mm}{r^3}\\vec r\\quad\\quad\\textcolor{green}{(1)}$$\n",
    "with $G$ the gravitational constant (m$^3$kg$^{-1}$s$^{-2}$) and $M$ the mass of the sun.\n",
    "The unit of time will be the year $T$ and the unit of distance the astronomical unit (AU), with 1 AU = distance earth - sun (m). In this system of units :\n",
    "$$\\vec f=-\\frac{km}{r^3}\\vec r  \\quad\\text{avec}\\quad k=\\frac{GM}{\\text{ua}^3}T^2\\simeq (2\\pi)^2$$"
   ]
  },
  {
   "cell_type": "markdown",
   "metadata": {},
   "source": [
    "##### Exercise 5.1 : Gauss constant <hr style=\"border:1px solid grey\">\n",
    "\n",
    "Demonstrate numerically that $\\sqrt{k}\\simeq 2\\pi$. Use the physical constants `gravitational_constant` (ou `G`) et `astronomical_unit` (ou `au`) de la librairie `scipy.constants` avec la masse du soleil $M=1.9884\\times 10^{30}$ kg."
   ]
  },
  {
   "cell_type": "code",
   "execution_count": null,
   "metadata": {},
   "outputs": [],
   "source": [
    "from scipy.constants import au, G, pi\n",
    "from scipy.constants import Julian_year as T\n",
    "from numpy import sqrt"
   ]
  },
  {
   "cell_type": "markdown",
   "metadata": {},
   "source": [
    "<hr style=\"border:1px solid grey\">"
   ]
  },
  {
   "cell_type": "markdown",
   "metadata": {},
   "source": [
    "> To obtain a circular trajectory, we will assume initial conditions such as :\n",
    "$$Ec=\\frac{|Ep|}2=\\frac 12 \\frac{km}{r}=\\frac 12 \\frac{(2\\pi)^2m}r$$\n",
    "with, for $m=1$ kg: $r_0=1$ ua and $v_0=2\\pi$ ua/year. "
   ]
  },
  {
   "cell_type": "markdown",
   "metadata": {},
   "source": [
    "##### Exercise 5.2 : circular orbit <hr style=\"border:1px solid grey\">"
   ]
  },
  {
   "cell_type": "markdown",
   "metadata": {},
   "source": [
    "1. Use the Hook-Newton algorithm to simulate the object's trajectory around the sun.\n",
    "- We will discretize $t$ over one year with a step $h=0.001$, ie. $t\\in[t_\\text{min},t_\\text{max}]$ avec\n",
    "$t_\\text{min} = 0$ et $t_\\text{max} = 1$.\n",
    "- The components of the position $(x_0,y_0)=(1,0)$.\n",
    "- The initial velocity components are $(v^0_x,v^0_y)=(0,2\\pi)$.\n",
    "- The force components $(f_x(t),f_y(t))$ are given by:\n",
    "$$f_x\\left(x,y\\right)=-\\frac{km}{r^3}x\\quad\\mathrm{et}\\quad f_y\\left(x,y\\right)=-\\frac{km}{r^3}y\\quad\\mathrm{avec}\\quad r=\\sqrt{\\left(x^2+y^2\\right)}$$\n",
    "We will write 2 functions `fx`and `fy` for this purpose. "
   ]
  },
  {
   "cell_type": "code",
   "execution_count": null,
   "metadata": {},
   "outputs": [],
   "source": [
    "from numpy import arange, pi\n",
    "\n",
    "m   = 1\n",
    "x0  = 1.0\n",
    "y0  = 0.0\n",
    "\n",
    "# orbite circulaire\n",
    "vx0 = 0.0\n",
    "vy0 = 2.*pi\n",
    "tmin = 0.0\n",
    "tmax = 1.0\n",
    "\n",
    "h    = 0.001\n",
    "t    = arange(tmin,tmax+h,h)"
   ]
  },
  {
   "cell_type": "code",
   "execution_count": null,
   "metadata": {},
   "outputs": [],
   "source": [
    "from numpy import pi, arange, zeros, sqrt"
   ]
  },
  {
   "cell_type": "markdown",
   "metadata": {},
   "source": [
    "2. Plot the variation of $v_x$ and $v_y$ as a function of time and compare with the anaytical solutions $v_x(t) = -r\\omega_0\\sin(\\omega_0 t)$ and $v_x(t) = +r\\omega_0\\cos(\\omega_0 t)$ with $w = v_0/r_0 $."
   ]
  },
  {
   "cell_type": "code",
   "execution_count": null,
   "metadata": {},
   "outputs": [],
   "source": [
    "import matplotlib.pylab as plt"
   ]
  },
  {
   "cell_type": "markdown",
   "metadata": {},
   "source": [
    "3. Plot the trajectory $(x(t),y(t))$ and initial conditions $(x_0(t),y_0(t))$. Add a circle of radius r = 1 and a marker describing the position of the sun."
   ]
  },
  {
   "cell_type": "code",
   "execution_count": null,
   "metadata": {},
   "outputs": [],
   "source": [
    "import matplotlib.pylab as plt\n",
    "from numpy import linspace"
   ]
  },
  {
   "cell_type": "markdown",
   "metadata": {},
   "source": [
    "4. Graph $x$, $y$ and $r=\\sqrt{x^2+y^2}$ as a function of $t$."
   ]
  },
  {
   "cell_type": "code",
   "execution_count": null,
   "metadata": {},
   "outputs": [],
   "source": []
  },
  {
   "cell_type": "markdown",
   "metadata": {},
   "source": [
    "5. Plot $v_x$, $v_y$ and $v=\\sqrt{v_x^2+v_y^2}$ versus $t$. Calculate the time-averaged value of $v$ and its standard deviation. What will happen if we reduce the time step $h$ and run the simulation again?"
   ]
  },
  {
   "cell_type": "code",
   "execution_count": 1,
   "metadata": {},
   "outputs": [],
   "source": [
    "from numpy import mean, std"
   ]
  },
  {
   "cell_type": "markdown",
   "metadata": {},
   "source": [
    "<div class=\"alert alert-block alert-success\"> Plot of the positions and velocity vectors are also possible</div>"
   ]
  },
  {
   "cell_type": "markdown",
   "metadata": {},
   "source": [
    "> The `quiver` function of the `matplotlib.pyplot` library allow to plot vector fields. Given the $x$ and $y$ vector coordinates along with $v_x$ and $v_y$ velocity vectors, $\\forall(x_i,y_i)$ `quiver`will plot\n",
    "a vector of components $(v_{x_i},v_{y_i})$."
   ]
  },
  {
   "cell_type": "markdown",
   "metadata": {},
   "source": [
    "First we need to sample the trajectory to avoid to much overlapping. Below 1 configuration is backuped every 50 steps."
   ]
  },
  {
   "cell_type": "code",
   "execution_count": null,
   "metadata": {},
   "outputs": [],
   "source": [
    "x_sample  = [] ; y_sample  = []\n",
    "vx_sample = [] ; vy_sample = [] \n",
    "for i in range(0,len(vx),50):    \n",
    "    x_sample.append(x[i])\n",
    "    y_sample.append(y[i])\n",
    "    vx_sample.append(vx[i])\n",
    "    vy_sample.append(vy[i])"
   ]
  },
  {
   "cell_type": "code",
   "execution_count": null,
   "metadata": {},
   "outputs": [],
   "source": [
    "import numpy as np\n",
    "import matplotlib.pyplot as plt\n",
    "\n",
    "plt.quiver(x_sample, y_sample, vx_sample, vy_sample,units='xy')\n",
    "\n",
    "plt.plot(x_sample, y_sample, marker='o', linestyle='', markersize=5)\n",
    "plt.plot(x0,y0,marker='o',markersize=5, label='$(x_0,v_0)$', linestyle='', color='green')\n",
    "plt.plot(0, 0, marker='o',markersize=10,label='sun',         linestyle='', color='orange')\n",
    "plt.legend()"
   ]
  },
  {
   "cell_type": "markdown",
   "metadata": {},
   "source": [
    "6. Plot the potential energy $V$, the kinetic energy $T$, and the total energy $E=V+T$ as a function of $t$, with: $$V = -\\frac{km}{r}\\quad\\text{and}\\quad T = -\\frac{1}{2}mv^2$$."
   ]
  },
  {
   "cell_type": "code",
   "execution_count": null,
   "metadata": {},
   "outputs": [],
   "source": []
  },
  {
   "cell_type": "markdown",
   "metadata": {},
   "source": [
    "7. Calculer les moyennes temporelles $\\langle E_p\\rangle$, $\\langle E_c\\rangle$ et montrer que $\\langle E_p\\rangle/\\langle E_c\\rangle=-2$."
   ]
  },
  {
   "cell_type": "code",
   "execution_count": 2,
   "metadata": {},
   "outputs": [],
   "source": [
    "from numpy import mean"
   ]
  },
  {
   "cell_type": "markdown",
   "metadata": {},
   "source": [
    " <hr style=\"border:1px solid grey\">"
   ]
  },
  {
   "cell_type": "markdown",
   "metadata": {},
   "source": [
    "### <hr style=\"border:1px solid black\">  Gravitational fields and elliptical motion <hr style=\"border:1px solid black\">"
   ]
  },
  {
   "cell_type": "markdown",
   "metadata": {},
   "source": [
    "With a reference frame centered on the focus, the polar coordinate equation of an ellipse is given by:\n",
    "$$r(\\theta) = \\frac{(a-c)(a+c)}{a-c\\cos(\\theta)}\\quad\\textcolor{green}{(2)}$$\n",
    "with \n",
    "- $a$ the semi-major axis corresponding to the diameter of the ellipse's maximum length\n",
    "- $c$ the distance between the focus and the center of the ellipse"
   ]
  },
  {
   "cell_type": "markdown",
   "metadata": {},
   "source": [
    "> Calculation of the radius $r$ of the ellipse as a function of $\\theta$ for a complete period of revolution, i.e. $\\theta=[0,2\\pi]$ with $a=3$ and $c=2$ ua."
   ]
  },
  {
   "cell_type": "code",
   "execution_count": null,
   "metadata": {},
   "outputs": [],
   "source": [
    "from numpy import linspace, pi, cos\n",
    "\n",
    "a = 3.0\n",
    "c = 2.0\n",
    "theta = linspace(0,2*pi,256)\n",
    "r = (a - c)*(a + c)/(a - c*cos(theta))"
   ]
  },
  {
   "cell_type": "markdown",
   "metadata": {},
   "source": [
    "> Graphical representation of an ellipse in polar coordinates"
   ]
  },
  {
   "cell_type": "code",
   "execution_count": null,
   "metadata": {},
   "outputs": [],
   "source": [
    "import matplotlib.pylab as plt\n",
    "\n",
    "# Plot of the ellipse in polar coordinate\n",
    "plt.polar(theta,r)\n",
    "\n",
    "# Plot of the a distance\n",
    "plt.polar([0,0],[c,c+a],marker='',color='black')\n",
    "plt.text(-0.0,c+a/2,'$a$',fontsize=12)\n",
    "\n",
    "# Plot of the c distance\n",
    "plt.polar([0,0],[0,c],marker='',color='black')\n",
    "plt.text(-0.0,c/2,'$c$',fontsize=12)\n",
    "\n",
    "# Locating the focus of the ellipse\n",
    "plt.polar(0,0,marker='o', color='orange',label='foyer', linestyle='')\n",
    "\n",
    "#  Locating the center of the ellipse\n",
    "plt.polar(0,c,marker='o', color='green', label='centre',linestyle='')\n",
    "\n",
    "# Apogee location\n",
    "plt.polar(0,c+a ,marker='x',color='red', label='apogée', linestyle='')\n",
    "\n",
    "# Perigee location\n",
    "plt.polar(pi,a-c,marker='x',color='blue',label='périgée',linestyle='')\n",
    "\n",
    "plt.legend()"
   ]
  },
  {
   "cell_type": "markdown",
   "metadata": {},
   "source": [
    "Remarks :\n",
    "- The ***perigee*** is the point in the orbit closest to the focus. The perigee-focus distance is given by $d_{\\text{min}}$.\n",
    "- The ***apogee*** corresponds to the point in the orbit furthest from the focus. The apogee-focus distance is $d_{\\text{max}}$."
   ]
  },
  {
   "cell_type": "markdown",
   "metadata": {},
   "source": [
    "##### Exercise 5.3 :  Kepler's first law <hr style=\"border:1px solid grey\">"
   ]
  },
  {
   "cell_type": "markdown",
   "metadata": {},
   "source": [
    "Repeat ***Exercise 5.2*** with the following conditions:\n",
    "- We discretize $t$ over 4 years with a step of $h=0.001$\n",
    "- The initial position components are $(x_0,y_0)=(1,0)$\n",
    "- The initial velocity components are selected so that:\n",
    "$$\\frac{|V|}2<T<|V|$$ \n",
    "soit $r_0=1$ et $2\\pi <v_0 <\\sqrt 8\\pi$. Par exemple : $(v^0_x,v^0_y)=(0,2.5\\pi)$.\n",
    "\n",
    "Compare the results with those obtained for the circular orbit. And visually verify Kepler's first law: *The planets revolve around the Sun in elliptical orbits, with the Sun at one of the foci.*"
   ]
  },
  {
   "cell_type": "markdown",
   "metadata": {},
   "source": [
    "<span style=\"color:red\">**solution :** reprendre au début du notebook et modifier les conditions initiales sur $v^0_y$ ainsi que le $t_\\text{max}$.</span>"
   ]
  },
  {
   "cell_type": "markdown",
   "metadata": {},
   "source": [
    "<hr style=\"border:1px solid grey\">"
   ]
  },
  {
   "cell_type": "markdown",
   "metadata": {},
   "source": [
    "##### Exercise 5.4 : Kepler's third law  <hr style=\"border:1px solid grey\">"
   ]
  },
  {
   "cell_type": "markdown",
   "metadata": {},
   "source": [
    "1. Write an algorithm to calculate the maximum distance $d_{\\text{max}}$ between the focus (= the sun) and the ellipse."
   ]
  },
  {
   "cell_type": "code",
   "execution_count": null,
   "metadata": {},
   "outputs": [],
   "source": []
  },
  {
   "cell_type": "markdown",
   "metadata": {},
   "source": [
    "2. Write an algorithm to calculate the minimum distance $d_{\\text{min}}$ between the focus and the ellipse."
   ]
  },
  {
   "cell_type": "code",
   "execution_count": null,
   "metadata": {},
   "outputs": [],
   "source": []
  },
  {
   "cell_type": "markdown",
   "metadata": {},
   "source": [
    "3. Using $d_{\\text{min}}$ and $d_{\\text{min}}$ calculate the length of the semi-major axis $a$ of the ellipse."
   ]
  },
  {
   "cell_type": "code",
   "execution_count": null,
   "metadata": {},
   "outputs": [],
   "source": []
  },
  {
   "cell_type": "markdown",
   "metadata": {},
   "source": [
    "4. A partir de La troisième loi de Kepler qui relit la période $P$ de l'orbite au demi-grand axe par\n",
    "$a^3/P^2=k$, calculer $P$."
   ]
  },
  {
   "cell_type": "code",
   "execution_count": null,
   "metadata": {},
   "outputs": [],
   "source": []
  },
  {
   "cell_type": "markdown",
   "metadata": {},
   "source": [
    "5. Using the value of the period $P$ to discretize the time, i.e., $t\\in[0,P]$, while maintaining the previous initial conditions repeat ***Exercise 5.3***. Why is the virial theorem verified again?"
   ]
  },
  {
   "cell_type": "markdown",
   "metadata": {},
   "source": [
    "<span style=\"color:red\">**solution :** reprendre au début du notebook et modifier $t_\\text{max}=P$.</span>"
   ]
  },
  {
   "cell_type": "markdown",
   "metadata": {},
   "source": [
    "<hr style=\"border:1px solid grey\">"
   ]
  },
  {
   "cell_type": "markdown",
   "metadata": {},
   "source": [
    "> Kepler's second law states that the planet-sun vector ray sweeps over equal areas in equal times. This law can be written as follows:\n",
    "$$A(\\Delta t)=\\frac{||\\vec{L}||}{2m}\\Delta t=\\frac{1}{2}\\int^{t_1}_{t_0}r^2(t)\\dot\\theta(t)dt\\quad\\textcolor{green}{(3)}$$\n",
    "with $\\vec{L}$ the orbital angular momentum of the object of mass $m$ and $\\Delta t = t_1 -t_0$.\n",
    "\n",
    ">To verify this statement, we need to calculate the angular velocity $\\dot\\theta(t)={d\\theta}/{dt}$ at each instant $t$, then integrate the ***equation*** $\\textcolor{green}{(3)}$ numerically."
   ]
  },
  {
   "cell_type": "markdown",
   "metadata": {},
   "source": [
    "##### Exercise 5.6 : deuxième loi de Kepler"
   ]
  },
  {
   "cell_type": "markdown",
   "metadata": {},
   "source": [
    "1. Répresenter sur un graphique l'ellipse numérique ainsi que les 4 vecteurs $(r_0,r_1,r_2,r_3)$ associée aux temps $t_0=0$, $t_1=P/16$, $t_2=P/2$ et $t_3=7P/16$ "
   ]
  },
  {
   "cell_type": "code",
   "execution_count": null,
   "metadata": {},
   "outputs": [],
   "source": []
  },
  {
   "cell_type": "markdown",
   "metadata": {},
   "source": [
    "2. Between apogee and perigee, calculate $\\theta(t)$ from the coordinates $x$ and $y$ and plot the results."
   ]
  },
  {
   "cell_type": "code",
   "execution_count": null,
   "metadata": {},
   "outputs": [],
   "source": [
    "from numpy import arctan2, array"
   ]
  },
  {
   "cell_type": "markdown",
   "metadata": {},
   "source": [
    "3. Using the *centered* finite-difference approximation, calculate $\\dot\\theta(t)$. The values of $\\dot\\theta(t_0)$ and $\\dot\\theta(t_\\text{max})$ will be calculated using *progressive* finite differences."
   ]
  },
  {
   "cell_type": "code",
   "execution_count": null,
   "metadata": {},
   "outputs": [],
   "source": [
    "from numpy import zeros\n"
   ]
  },
  {
   "cell_type": "markdown",
   "metadata": {},
   "source": [
    "4. Intégrer $r^2d\\dot\\theta$ entre $t_0=0$ et $t_1=P/16$. Comparer à l'intégrale obtenue pour $t_2=P/2$ et $t_3=7P/16$."
   ]
  },
  {
   "cell_type": "code",
   "execution_count": null,
   "metadata": {},
   "outputs": [],
   "source": []
  }
 ],
 "metadata": {
  "celltoolbar": "Diaporama",
  "colab": {
   "provenance": []
  },
  "kernelspec": {
   "display_name": "Python 3 (ipykernel)",
   "language": "python",
   "name": "python3"
  },
  "language_info": {
   "codemirror_mode": {
    "name": "ipython",
    "version": 3
   },
   "file_extension": ".py",
   "mimetype": "text/x-python",
   "name": "python",
   "nbconvert_exporter": "python",
   "pygments_lexer": "ipython3",
   "version": "3.9.13"
  }
 },
 "nbformat": 4,
 "nbformat_minor": 1
}
