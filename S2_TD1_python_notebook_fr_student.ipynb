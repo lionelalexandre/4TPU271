{
 "cells": [
  {
   "cell_type": "markdown",
   "metadata": {},
   "source": [
    "# "
   ]
  },
  {
   "cell_type": "markdown",
   "metadata": {
    "id": "nv0Y9pmYeuWZ"
   },
   "source": [
    "# <span style=\"color:blue\"> <center>Student / TD1 : 4TPU279U $-$ Bachelor 1st year $-$ spring 2024</center></span>\n",
    "# <center> Introduction à la programmation Python </center>\n",
    "# <hr style=\"border:1px solid black\"><center> Notions de base </center><hr style=\"border:1px solid black\">\n",
    "</br>\n",
    "\n",
    "*Ce notebook a été préparé à l'aide de documents divers, la référence principale étant \"How to Think Like a Computer Scientist\" learning with python disponible en ligne [ici](http://www.openbookproject.net/thinkcs/archive/python/thinkcspy3e_abandoned/index.html). L'objectif de cette première session est de se familiariser avec la programmation de base en utilisant le langage `python`. Il y a deux points principaux : l'accès aux bases de la programmation et l'utilisation d'un langage formel tel que `python`.*\n",
    "\n",
    "</br>\n",
    "<div style=\"text-align: right\"> Credits: R. Boisgard, L. Truflandier, Philippe Paillou, Julien Burgin, Sara Zein, Leo Delmarre, Simon Villain-Guillot </div>\n"
   ]
  },
  {
   "cell_type": "markdown",
   "metadata": {
    "id": "WjQWi3fWeuWc"
   },
   "source": [
    "Dans toutes les langues, il existe des règles à respecter pour communiquer et se comprendre. Dans le langage naturel (parler/écrire), ces règles peuvent évoluer. Lorsqu'elles ne sont pas respectées (fautes d'orthographe ou défaut de prononciation), nous avons tendance à interpréter le message. Les langages formels sont conçus pour des applications spécifiques et possèdent généralement une syntaxe très stricte. Les mathématiques, la physique et la chimie ont tous une syntaxe formelle. La syntaxe formelle peut également présenter quelques variantes, mais le résultat positif suite à l'interprétation d'une syntaxe formelle inefficace est beaucoup plus réduit que dans le cas du langage naturel. Python est qualifié de langage interprété de haut niveau qui permet de manipuler des objets abstraits. Néanmoins, une syntaxe stricte doit être respectée afin d'éviter l'\"erreur syntaxique\" communément rencontrée. \n",
    "\n",
    "Un programme est une séquence de déclarations ou d'instructions qui suit un ordre *logique*. Les programmes sont écrits pour effectuer des calculs ou/et traiter des données. La programmation et les mathématiques sont étroitement liées par la notion d'algorithme. Les algorithmes constituent le cœur d'un programme. Ils sont construits à partir de concepts de base qui seront décrits plus loin dans ce document. À partir d'une *entrée*, ils procèdent à un ensemble fini d'instructions pour produire une *sortie*.\n",
    "(à compléter)\n",
    "\n",
    "Les sujets suivants seront abordés dans ce notebook :\n",
    "\n",
    "0. Installation de python\n",
    "1. Essayer la console ! \n",
    "2. Types de base, affectation et opérateurs\n",
    "3. Types de séquence\n",
    "4. Constructions de base"
   ]
  },
  {
   "cell_type": "markdown",
   "metadata": {
    "id": "M2CEBhD5euWd"
   },
   "source": [
    "## <hr style=\"border:1px solid black\">  Installation de python  <hr style=\"border:1px solid black\">\n",
    "\n",
    "Selon votre système d'exploitation (LINUX/MacOSX/Windows), il existe plusieurs façons d'installer des paquets python. Pour ce cours, nous recommandons la distribution [Anaconda](https://www.anaconda.com/products/distribution) qui est gratuite, facile à installer et qui contient l'essentiel des bibliothèques.\n",
    "\n",
    "</br>"
   ]
  },
  {
   "cell_type": "markdown",
   "metadata": {
    "id": "0FoW8o7beuWd"
   },
   "source": [
    "## <hr style=\"border:1px solid black\"> Essayer la console ! <hr style=\"border:1px solid black\">"
   ]
  },
  {
   "cell_type": "markdown",
   "metadata": {
    "id": "g3rd8ra-euWe"
   },
   "source": [
    "You need basically a Console. Several possibilities:\n",
    "\n",
    "1. Elle peut être fournie par un simple terminal LINUX :\n",
    " * Ouvrez un terminal et tapez `python` et appuyez sur `enter`\n",
    " * Un message indiquant la version de python et le fournisseur devrait apparaître ; quelque chose comme :\n",
    " \n",
    "     `Python 3.8.5 (default, Sep 4 2020, 02:22:02) \n",
    "     [Clang 10.0.0 ] :: Anaconda, Inc. on darwin\n",
    "     Type \"help\", \"copyright\", \"credits\" or \"license\" for more information.`\n",
    "\n",
    "    et le symbole `>>>` indiquant que python est prêt pour l'instruction \n",
    "\n",
    "\n",
    "2. Une console `IPython` fournie par exemple par un IDE [<sup>1</sup>](#fn1) comme [Spyder](https://www.spyder-ide.org).\n",
    "\n",
    "\n",
    "3. Un `Jupyter notebook` comme le fichier que vous utilisez actuellement et qui contient des cellules (`Cell`).\n",
    "Il existe 3 types de cellule :\n",
    " * `Code` pour la programmation ; cf. [Python for beginners](https://wiki.python.org/moin/BeginnersGuide)\n",
    " * `Markdown` pour du texte formaté ; cf. [Markdown for beginners](https://www.markdownguide.org)\n",
    " * `Raw NBConvert` pour du texte non formaté.\n",
    " \n",
    "<span id=\"fn1\"> $^1$ Integrated Development Environment (logiciel).</span>"
   ]
  },
  {
   "cell_type": "markdown",
   "metadata": {},
   "source": [
    "> Exemples de cellules"
   ]
  },
  {
   "cell_type": "markdown",
   "metadata": {},
   "source": [
    "#### 1. Cellule de type `Code`"
   ]
  },
  {
   "cell_type": "code",
   "execution_count": null,
   "metadata": {},
   "outputs": [],
   "source": [
    "3*6"
   ]
  },
  {
   "cell_type": "markdown",
   "metadata": {},
   "source": [
    "#### 2. Cellule de type  `Markdown`"
   ]
  },
  {
   "cell_type": "markdown",
   "metadata": {},
   "source": [
    "$3*6$"
   ]
  },
  {
   "cell_type": "markdown",
   "metadata": {},
   "source": [
    "#### 3. Cellule de type `Raw NBConvert`"
   ]
  },
  {
   "cell_type": "raw",
   "metadata": {},
   "source": [
    "3*6"
   ]
  },
  {
   "cell_type": "markdown",
   "metadata": {},
   "source": [
    "Pour une description en Français de l'outil `Jupyter notebook` cf. [Jupyter et ses notebooks](https://python.sdv.univ-paris-diderot.fr/18_jupyter/). N'hésitez pas à visiter les liens pour débutants, mais nous pensons que ce document sera suffisant\n",
    "pour une bonne introduction à python"
   ]
  },
  {
   "cell_type": "markdown",
   "metadata": {
    "id": "aPWEedmiFHam"
   },
   "source": [
    "## <hr style=\"border:1px solid black\"> Python syntax <hr style=\"border:1px solid black\">"
   ]
  },
  {
   "cell_type": "markdown",
   "metadata": {
    "id": "BVsQR3Z4euWh"
   },
   "source": [
    "## <hr style=\"border:1px solid black\"> Basic types, assignment and operators <hr style=\"border:1px solid black\">"
   ]
  },
  {
   "cell_type": "markdown",
   "metadata": {
    "id": "U-XaTgOOeuWi"
   },
   "source": [
    "#### Affectation : les types de variable sont définis lors de l'affectation\n",
    "\n",
    "> $a\\in\\mathbb{Z}$ ; $b\\in\\mathbb{R}$ ; $c$ est une chaîne de caractères ; $d\\in\\mathbb{B}$ ; $e\\in\\mathbb{C}$"
   ]
  },
  {
   "cell_type": "code",
   "execution_count": null,
   "metadata": {
    "id": "Egdg8lyheuWi",
    "scrolled": false
   },
   "outputs": [],
   "source": [
    "a = 1        # integer \n",
    "b = 5.4      # float\n",
    "c = 'blabla' # string\n",
    "d = True     # boolean \n",
    "e = 2+1.j    # complex"
   ]
  },
  {
   "cell_type": "markdown",
   "metadata": {
    "id": "a-k31pTIeuWj"
   },
   "source": [
    "> ici le symbole égal est un opérateur d'affectation\n",
    "\n",
    "> d'autres opérateurs d'affectation existent :"
   ]
  },
  {
   "cell_type": "code",
   "execution_count": null,
   "metadata": {
    "colab": {
     "base_uri": "https://localhost:8080/"
    },
    "id": "jDCr5IxMeuWj",
    "outputId": "e0cb89d8-4dfc-45e9-df69-0eee7cab4556"
   },
   "outputs": [],
   "source": [
    "a += 1 \n",
    "print(a)\n",
    "b -= 1\n",
    "print(b)\n",
    "a *= 2 \n",
    "print(a)\n",
    "b /= 2\n",
    "print(b)"
   ]
  },
  {
   "cell_type": "markdown",
   "metadata": {
    "id": "osriSoVyeuWk"
   },
   "source": [
    "#### Affichage du type (class)\n",
    "\n",
    "> Ci-dessous `print(message, value, type)` affichera la chaîne de caractères *message* puis ce qui est contenu dans *value* et enfin le *value type*. La virgule ',' est appelée séparateur."
   ]
  },
  {
   "cell_type": "code",
   "execution_count": null,
   "metadata": {
    "colab": {
     "base_uri": "https://localhost:8080/"
    },
    "id": "NyECu_3FeuWk",
    "outputId": "792cb116-e1a2-4c90-e104-f627b27eebf2",
    "scrolled": false
   },
   "outputs": [],
   "source": [
    "print('integer a = ', a, type(a))\n",
    "print('float   b = ', b, type(b))\n",
    "print('string  c = ', c, type(c))\n",
    "print('boolean d = ', d, type(d))\n",
    "print('complex e = ', e, type(e))"
   ]
  },
  {
   "cell_type": "markdown",
   "metadata": {
    "id": "_1JSxZI6euWl"
   },
   "source": [
    "#### Affectation distribuée"
   ]
  },
  {
   "cell_type": "code",
   "execution_count": null,
   "metadata": {
    "colab": {
     "base_uri": "https://localhost:8080/"
    },
    "id": "vcZYW9BneuWl",
    "outputId": "2b4994e3-c24e-42e5-e7cd-eb622064d50c"
   },
   "outputs": [],
   "source": [
    "a, b, c = 2, 7.45, 'toto'\n",
    "print(a,type(a))\n",
    "print(b,type(b))\n",
    "print(c,type(c))"
   ]
  },
  {
   "cell_type": "markdown",
   "metadata": {
    "id": "eULB0R3beuWm",
    "scrolled": false
   },
   "source": [
    "#### Opérateurs (arithmétiques) de base dans $\\mathbb{R}$\n",
    "\n",
    "> addition (soustraction): $c = x + y$  $(d = x - y)$\n",
    "\n",
    "> multiplication (division): $e = x \\times y $  $(f = x/y)$\n",
    "\n",
    "> puissance: $g = x^y $\n",
    "\n",
    "pour $(x,y)\\in\\mathbb{R}$ nous avons :"
   ]
  },
  {
   "cell_type": "code",
   "execution_count": null,
   "metadata": {
    "colab": {
     "base_uri": "https://localhost:8080/"
    },
    "id": "FBHlN8oMeuWm",
    "outputId": "16c321e0-4afc-409b-d7e7-2abb018a364b"
   },
   "outputs": [],
   "source": [
    "x = 1.0 ; y = 2.0\n",
    "c = x + y\n",
    "d = x - y\n",
    "e = x * y\n",
    "f = x / y\n",
    "g = x ** y\n",
    "print(x,y,c,d,e,f,g)"
   ]
  },
  {
   "cell_type": "markdown",
   "metadata": {
    "id": "jPwQKUoleuWm"
   },
   "source": [
    "pour $(x,y)\\in\\mathbb{C}$ avec $y=x^*$ nous avons :"
   ]
  },
  {
   "cell_type": "code",
   "execution_count": null,
   "metadata": {
    "colab": {
     "base_uri": "https://localhost:8080/"
    },
    "id": "Rw1Q0xCreuWn",
    "outputId": "6f0bd0d9-6bf7-4f48-8f4f-7545a8e6ff08"
   },
   "outputs": [],
   "source": [
    "x = 1.0-2.0j ; y = 1.0+2.0j\n",
    "c = x + y\n",
    "d = x - y\n",
    "e = x * y\n",
    "f = x / y\n",
    "g = x ** 10\n",
    "print(x,y,c,d,e,f,g)"
   ]
  },
  {
   "cell_type": "markdown",
   "metadata": {
    "id": "VQrpL7pueuWn"
   },
   "source": [
    "#### Priorité des opérateurs arithmétiques\n",
    "\n",
    "Les opérateurs arithmétiques ont une [priorité](https://fr.wikibooks.org/wiki/Programmation_Python/Opérateurs), qui suit, de la plus haute priorité à la plus basse :\n",
    "\n",
    "> `puissance > multiplication (division) > addition (soustraction)` \n",
    "\n",
    "Par exemple : $a^b\\times c + d \\Rightarrow$ $a^b$ est exécuté en premier, puis $\\times c$ and $+d$\n",
    "\n",
    "> remarque 1 : l'opération entre parenthèses a priorité sur toutes les autres opérations\n",
    "\n",
    "Par exemple : $a^b\\times (c + d) \\Rightarrow$ $c+d$ est exécuté en premier, puis $a^b$, then $\\times$\n",
    "\n",
    "> remarque 2 : parmis les opérateurs $(+,-,\\times,/)$, si deux opérateurs ont la même priorité, les opérations sont effectuées de la gauche vers la droite\n",
    "\n",
    "Par exemple : $a-b+c \\Rightarrow$ $a-b$ est exécuté en premier, puis $+c$"
   ]
  },
  {
   "cell_type": "markdown",
   "metadata": {},
   "source": [
    "<div class=\"alert alert-block alert-warning\">\n",
    "<b>Attention : pour l'opérateur puissance l'exécution se fait de la droite vers la gauche.</b> \n",
    "</div>"
   ]
  },
  {
   "cell_type": "markdown",
   "metadata": {
    "id": "0RwAOv7JeuWo"
   },
   "source": [
    "##### Exercise 1.0 <hr style=\"border:1px solid grey\">\n",
    "\n",
    "> Calculer : \n",
    "\n",
    "$$ s_1=1+\\cfrac{1}{2+\\cfrac{1}{2+\\cfrac{1}{2}}} $$\n",
    "\n",
    "\n",
    "$$ s_2=1+\\cfrac{1}{ 2 + \\cfrac{1}{ 2+ \\cfrac{1}{2 + \\cfrac{1}{2} } } } $$"
   ]
  },
  {
   "cell_type": "markdown",
   "metadata": {
    "id": "RB6XIlHheuWo"
   },
   "source": [
    "<span style=\"color:red\">**solution :**</span>"
   ]
  },
  {
   "cell_type": "code",
   "execution_count": null,
   "metadata": {
    "colab": {
     "base_uri": "https://localhost:8080/"
    },
    "id": "Ol_cL_hZJg71",
    "outputId": "70f7ac72-769a-47e3-fb98-a5187157b597"
   },
   "outputs": [],
   "source": [
    "\n",
    "s1 = 1 + 1/(2 + 1/(2 + 1/2))\n",
    "print(s1)\n",
    "\n",
    "s2 = 1 + 1/(2 + 1/(2 + 1/(2 + 1/2)))\n",
    "print(s2)"
   ]
  },
  {
   "cell_type": "markdown",
   "metadata": {
    "id": "WrlEujM9euWp"
   },
   "source": [
    "<hr style=\"border:1px solid grey\">"
   ]
  },
  {
   "cell_type": "markdown",
   "metadata": {
    "id": "bokXharZeuWp"
   },
   "source": [
    "##### Exercise 1.1 <hr style=\"border:1px solid grey\">\n",
    "> Pour $(x,y)\\in\\mathbb{C}$, tel que $x=a+bi$ et $y=c+di$, démontrer que $x/y = z$ avec\n",
    "\n",
    "$$z= \\frac{(ac+bd)+(bc-ad)i}{c^2+d^2}$$\n",
    "\n",
    "> on utlisera par exemple : $x=1-2i$ and $y = 1+2i$\n",
    "<hr style=\"border:1px solid grey\">"
   ]
  },
  {
   "cell_type": "code",
   "execution_count": null,
   "metadata": {
    "colab": {
     "base_uri": "https://localhost:8080/"
    },
    "id": "QN8CzhHqeuWp",
    "outputId": "b6514b4f-46c0-4b9d-a0b5-ba09c44b9e1c"
   },
   "outputs": [],
   "source": [
    "x = 1-2j ; y = 1+2j\n",
    "a = x.real # extract real part of x\n",
    "b = x.imag # extract imaginary part of x\n",
    "c = y.real\n",
    "d = y.imag\n",
    "print(a,b,c,d)"
   ]
  },
  {
   "cell_type": "markdown",
   "metadata": {
    "id": "VmC1cIwXeuWp"
   },
   "source": [
    "<span style=\"color:red\">**solution :**</span>"
   ]
  },
  {
   "cell_type": "code",
   "execution_count": null,
   "metadata": {
    "colab": {
     "base_uri": "https://localhost:8080/"
    },
    "id": "ALk5bC1-euWq",
    "outputId": "cedb0212-d617-4ebc-a83c-4b581078f065"
   },
   "outputs": [],
   "source": [
    "z = ((a*c + b*d) + (b*c - a*d)*1j)/(c**2 + d**2)\n",
    "print(z)\n",
    "print(x/y)"
   ]
  },
  {
   "cell_type": "markdown",
   "metadata": {
    "id": "7yVqrBQjeuWq"
   },
   "source": [
    "#### Remarques sur les divisions d'entier et l'opérateur modulo"
   ]
  },
  {
   "cell_type": "markdown",
   "metadata": {
    "id": "99HzvZSXeuWq",
    "scrolled": false
   },
   "source": [
    "> Par défaut, la division d'entier est convertie en division flottante"
   ]
  },
  {
   "cell_type": "markdown",
   "metadata": {
    "id": "twMEtXWaeuWq"
   },
   "source": [
    "Exemple : pour $(x,y)\\in\\mathbb{Z}$ avec $y/x$ we have:"
   ]
  },
  {
   "cell_type": "code",
   "execution_count": null,
   "metadata": {
    "colab": {
     "base_uri": "https://localhost:8080/"
    },
    "id": "NEo9wyNDeuWq",
    "outputId": "5560eab5-06d4-45b7-ce20-629ef3523330",
    "scrolled": false
   },
   "outputs": [],
   "source": [
    "x = 20\n",
    "y = 7\n",
    "print(x/y )          # float division\n",
    "print(round(x/y,2))  # rounding"
   ]
  },
  {
   "cell_type": "markdown",
   "metadata": {
    "id": "JaXT451feuWr"
   },
   "source": [
    "> La division de nombres entiers fournissant la partie entière (*whole part*) et le reste (*remainder*) peut être réalisée à partir des opérateurs // et %, respectivement :"
   ]
  },
  {
   "cell_type": "code",
   "execution_count": null,
   "metadata": {
    "colab": {
     "base_uri": "https://localhost:8080/"
    },
    "id": "qC72hTEBeuWr",
    "outputId": "cf363b44-8f5f-4bc7-c9c6-b00a9b1a849a"
   },
   "outputs": [],
   "source": [
    "print(x//y) # floor division operator => whole part\n",
    "print(x%y ) # modulo operator         => remainder"
   ]
  },
  {
   "cell_type": "markdown",
   "metadata": {
    "id": "O0TR_iqfeuWr"
   },
   "source": [
    "#### Basic operators in $\\mathbb{B}$\n",
    "\n",
    "> Le opérateurs Booléen, aussi appelés opérateurs *logiques*, sont la : \n",
    "\n",
    "> Conjonction: $x$ `and` $y$\n",
    "\n",
    "> Disjonction: $x$ `or` $y$\n",
    "\n",
    "> Negation: `not` $x$ "
   ]
  },
  {
   "cell_type": "markdown",
   "metadata": {
    "id": "HGS_FoDBeuWr"
   },
   "source": [
    "Exemple : avec $(x,y)\\in\\mathbb{B}$ nous obtenons :"
   ]
  },
  {
   "cell_type": "code",
   "execution_count": null,
   "metadata": {
    "colab": {
     "base_uri": "https://localhost:8080/"
    },
    "id": "KhGx9yIGeuWr",
    "outputId": "a5d0220c-a1ff-48e5-b367-183478012a48"
   },
   "outputs": [],
   "source": [
    "x = True ; y = False\n",
    "c = x and y\n",
    "d = x or  y\n",
    "e = not x\n",
    "f = not y\n",
    "print(c,d,e,f)"
   ]
  },
  {
   "cell_type": "markdown",
   "metadata": {
    "id": "O7eRXNqOeuWr"
   },
   "source": [
    "##### Exercise 1.2 <hr style=\"border:1px solid grey\">\n",
    "\n",
    "> En utilisant les opérateurs Booléen, vérifier les tables de vérité suivantes :\n",
    "\n",
    "| x | y | `or` |    | x | y | `and`|   | x | y | `nor`| \n",
    "|---|---| :--: |    |---|---| :--: |   |---|---| :--: |\n",
    "| T | T |  T   |    | T | T |  T   |   | T | T |  F   |\n",
    "| T | F |  T   |    | T | F |  F   |   | T | F |  F   |\n",
    "| F | T |  T   |    | F | T |  F   |   | F | T |  F   |\n",
    "| F | F |  F   |    | F | F |  F   |   | F | F |  T   |\n",
    "\n",
    "<hr style=\"border:1px solid grey\">"
   ]
  },
  {
   "cell_type": "markdown",
   "metadata": {
    "id": "QQh7r-tWeuWs"
   },
   "source": [
    "<span style=\"color:red\">**solution :**</span>"
   ]
  },
  {
   "cell_type": "code",
   "execution_count": null,
   "metadata": {
    "colab": {
     "base_uri": "https://localhost:8080/"
    },
    "id": "c87FuXrKeuWs",
    "outputId": "204c9d2b-238e-4a9d-88c2-52380cf60724"
   },
   "outputs": [],
   "source": [
    "print(True  or True)\n",
    "print(True  or False)\n",
    "print(False or True)\n",
    "print(False or False)"
   ]
  },
  {
   "cell_type": "markdown",
   "metadata": {
    "id": "nGmozNeGeuWs"
   },
   "source": [
    "<hr style=\"border:1px solid grey\">"
   ]
  },
  {
   "cell_type": "markdown",
   "metadata": {
    "id": "jGBKSQvreuWs"
   },
   "source": [
    "#### Remarques sur les booléens utilisant des opérateurs arithmétiques\n",
    "\n",
    "> si des opérateurs arithmétiques sont appliqués à des variables booléennes, ces dernières sont converties en binaire : $0$ (Faux) et $1$ (Vrai) de type entier."
   ]
  },
  {
   "cell_type": "code",
   "execution_count": null,
   "metadata": {
    "colab": {
     "base_uri": "https://localhost:8080/"
    },
    "id": "nRxcZkJ7euWs",
    "outputId": "f590570f-cd3b-40bd-a699-9015ddc5d2d7"
   },
   "outputs": [],
   "source": [
    "x = True ; y = True\n",
    "c = x + y\n",
    "d = x - y\n",
    "e = x * y\n",
    "f = x / y\n",
    "g = y ** x\n",
    "print(type(d))\n",
    "print(type(e))\n",
    "print(x,y,c,d,e,f,g)"
   ]
  },
  {
   "cell_type": "markdown",
   "metadata": {
    "id": "ZvAbMjUdeuWs"
   },
   "source": [
    "#### Opérateurs pour les chaînes de caractères et surcharge des opérateurs\n",
    "\n",
    "> l'opérateur d'addition $\\{+\\}$ devient un opérateur de concaténation \n",
    "\n",
    "> l'opérateur de multiplication $\\{*\\}$ devient un opérateur de répétition"
   ]
  },
  {
   "cell_type": "code",
   "execution_count": null,
   "metadata": {
    "colab": {
     "base_uri": "https://localhost:8080/"
    },
    "id": "71-UyDkFeuWt",
    "outputId": "df4dbcb3-fe3f-4ab7-e715-b1b3e58462fa"
   },
   "outputs": [],
   "source": [
    "c1 = 'bla'\n",
    "c2 = '-bli'\n",
    "print(c1+c2)\n",
    "print(c1*5)"
   ]
  },
  {
   "cell_type": "markdown",
   "metadata": {
    "id": "uC19IuI4euWt"
   },
   "source": [
    "#### Opérateurs de comparaison (aussi appelés opérateurs relationnels)\n",
    "\n",
    "> Ils existe 6 opérateurs de comparaison décrits ci-dessous :\n",
    " \n",
    " | opérateur | description   | exemple | type permit                   |\n",
    " | :-:       | :-:           | :-:     | :-:                           |\n",
    " | ==        | égal à        | x == y  | $\\mathbb{Z,R,C,B}$ and string |\n",
    " | !=        | différent de  | x != y  | $\\mathbb{Z,R,C,B}$ and string |\n",
    " | >         | plus grand que| x > y   | $\\mathbb{Z,R,B}$[<sup>1</sup>](#fn1) and string[<sup>2</sup>](#fn2) |\n",
    " | >=        | plus grand que ou égal | x >= y   | $\\mathbb{Z,R,B}$ and string |\n",
    " | <         | plus petit que| x < y   | $\\mathbb{Z,R,B}$ and string |\n",
    " | <=        | plus petit que ou égal | x <= y   | $\\mathbb{Z,R,B}$ and string |\n",
    "\n",
    "> Ces opérateurs comparent deux variables and renvoit le Booléen `True` ou `False`.\n",
    "\n",
    "<span id=\"fn1\"> $^1$ Dans le cas des Booléen, `True` et `False` sont convertis en 1 and 0, respectivement.</span>\n",
    "<span id=\"fn2\"> $^2$ Dans le cas des chaînes de caractère, les opérateurs (>,>=,<,<=) *comparent* la longueur de la chaîne, pas les caractères !</span>"
   ]
  },
  {
   "cell_type": "markdown",
   "metadata": {
    "id": "pxw45DyLeuWt"
   },
   "source": [
    "#### Conversion du type\n",
    "\n",
    "> la conversion d'un type à l'autre est possible en utilisant les fonctions suivantes :\n",
    "\n",
    "\n",
    " | fonction | description       | exemple        | type possible | remarque |\n",
    " | :-:      | :-:               | :-:            | :-:           | |\n",
    " | str()    | convert to string | str(240.25)    | tous           | tous les caractères alpha-numeriques|\n",
    " | bool()   | convert to boolean| bool()         | tous           | renvoit `False` si la variable est vide, et `True` dans tous les autres cas|\n",
    " | complex()| convert to complex| complex(240.25)| $\\mathbb{Z,R,B}$ and string[<sup>1</sup>](#fn1) | pour $\\mathbb{Z,R,B}$ la partie imaginaire est initialisée à 0 |\n",
    " | float()  | convert to float  | float(240)     | $\\mathbb{Z,R,B}$ and string[<sup>1</sup>](#fn1) | \n",
    "\n",
    "<span id=\"fn1\"> $^1$ Dans le cas des chaînes de caractère, seulement les caractères numériques sont acceptés. Ils peuvent inclure la partie décimale ou/et la partie imaginaire. </span>"
   ]
  },
  {
   "cell_type": "code",
   "execution_count": null,
   "metadata": {
    "colab": {
     "base_uri": "https://localhost:8080/"
    },
    "id": "p_B_bwC0euWt",
    "outputId": "ce52ee32-1a87-4ce0-b87b-e647359c3f1d",
    "scrolled": false
   },
   "outputs": [],
   "source": [
    "s1 = '240.25'     # s1 is a string\n",
    "s2 = '240.25+2j'  # s2 is also a string\n",
    "r1 =  240.25      # r1 is a float\n",
    "\n",
    "print(float(s1),  type( float(s1)  ) )\n",
    "print(complex(s2),type( complex(s2)) )\n",
    "print(int(r1),    type( int(r1) ) )\n",
    "print(bool(r1),   type( bool(r1)) )\n",
    "\n",
    "i2 = 67 # i2 is an integer\n",
    "s2 = '' # s2 i an empty string\n",
    "\n",
    "print(bool(s2), type( bool(s2)) )\n",
    "print(str(i2),  type( str(i2) ) )\n",
    "print(float(i2),type( float(i2)))"
   ]
  },
  {
   "cell_type": "markdown",
   "metadata": {
    "id": "HtEh9s9neuWu"
   },
   "source": [
    "## <hr style=\"border:1px solid black\"> Sequence types <hr style=\"border:1px solid black\">"
   ]
  },
  {
   "cell_type": "markdown",
   "metadata": {
    "id": "-tmrJRRheuWu"
   },
   "source": [
    "### The lists"
   ]
  },
  {
   "cell_type": "markdown",
   "metadata": {
    "id": "mpUiSa2qeuWu"
   },
   "source": [
    "> Une liste est une séquence d'éléments dans laquelle il est possible de mélanger les types de variable"
   ]
  },
  {
   "cell_type": "code",
   "execution_count": null,
   "metadata": {
    "colab": {
     "base_uri": "https://localhost:8080/"
    },
    "id": "NyjaFsHUeuWu",
    "outputId": "93e14e60-1dad-4561-a8b7-f324e83be075"
   },
   "outputs": [],
   "source": [
    "L = [2,7.45,'blabla',True]\n",
    "print(L, type(L))"
   ]
  },
  {
   "cell_type": "markdown",
   "metadata": {
    "id": "LfOzC4pyeuWu"
   },
   "source": [
    "> La longueur de la liste, ie. le nombre d'élements de la liste est donné par"
   ]
  },
  {
   "cell_type": "code",
   "execution_count": null,
   "metadata": {
    "colab": {
     "base_uri": "https://localhost:8080/"
    },
    "id": "4XtofufPeuWu",
    "outputId": "6ef1cd43-6d75-4d23-e9dc-fcd94ffa5505"
   },
   "outputs": [],
   "source": [
    "len(L)"
   ]
  },
  {
   "cell_type": "markdown",
   "metadata": {
    "id": "wBHEFHl-euWu"
   },
   "source": [
    "> Exemple de création d'une liste vide"
   ]
  },
  {
   "cell_type": "code",
   "execution_count": null,
   "metadata": {
    "colab": {
     "base_uri": "https://localhost:8080/"
    },
    "id": "JXOoadizeuWu",
    "outputId": "d328fa64-fb09-4c29-ec3a-2e08cd04b7f0"
   },
   "outputs": [],
   "source": [
    "M = []\n",
    "print(M, type(M))"
   ]
  },
  {
   "cell_type": "markdown",
   "metadata": {
    "id": "qzQ7uWHqeuWv"
   },
   "source": [
    "#### Accessing list elements"
   ]
  },
  {
   "cell_type": "markdown",
   "metadata": {
    "id": "-ujcLLtVeuWv"
   },
   "source": [
    "> On accède aux éléments par l'indice $i$ en utilisant des crochets.\n",
    "\n",
    "> Puisqu'en python l'indexation commence à partir de 0,\n",
    "$L[i]$ correspond à l'élément $(i+1)$ de la liste $L$."
   ]
  },
  {
   "cell_type": "code",
   "execution_count": null,
   "metadata": {
    "colab": {
     "base_uri": "https://localhost:8080/"
    },
    "id": "n53i2buJeuWv",
    "outputId": "19917784-d105-4d7f-cbd5-59dc25fa19bf"
   },
   "outputs": [],
   "source": [
    "print(L[0], L[1], L[2])"
   ]
  },
  {
   "cell_type": "markdown",
   "metadata": {
    "id": "LeA2kaBjeuWv"
   },
   "source": [
    "> Le dernier élément est accessible par l'index -1"
   ]
  },
  {
   "cell_type": "code",
   "execution_count": null,
   "metadata": {
    "colab": {
     "base_uri": "https://localhost:8080/"
    },
    "id": "mIjx0OcUeuWv",
    "outputId": "6bfc5516-1744-4cad-c057-b0fac79197ec"
   },
   "outputs": [],
   "source": [
    "print(L[-1])"
   ]
  },
  {
   "cell_type": "markdown",
   "metadata": {},
   "source": [
    "> Pour $j>i$, $L[i:j]$ renvoie les élements $L[i], L[i+1]\\cdots L[j-1]$ de la liste $L$"
   ]
  },
  {
   "cell_type": "code",
   "execution_count": null,
   "metadata": {},
   "outputs": [],
   "source": [
    "print(L)\n",
    "print(L[1:3])"
   ]
  },
  {
   "cell_type": "markdown",
   "metadata": {
    "id": "WCs2srgLeuWv"
   },
   "source": [
    "#### Opérateurs et listes"
   ]
  },
  {
   "cell_type": "code",
   "execution_count": null,
   "metadata": {
    "colab": {
     "base_uri": "https://localhost:8080/"
    },
    "id": "fMObO-KoeuWw",
    "outputId": "6e110cba-6665-46eb-93c7-ab6e5d7f5bef"
   },
   "outputs": [],
   "source": [
    "L1 = [1, 6,'toto']\n",
    "L2 = [3.14,'titi',23]\n",
    "L3 = L1[1:] + L2\n",
    "print(L3)\n",
    "\n",
    "L4 = L1*4\n",
    "print(L4)"
   ]
  },
  {
   "cell_type": "markdown",
   "metadata": {
    "id": "vleI8XoveuWw"
   },
   "source": [
    "#### Opérations mutables à l'aide de fonctions intégrées aux listes\n",
    "\n",
    "> Ces opérations modifient la liste et font partie des attributs de la classe `list`."
   ]
  },
  {
   "cell_type": "code",
   "execution_count": null,
   "metadata": {
    "id": "h7-KFcereuWw"
   },
   "outputs": [],
   "source": [
    "L = []"
   ]
  },
  {
   "cell_type": "markdown",
   "metadata": {
    "id": "opG2W9L3euWw"
   },
   "source": [
    "> `list.append(x)`"
   ]
  },
  {
   "cell_type": "code",
   "execution_count": null,
   "metadata": {
    "colab": {
     "base_uri": "https://localhost:8080/"
    },
    "id": "hBo9ki0VeuWw",
    "outputId": "7c389cee-ef5c-4888-9c8f-72cd9c4a14ce"
   },
   "outputs": [],
   "source": [
    "L.append(1)\n",
    "L.append('h')\n",
    "L.append(6.626e-34)\n",
    "L.append(False)\n",
    "L.append(2+1.j)\n",
    "print(L)"
   ]
  },
  {
   "cell_type": "markdown",
   "metadata": {
    "id": "aZGEzUz7euWw"
   },
   "source": [
    "> la surcharge de l'opérateur `+`"
   ]
  },
  {
   "cell_type": "code",
   "execution_count": null,
   "metadata": {
    "colab": {
     "base_uri": "https://localhost:8080/"
    },
    "id": "99h-_mQ1euWw",
    "outputId": "43853bbe-d7b0-4344-f0d6-0a7abbef8902"
   },
   "outputs": [],
   "source": [
    "L = L + ['qe',1.602e-19]\n",
    "print(L)"
   ]
  },
  {
   "cell_type": "markdown",
   "metadata": {
    "id": "j49aMNMIeuWy"
   },
   "source": [
    "<hr style=\"border:1px solid grey\">"
   ]
  },
  {
   "cell_type": "markdown",
   "metadata": {
    "id": "x_UAtfofeuWy"
   },
   "source": [
    "#### Opérations non-mutables à l'aide de fonctions externes aux listes\n",
    "\n",
    "> Ces fonctions sont utilisées pour rechercher/traiter/interroger les éléments d'une liste.\n",
    "Elles ne modifient pas la liste. Certaines d'entre elles sont des attributs de la classe `list`, \n",
    "d'autres sont des fonctions internes à `Python`."
   ]
  },
  {
   "cell_type": "markdown",
   "metadata": {
    "id": "3F97pThjeuWy"
   },
   "source": [
    " > `sorted(list)`"
   ]
  },
  {
   "cell_type": "code",
   "execution_count": null,
   "metadata": {
    "colab": {
     "base_uri": "https://localhost:8080/"
    },
    "id": "CWPOcPE4euWz",
    "outputId": "a5c40000-889e-4035-db20-1832efcd828a"
   },
   "outputs": [],
   "source": [
    "L = [1,8,5,-9]\n",
    "K = sorted(L)\n",
    "print(L)\n",
    "print(K)"
   ]
  },
  {
   "cell_type": "markdown",
   "metadata": {
    "id": "IkbOh2rYeuWz"
   },
   "source": [
    "> `min(list)` / `max(list)` / `sum(list)`"
   ]
  },
  {
   "cell_type": "code",
   "execution_count": null,
   "metadata": {
    "colab": {
     "base_uri": "https://localhost:8080/"
    },
    "id": "Je2qMEpkeuWz",
    "outputId": "7ae3166d-5be4-4697-87ca-fc2a3bd73d77"
   },
   "outputs": [],
   "source": [
    "print(min(L))\n",
    "print(max(L))\n",
    "print(sum(L))"
   ]
  },
  {
   "cell_type": "markdown",
   "metadata": {
    "id": "1g6rztwFeuW0"
   },
   "source": [
    "#### Function `range`\n",
    "\n",
    "> range($n_{inf}$, $n_{sup}$, $\\sigma$) avec $\\sigma$ le pas et $(n_{inf},n_{sup},\\sigma)\\in\\mathbb{Z}$\n",
    "\n",
    "> créé une liste d'entiers $n\\in[n_{inf},n_{sup}[$\n",
    "tel que, $n=\\{n_{inf},\\;n_{inf}+\\sigma,\\;n_{inf}+2\\sigma,...,\\;n_{sup}-\\sigma\\}$\n",
    "\n",
    "> $n_{sup}$ n'est pas compris dans la liste !"
   ]
  },
  {
   "cell_type": "code",
   "execution_count": null,
   "metadata": {
    "colab": {
     "base_uri": "https://localhost:8080/"
    },
    "id": "5CXe07T3euW0",
    "outputId": "21c6d000-4f36-4acd-a8ac-29717f2b1bfb"
   },
   "outputs": [],
   "source": [
    "L = range(10)\n",
    "print(L)\n",
    "print(list(L))\n",
    "\n",
    "L = range(1,10,1)\n",
    "print(L)\n",
    "print(list(L))"
   ]
  },
  {
   "cell_type": "code",
   "execution_count": null,
   "metadata": {
    "colab": {
     "base_uri": "https://localhost:8080/"
    },
    "id": "BJqKmTpWeuW0",
    "outputId": "54c83b5e-969a-4015-ff22-78a7025c5f13"
   },
   "outputs": [],
   "source": [
    "L = range(4,119,4)\n",
    "print(list(L))"
   ]
  },
  {
   "cell_type": "markdown",
   "metadata": {
    "id": "HA38uUHQeuW1"
   },
   "source": [
    "<hr style=\"border:1px solid grey\">"
   ]
  },
  {
   "cell_type": "markdown",
   "metadata": {
    "id": "WMcl-8CxeuW1"
   },
   "source": [
    "## <hr style=\"border:1px solid black\"> Constructions de base <hr style=\"border:1px solid black\">\n",
    "\n",
    "Les langages de programmation doivent suivre une certaine structure qui est définie par trois constructions de [contrôle de base](https://en.wikipedia.org/wiki/Structured_programming)."
   ]
  },
  {
   "cell_type": "markdown",
   "metadata": {
    "id": "yAEpzsk6ouMe"
   },
   "source": [
    "### ***Séquence*** : \n",
    "\n",
    "> Instructions ordonnées (ou des sous-programmes) exécutées en séquence. Dans l'exemple ci-dessous, chaque ligne contient une instruction."
   ]
  },
  {
   "cell_type": "code",
   "execution_count": null,
   "metadata": {
    "id": "giJH4_EHeuW1"
   },
   "outputs": [],
   "source": [
    "x1 = 3       # statement A\n",
    "y1 = 4       # statement B\n",
    "z1 = x1 + y1 # statement C"
   ]
  },
  {
   "cell_type": "markdown",
   "metadata": {
    "id": "LD0fLPSDeuW1"
   },
   "source": [
    "Si la \"déclaration C\" dépend de la \"déclaration A\" et de la \"déclaration B\", il faut l'écrire à la fin.\n",
    "Notons que, dans ce cas, l'ordre de la \"déclaration A\" et de la \"déclaration B\" n'a pas d'importance. Les déclarations peuvent également être\n",
    "écrites sur une même ligne en utilisant le symbole de séparation `;`"
   ]
  },
  {
   "cell_type": "code",
   "execution_count": null,
   "metadata": {
    "id": "z0DK_CxIeuW1"
   },
   "outputs": [],
   "source": [
    "x2 = 3 ; y2 = 4 ; z2 = x2 + y2"
   ]
  },
  {
   "cell_type": "markdown",
   "metadata": {
    "id": "6OSnj7RgeuW1"
   },
   "source": [
    "Note again that here, statements should follow an order since last statement on the line depends upon the firsts 2."
   ]
  },
  {
   "cell_type": "markdown",
   "metadata": {
    "id": "JG4XEdWLeuW1"
   },
   "source": [
    "### ***Sélection*** : \n",
    "\n",
    "> Une ou plusieurs instructions sont exécutées en fonction de l'état du programme. Ceci est géré par la structure de décision `if() :...else:` décrite ci-dessous, par un exemple :"
   ]
  },
  {
   "cell_type": "code",
   "execution_count": null,
   "metadata": {
    "colab": {
     "base_uri": "https://localhost:8080/"
    },
    "id": "SomDdLqaeuW1",
    "outputId": "967a06ca-2d85-49c6-c89b-3af71c1ad074"
   },
   "outputs": [],
   "source": [
    "# assign a value to the number to be tested\n",
    "a = 4\n",
    "\n",
    "# compute the remainder of the integer division num/2\n",
    "modulo = a%2\n",
    "\n",
    "# Test weither or not the remainder is 0 and decide\n",
    "if ( modulo == 0 ):\n",
    "    print('a is even')\n",
    "else:\n",
    "    print('a is odd' )"
   ]
  },
  {
   "cell_type": "markdown",
   "metadata": {
    "id": "YvkgaLFueuW1"
   },
   "source": [
    "En python, la **condition** qui implique les opérateurs de **comparaison** (et/ou **booléen**) est écrite entre parenthèses. Les instructions `if` et `else` sont terminées par deux-points `:`. Il est important de noter que les déclarations relatives à la *décision* **doivent** être indentées ! La structure de décision `if() :...else:` peut avoir plusieurs points de sortie."
   ]
  },
  {
   "cell_type": "code",
   "execution_count": null,
   "metadata": {
    "colab": {
     "base_uri": "https://localhost:8080/"
    },
    "id": "z3eTJ3dOeuW2",
    "outputId": "8a5e7bd7-be8c-4d4d-e00f-2fdb1862f15b"
   },
   "outputs": [],
   "source": [
    "# assign a value to the number to be tested\n",
    "a = 4.5\n",
    "\n",
    "# compute the remainder of the integer division a/2\n",
    "modulo = a%2\n",
    "\n",
    "# Test weither or not the remainder is 0 and decide\n",
    "if ( modulo == 0 ):\n",
    "    print('a is even')\n",
    "elif ( modulo == 1  ):\n",
    "    print('a is odd' )\n",
    "else:\n",
    "    print('a is not an integer' )    "
   ]
  },
  {
   "cell_type": "markdown",
   "metadata": {
    "id": "HbMOlR15euW2"
   },
   "source": [
    "La structure de décision `if() :...else:` peut aussi avoir plusieurs conditions :"
   ]
  },
  {
   "cell_type": "code",
   "execution_count": null,
   "metadata": {
    "colab": {
     "base_uri": "https://localhost:8080/"
    },
    "id": "m9FQ7FXIeuW2",
    "outputId": "f4177ab7-64e4-469d-c656-f14a3322550c"
   },
   "outputs": [],
   "source": [
    "# assign a value to the number to be tested\n",
    "a = -4\n",
    "\n",
    "# compute the remainder of the integer division a/2\n",
    "modulo = a%2\n",
    "\n",
    "# Test weither or not the remainder is 0 and negative of positive\n",
    "if   ( modulo == 0 and a < 0 ):\n",
    "    print('a is even and negative')\n",
    "\n",
    "elif ( modulo == 0 and a > 0 ):\n",
    "    print('a is even and positive')\n",
    "    \n",
    "elif ( modulo == 1 and a < 0  ):\n",
    "    print('a is odd and negative' )\n",
    "\n",
    "elif ( modulo == 1 and a > 0  ):\n",
    "    print('a is odd and positive' )  \n",
    "\n",
    "else:\n",
    "    print('a is not an integer' )    "
   ]
  },
  {
   "cell_type": "markdown",
   "metadata": {
    "id": "m6Am3ZizeuW2"
   },
   "source": [
    "### ***Iteration*** : \n",
    "\n",
    "> Une instruction ou un bloc est exécuté jusqu'à ce que des opérations aient été appliquées à chaque élément d'une collection ou que le programme atteigne un certain état. Dans l'exemple ci-dessous, nous utilisons une boucle `for` pour parcourir une liste de nombres. L'instruction `for` doit se terminer par `:`. Les instructions suivantes doivent être indentées."
   ]
  },
  {
   "cell_type": "code",
   "execution_count": null,
   "metadata": {
    "colab": {
     "base_uri": "https://localhost:8080/"
    },
    "id": "YO9hPas7euW2",
    "outputId": "51b4d12a-fdc6-40e5-80f0-41a81b4e0b96"
   },
   "outputs": [],
   "source": [
    "for x in [1,2,3,4,5,6,7,8,9]:\n",
    "    p = x**2 - x + 41\n",
    "    print(p)\n",
    "    "
   ]
  },
  {
   "cell_type": "code",
   "execution_count": null,
   "metadata": {
    "colab": {
     "base_uri": "https://localhost:8080/"
    },
    "id": "yE7_mvQzeuW2",
    "outputId": "cf600fc6-6fe1-40e0-9227-24bc82c11820"
   },
   "outputs": [],
   "source": [
    "L = [1,2,3,4,5,6,7,8,9]\n",
    "for x in L:\n",
    "    p = x**2 - x + 41\n",
    "    print(p)"
   ]
  },
  {
   "cell_type": "markdown",
   "metadata": {
    "id": "oIWyn9TbeuW2"
   },
   "source": [
    "> itération en utilisant `range()`"
   ]
  },
  {
   "cell_type": "code",
   "execution_count": null,
   "metadata": {
    "colab": {
     "base_uri": "https://localhost:8080/"
    },
    "id": "gnDQ2wAOeuW2",
    "outputId": "c92669e3-a74e-4d6d-a906-babdad66a3d6"
   },
   "outputs": [],
   "source": [
    "for x in range(1,len(L)):\n",
    "    p = x**2 - x + 41\n",
    "    print(p)"
   ]
  },
  {
   "cell_type": "markdown",
   "metadata": {
    "id": "i86ixX3XeuW3"
   },
   "source": [
    "##### Exercise 1.3 : somme et produit en utilisant la construction  `for`  <hr style=\"border:1px solid grey\">\n",
    "1. En utilisant une boucle `for`, effectuer la somme : $s=\\sum_{i=1}^ni$ with $n=100$\n",
    "2. Comparer avec la fonction intrinsèque `python` : `sum()`\n",
    "3. En utilisant une boucle `for`, effectuer le produit : $p=\\prod_{i=1}^ni$ with $n=10$\n",
    "4. Comparer avec la fonction `numpy` appelée `prod()`"
   ]
  },
  {
   "cell_type": "markdown",
   "metadata": {
    "id": "iS14o3YDeuW3"
   },
   "source": [
    "<span style=\"color:red\">**solution :**</span>"
   ]
  },
  {
   "cell_type": "code",
   "execution_count": null,
   "metadata": {
    "colab": {
     "base_uri": "https://localhost:8080/"
    },
    "id": "k_CB7J_NeuW3",
    "outputId": "cccc67b5-2f6e-4963-cdde-fe24b0586234"
   },
   "outputs": [],
   "source": [
    "s = 0\n",
    "for i in range(1,101):\n",
    "    s = s + i\n",
    "    \n",
    "print(s)\n",
    "print(sum(range(101)))"
   ]
  },
  {
   "cell_type": "code",
   "execution_count": null,
   "metadata": {
    "colab": {
     "base_uri": "https://localhost:8080/"
    },
    "id": "eg855un6euW3",
    "outputId": "c5b88308-b6dd-4968-e202-243a1a5eb42a"
   },
   "outputs": [],
   "source": [
    "from numpy import prod\n",
    "\n",
    "p = 1\n",
    "for i in range(1,11):\n",
    "    p = p * i\n",
    "    \n",
    "print(p)\n",
    "print(prod(range(1,11)))"
   ]
  },
  {
   "cell_type": "code",
   "execution_count": null,
   "metadata": {
    "colab": {
     "base_uri": "https://localhost:8080/"
    },
    "id": "kBcnHfVY9qV_",
    "outputId": "1cdfe277-31a3-44eb-a921-0a8e4db874fd"
   },
   "outputs": [],
   "source": [
    "#solution avec les compréhensions de listes (Julien B.)\n",
    "liste_1 = [i+1 for i in range(100)]\n",
    "print(liste_1)\n",
    "print(sum(liste_1))\n",
    "from numpy import prod\n",
    "liste_2 = [i+1 for i in range(10)]\n",
    "print(liste_2)\n",
    "print(prod(liste_2))\n"
   ]
  },
  {
   "cell_type": "markdown",
   "metadata": {
    "id": "zycJox1meuW3"
   },
   "source": [
    "<hr style=\"border:1px solid grey\">"
   ]
  },
  {
   "cell_type": "markdown",
   "metadata": {
    "id": "pMFg_Lb1euW3"
   },
   "source": [
    "##### Exercise 1.4 : factorielle en utilisant une construction `for` <hr style=\"border:1px solid grey\">\n",
    "\n",
    "La factorielle d'un nombre $n\\in\\mathbb{N}_0$ est donnée par : $n!=1\\times 2\\times\\cdots \\times(n-1)\\times n$ ; par convention $0!=1$.\n",
    "1. En utilisant la construction `for:`, calculer la factorielle de $n=14$\n",
    "2. Comparer avec la fonction `numpy.math.factorial()`"
   ]
  },
  {
   "cell_type": "code",
   "execution_count": null,
   "metadata": {
    "colab": {
     "base_uri": "https://localhost:8080/"
    },
    "id": "oPUoM48leuW3",
    "outputId": "8a660125-f626-462a-ecee-d5a81bee48e5"
   },
   "outputs": [],
   "source": [
    "import numpy\n",
    "numpy.math.factorial(14)"
   ]
  },
  {
   "cell_type": "markdown",
   "metadata": {
    "id": "DODDqHDPeuW3"
   },
   "source": [
    "<span style=\"color:red\">**solution :**</span>"
   ]
  },
  {
   "cell_type": "code",
   "execution_count": null,
   "metadata": {
    "colab": {
     "base_uri": "https://localhost:8080/"
    },
    "id": "58OnvSQ7euW3",
    "outputId": "dcb0b028-763c-4451-c688-b61c635d8f1d"
   },
   "outputs": [],
   "source": [
    "n = 14\n",
    "\n",
    "fact = 1\n",
    "for i in range(1,n+1):\n",
    "    fact = fact*i\n",
    "\n",
    "print(fact)"
   ]
  },
  {
   "cell_type": "markdown",
   "metadata": {
    "id": "uIs_ougueuW3"
   },
   "source": [
    "<hr style=\"border:1px solid grey\">"
   ]
  },
  {
   "cell_type": "markdown",
   "metadata": {
    "id": "ROa2bevSeuW3"
   },
   "source": [
    "##### Exercice 1.5 : construction `if` <hr style=\"border:1px solid grey\">\n",
    "Étant donné une longueur d'onde (en nm) $x\\in[10,10^5]$, imprimer l'intervalle dans lequel elle se situe :\n",
    "> UV pour $x\\in[10,390[$\n",
    "\n",
    "> visible pour $x\\in[390,750[$\n",
    "\n",
    "> IR pour $x\\in[750,10^5[$\n",
    "\n",
    "La longueur d'onde doit être donnée par l'utilisateur à l'aide de la fonction `input()` ; un exemple est donné ci-dessous :"
   ]
  },
  {
   "cell_type": "code",
   "execution_count": null,
   "metadata": {
    "colab": {
     "base_uri": "https://localhost:8080/"
    },
    "id": "5mY7yHsdeuW4",
    "outputId": "4f28a165-a64e-4b76-f769-aaf84c6c3126"
   },
   "outputs": [],
   "source": [
    "# Ask for some input value and store in x\n",
    "x = input('Give a wavelength in the range [10,10^5[ nm : ')\n",
    "\n",
    "# By default input() function output a string \n",
    "print(x,type(x))\n",
    "\n",
    "# You need then to convert (to float in this case)\n",
    "x = float(x)\n",
    "print(x,type(x))"
   ]
  },
  {
   "cell_type": "markdown",
   "metadata": {
    "id": "tUpSmzOReuW4"
   },
   "source": [
    "<span style=\"color:red\">**solution :**</span>"
   ]
  },
  {
   "cell_type": "code",
   "execution_count": null,
   "metadata": {
    "colab": {
     "base_uri": "https://localhost:8080/"
    },
    "id": "IKz195EheuW4",
    "outputId": "ee3b839e-1977-4bf3-b8cb-248c9c971eec"
   },
   "outputs": [],
   "source": [
    "x = input('Give a wavelength in the range [10,10^5[ nm : ')\n",
    "x = float(x)\n",
    "\n",
    "if ( x >= 10 and x < 390 ):\n",
    "    print('UV')\n",
    "elif ( x >= 390 and x < 750 ):\n",
    "    print('visible')\n",
    "elif ( x >= 750 and x < 1e5 ):\n",
    "    print('IR')\n",
    "else:\n",
    "    print('wrong value')"
   ]
  },
  {
   "cell_type": "markdown",
   "metadata": {
    "id": "Yp0FmhsHeuW4"
   },
   "source": [
    "<hr style=\"border:1px solid grey\">"
   ]
  },
  {
   "cell_type": "markdown",
   "metadata": {
    "id": "NOiCEaeReuW4"
   },
   "source": [
    "##### Exercice 1.6 : racines d'un polynôme d'ordre 2 en utilisant la construction `if`.  <hr style=\"border:1px solid grey\">\n",
    "\n",
    "Ecrivez un programme pour résoudre l'équation du second degré suivante : $ ax^2+bx+c=0$\n",
    "1. Calculer discriminant $\\Delta= b^2-4ac$\n",
    "2. En fonction of $\\Delta$ calculer les racines réelles lorsque c'est possible :\n",
    "\\begin{eqnarray}\n",
    "\\mathrm{if}\\ \\Delta > 0 &:& x_{\\pm} = \\frac{-b \\pm \\sqrt{\\Delta}}{2a} \\\\\n",
    "\\mathrm{if}\\ \\Delta = 0 &:& x_{+} = x_{-} = -\\frac{b}{2a} \\\\\n",
    "\\mathrm{if}\\ \\Delta < 0 &:& z_{\\pm} = \\frac{-b \\pm i\\sqrt{-\\Delta}}{2a} \\\\\n",
    "\\end{eqnarray}\n",
    "3. Faire afficher le discriminant et les valeurs des racines.\n",
    "4. Vérifier que, compte tenu de ces racines : $ax^2+bx+c=0$ \n",
    "\n",
    "> Commencez par écrire un algorithme sur votre feuille de papier. Ensuite, codez-le en python.\n",
    "\n",
    "> Pour tester votre code, vous pouvez utiliser les trois ensembles de paramètres suivants : \n",
    "\n",
    "> $a = 2,\\quad b = -1,\\quad c = -1$\n",
    "\n",
    "> $a = 2,\\quad b =  1,\\quad c =  1$\n",
    "\n",
    "> $a = 2,\\quad b =  4,\\quad c =  2$"
   ]
  },
  {
   "cell_type": "code",
   "execution_count": null,
   "metadata": {
    "id": "Dkekcw9ueuW4"
   },
   "outputs": [],
   "source": [
    "from numpy import sqrt\n",
    "\n",
    "#a = 2 ; b = -1 ; c = -1\n",
    "#a = 1 ; b = -1 ; c =  1\n",
    "#a = 2 ; b =  4 ; c =  2\n"
   ]
  },
  {
   "cell_type": "markdown",
   "metadata": {
    "id": "AgUUytExeuW4"
   },
   "source": [
    "<span style=\"color:red\">**solution :**</span>"
   ]
  },
  {
   "cell_type": "code",
   "execution_count": null,
   "metadata": {
    "colab": {
     "base_uri": "https://localhost:8080/"
    },
    "id": "rbzUEQw3euW4",
    "outputId": "1e10160d-4aec-4ceb-c5e2-c76f4b080653"
   },
   "outputs": [],
   "source": [
    "a = 2 ; b = -1 ; c = -1\n",
    "#a = 2 ; b =  1 ; c =  1\n",
    "#a = 2 ; b =  4 ; c =  2\n",
    "\n",
    "delta = b**2 - 4*a*c\n",
    "\n",
    "if ( delta > 0 ):\n",
    "    xp = (-b + sqrt(delta))/(2*a)\n",
    "    xm = (-b - sqrt(delta))/(2*a)\n",
    "    print('There are 2 real roots:')\n",
    "    print('x_p =',xp)\n",
    "    print('x_m =',xm)\n",
    "\n",
    "if ( delta == 0 ):\n",
    "    xp = -b/(2*a)\n",
    "    xm = xp\n",
    "    print('There is 1 real root:')\n",
    "    print('x =',xp)\n",
    "    \n",
    "if ( delta < 0 ):\n",
    "    xp = (-b + sqrt(-delta)*1j)/(2*a)\n",
    "    xm = (-b - sqrt(-delta)*1j)/(2*a)\n",
    "    print('There are 2 imaginary roots:')\n",
    "    print('z_p =',xp)\n",
    "    print('z_m =',xm)\n",
    "\n",
    "print('ax^2+ bx + c = 0 ?', a*xp**2 + b*xp + c)\n",
    "print('ax^2+ bx + c = 0 ?', a*xm**2 + b*xm + c)"
   ]
  },
  {
   "cell_type": "markdown",
   "metadata": {
    "id": "U3Gytaw-euW5"
   },
   "source": [
    "<hr style=\"border:1px solid grey\">"
   ]
  },
  {
   "cell_type": "markdown",
   "metadata": {
    "id": "rij9F2r3euW5"
   },
   "source": [
    "### ***Repeat with decision : while***"
   ]
  },
  {
   "cell_type": "code",
   "execution_count": null,
   "metadata": {
    "colab": {
     "base_uri": "https://localhost:8080/"
    },
    "id": "Ku3kZMCqeuW5",
    "outputId": "b86acbb4-da5f-488e-c46d-3b8d5bb3577f"
   },
   "outputs": [],
   "source": [
    "a =  0\n",
    "b = -10\n",
    "while (a < 9 and b < 0):\n",
    "    print(a, b)\n",
    "    a = a + 1\n",
    "    b = b + 2"
   ]
  },
  {
   "cell_type": "markdown",
   "metadata": {
    "id": "PjddbIjWeuW5"
   },
   "source": [
    "##### Exercice 1.7 : `while` struct<hr style=\"border:1px solid grey\">\n",
    "> Améliorer le code de l'***Exercice 1.7*** en répétant le saisie de $x$ tant que $x\\notin[10,10^5[$ ; utiliser le code ci-dessous comme point de départ"
   ]
  },
  {
   "cell_type": "code",
   "execution_count": null,
   "metadata": {
    "colab": {
     "base_uri": "https://localhost:8080/"
    },
    "id": "hGP5St5leuW5",
    "outputId": "6f1f18d3-a4ed-4acd-877e-826cc09f86b6"
   },
   "outputs": [],
   "source": [
    "x = input('Give a wavelength in the range [10,10^5[ nm : ')\n",
    "x = float(x)\n",
    "\n",
    "if ( x >= 10 and x < 390 ):\n",
    "    print('UV')\n",
    "elif ( x >= 390 and x < 750 ):\n",
    "    print('visible')\n",
    "elif ( x >= 750 and x < 1e5 ):\n",
    "    print('IR')\n",
    "else:\n",
    "    print('wrong value')"
   ]
  },
  {
   "cell_type": "markdown",
   "metadata": {
    "id": "hDxLFNeDeuW5"
   },
   "source": [
    "<span style=\"color:red\">**solution :**</span>"
   ]
  },
  {
   "cell_type": "code",
   "execution_count": null,
   "metadata": {
    "colab": {
     "base_uri": "https://localhost:8080/"
    },
    "id": "GynDqR9_euW5",
    "outputId": "9a09ca9e-bd4c-4aa3-d744-59ae8400396f"
   },
   "outputs": [],
   "source": [
    "answer = False\n",
    "while( answer == False ):\n",
    "    x = input('Give a wavelength in the range [10,10^5[ nm  : ')\n",
    "    x = float(x)\n",
    "\n",
    "    if ( x >= 10 and x < 390 ):\n",
    "        answer = True\n",
    "        print('UV')\n",
    "    elif ( x >= 390 and x < 750 ):\n",
    "        answer = True\n",
    "        print('visible')\n",
    "    elif ( x >= 750 and x < 1e5 ):\n",
    "        answer = True\n",
    "        print('IR')\n",
    "    else:\n",
    "        answer = False\n",
    "        print('wrong value : do it again!')"
   ]
  },
  {
   "cell_type": "markdown",
   "metadata": {
    "id": "f_9m9VEyeuW5"
   },
   "source": [
    "<hr style=\"border:1px solid grey\">"
   ]
  },
  {
   "cell_type": "markdown",
   "metadata": {
    "id": "V9MHY6EDeuW5"
   },
   "source": [
    "##### Exercice 1.8 : racine carrée itérative utilisant la construction `while`<hr style=\"border:1px solid grey\">\n",
    "\n",
    "> Étant donné un nombre $S$, la racine carrée $\\sqrt{S}$ peut être calculée en utilisant la récursion suivante :\n",
    "\\begin{eqnarray}\n",
    "x_{n+1} &=& \\frac{1}{2}\\left(x_n + \\frac{S}{x_n}\\right)\\\\\n",
    "\\mathrm{tel\\ que}\\ \\sqrt{S} &=& \\lim_{n\\rightarrow\\infty}x_n\n",
    "\\end{eqnarray}\n",
    "> avec $x_0$ une estimation de $\\sqrt{S}$. La récursion doit s'arrêter lorsque la différence absolue entre\n",
    "l'itération actuelle et la précédente est inférieure à une certaine valeur seuil $\\epsilon$, c'est-à-dire lorsque :\n",
    "$|x_{n+1}-x_{n}| < \\mathrm{\\epsilon}$.\n",
    "\n",
    "> Tester l'algorithme pour $S=3$ avec $x_0=1.5$ et $\\epsilon=10^{-6}$. Affichez le nombre d'itérations."
   ]
  },
  {
   "cell_type": "markdown",
   "metadata": {
    "id": "YJDjIj-ReuW5"
   },
   "source": [
    "<span style=\"color:red\">**solution :**</span>"
   ]
  },
  {
   "cell_type": "code",
   "execution_count": null,
   "metadata": {
    "colab": {
     "base_uri": "https://localhost:8080/"
    },
    "id": "ddo6kHwXeuW6",
    "outputId": "d3542c05-ffeb-4cf3-fff7-b0dd16cc00d1"
   },
   "outputs": [],
   "source": [
    "from numpy import sqrt\n",
    "\n",
    "S = 3\n",
    "epsilon = 1e-6\n",
    "error   = 10*epsilon\n",
    "x_old   = 1.5 \n",
    "while ( error > epsilon ):\n",
    "    x = 0.5 * (x_old + S/x_old)\n",
    "    error = abs(x_old - x)\n",
    "    x_old = x\n",
    "\n",
    "print('square-root of',S,'=',x,'vs numpy value =',sqrt(S))"
   ]
  },
  {
   "cell_type": "markdown",
   "metadata": {
    "id": "O8OHxE2reuW6"
   },
   "source": [
    "<hr style=\"border:1px solid grey\">"
   ]
  },
  {
   "cell_type": "markdown",
   "metadata": {},
   "source": [
    "## <hr style=\"border:1px solid black\"> Pour aller plus loin avec les listes <hr style=\"border:1px solid black\">"
   ]
  },
  {
   "cell_type": "markdown",
   "metadata": {
    "id": "6hGKXAAKeuWv"
   },
   "source": [
    "> remarque : une chaîne de caractères est une liste !"
   ]
  },
  {
   "cell_type": "code",
   "execution_count": null,
   "metadata": {
    "colab": {
     "base_uri": "https://localhost:8080/"
    },
    "id": "eROrWyp-euWv",
    "outputId": "d3ac4c6f-a104-4655-a25e-325a5c18a0c3"
   },
   "outputs": [],
   "source": [
    "words = 'Hello_world'\n",
    "index = '012345678910'\n",
    "\n",
    "print(words)\n",
    "print(index)\n",
    "\n",
    "print(words[4])     # access the 5th element \n",
    "print(words[4:])    # access from 5th to the last element\n",
    "print(words[:5])    # access from 0 to 5th (excluded)\n",
    "print(words[2:8:1]) # access from 2 to 8th (excluded) with step size 1 \n",
    "print(words[2:8:2]) # access from 2 to 8th (excluded) with step size 2 "
   ]
  },
  {
   "cell_type": "markdown",
   "metadata": {
    "id": "vleI8XoveuWw"
   },
   "source": [
    "#### Opérations mutables à l'aide de fonctions intégrées aux listes\n",
    "\n",
    "> Ces opérations modifient la liste et font partie des attributs de la classe `list`."
   ]
  },
  {
   "cell_type": "code",
   "execution_count": null,
   "metadata": {
    "id": "h7-KFcereuWw"
   },
   "outputs": [],
   "source": [
    "L = []"
   ]
  },
  {
   "cell_type": "markdown",
   "metadata": {
    "id": "opG2W9L3euWw"
   },
   "source": [
    "> `list.append(x)`"
   ]
  },
  {
   "cell_type": "code",
   "execution_count": null,
   "metadata": {
    "colab": {
     "base_uri": "https://localhost:8080/"
    },
    "id": "hBo9ki0VeuWw",
    "outputId": "7c389cee-ef5c-4888-9c8f-72cd9c4a14ce"
   },
   "outputs": [],
   "source": [
    "L.append(1)\n",
    "L.append('h')\n",
    "L.append(6.626e-34)\n",
    "L.append(False)\n",
    "L.append(2+1.j)\n",
    "print(L)"
   ]
  },
  {
   "cell_type": "markdown",
   "metadata": {
    "id": "aZGEzUz7euWw"
   },
   "source": [
    "> `list.extend()` ou la  surcharge de l'opérateur `+`"
   ]
  },
  {
   "cell_type": "code",
   "execution_count": null,
   "metadata": {
    "colab": {
     "base_uri": "https://localhost:8080/"
    },
    "id": "mnz26BQDeuWw",
    "outputId": "48c3d94a-ecaf-473f-b8e8-97f6da96083f"
   },
   "outputs": [],
   "source": [
    "L.extend(['m0',9.109e-31])\n",
    "print(L)"
   ]
  },
  {
   "cell_type": "code",
   "execution_count": null,
   "metadata": {
    "colab": {
     "base_uri": "https://localhost:8080/"
    },
    "id": "99h-_mQ1euWw",
    "outputId": "43853bbe-d7b0-4344-f0d6-0a7abbef8902"
   },
   "outputs": [],
   "source": [
    "L = L + ['qe',1.602e-19]\n",
    "print(L)"
   ]
  },
  {
   "cell_type": "markdown",
   "metadata": {
    "id": "QfsAiXv8euWx"
   },
   "source": [
    " > `list.insert(i, x)`"
   ]
  },
  {
   "cell_type": "code",
   "execution_count": null,
   "metadata": {
    "colab": {
     "base_uri": "https://localhost:8080/"
    },
    "id": "WkGMlU6JeuWx",
    "outputId": "a4713b2e-1897-4869-f9a6-6d05e7d6c104"
   },
   "outputs": [],
   "source": [
    "L.insert(2,'hbar')\n",
    "print(L)"
   ]
  },
  {
   "cell_type": "markdown",
   "metadata": {
    "id": "x-khxm8heuWx"
   },
   "source": [
    "> `list.remove(x)`"
   ]
  },
  {
   "cell_type": "code",
   "execution_count": null,
   "metadata": {
    "colab": {
     "base_uri": "https://localhost:8080/"
    },
    "id": "YXlNc7mteuWx",
    "outputId": "bc30a573-d729-43cf-aacb-71211666f404"
   },
   "outputs": [],
   "source": [
    "L.remove('qe')\n",
    "print(L)"
   ]
  },
  {
   "cell_type": "markdown",
   "metadata": {
    "id": "QAvxCawveuWx"
   },
   "source": [
    " > `list.pop()`"
   ]
  },
  {
   "cell_type": "code",
   "execution_count": null,
   "metadata": {
    "colab": {
     "base_uri": "https://localhost:8080/"
    },
    "id": "3Fv6DnWveuWx",
    "outputId": "225e7753-4fcd-434d-d156-29e39b6b8c36"
   },
   "outputs": [],
   "source": [
    "toto = L.pop(0)\n",
    "print(toto)\n",
    "print(L)\n",
    "\n",
    "toto = L.pop()\n",
    "print(toto)\n",
    "print(L)"
   ]
  },
  {
   "cell_type": "markdown",
   "metadata": {
    "id": "EY_5lGZyeuWx"
   },
   "source": [
    "> `list.sort()` ; ne peut s'appliquer qu'à une liste uniforme, c'est-à-dire, une liste dont tous les éléments sont du même type"
   ]
  },
  {
   "cell_type": "code",
   "execution_count": null,
   "metadata": {
    "colab": {
     "base_uri": "https://localhost:8080/"
    },
    "id": "rdIiFQG3euWy",
    "outputId": "754e201d-cbd3-4ad5-89e5-7136f2aa84cb"
   },
   "outputs": [],
   "source": [
    "L = [1,8,5,-9]\n",
    "L.sort()\n",
    "print(L)"
   ]
  },
  {
   "cell_type": "markdown",
   "metadata": {
    "id": "zycULNk8euWy"
   },
   "source": [
    "> `list.reverse()`"
   ]
  },
  {
   "cell_type": "code",
   "execution_count": null,
   "metadata": {
    "colab": {
     "base_uri": "https://localhost:8080/"
    },
    "id": "YkFfMmZgeuWy",
    "outputId": "3e2bb53d-61e9-4a0d-b361-39b92419eaa7",
    "scrolled": true
   },
   "outputs": [],
   "source": [
    "L = [1, 'hbar', 6.626e-34, False, (2+1j), 4, 'm0']\n",
    "L.reverse()\n",
    "print(L)"
   ]
  },
  {
   "cell_type": "markdown",
   "metadata": {
    "id": "b0GyUTa5euWy"
   },
   "source": [
    "##### Exercise <hr style=\"border:1px solid grey\">\n",
    "> Essayez de comprendre quelles sont les règles utilisées par `list.sort()` lorsqu'elle opère sur une liste de chaînes de caractères. L'exemple est donné ci-dessous :"
   ]
  },
  {
   "cell_type": "code",
   "execution_count": null,
   "metadata": {
    "colab": {
     "base_uri": "https://localhost:8080/"
    },
    "id": "pjykZ8baeuWy",
    "outputId": "c3ea52e0-451d-492f-e92c-610990a8cb00"
   },
   "outputs": [],
   "source": [
    "L = ['abd', 'abc', 'h', 'bcde', '1ed']\n",
    "L.sort()\n",
    "print(L)"
   ]
  },
  {
   "cell_type": "markdown",
   "metadata": {
    "id": "j49aMNMIeuWy"
   },
   "source": [
    "<hr style=\"border:1px solid grey\">"
   ]
  },
  {
   "cell_type": "markdown",
   "metadata": {
    "id": "x_UAtfofeuWy"
   },
   "source": [
    "#### Opérations non-mutables à l'aide de fonctions externes aux listes\n",
    "\n",
    "> Ces fonctions sont utilisées pour rechercher/traiter/interroger les éléments d'une liste.\n",
    "Elles ne modifient pas la liste. Certaines d'entre elles sont des attributs de la classe `list`, \n",
    "d'autres sont des fonctions internes à `Python`."
   ]
  },
  {
   "cell_type": "markdown",
   "metadata": {
    "id": "3F97pThjeuWy"
   },
   "source": [
    " > `sorted(list)`"
   ]
  },
  {
   "cell_type": "code",
   "execution_count": null,
   "metadata": {
    "colab": {
     "base_uri": "https://localhost:8080/"
    },
    "id": "CWPOcPE4euWz",
    "outputId": "a5c40000-889e-4035-db20-1832efcd828a"
   },
   "outputs": [],
   "source": [
    "L = [1,8,5,-9]\n",
    "K = sorted(L)\n",
    "print(L)\n",
    "print(K)"
   ]
  },
  {
   "cell_type": "markdown",
   "metadata": {
    "id": "IkbOh2rYeuWz"
   },
   "source": [
    "> `min(list)` / `max(list)` / `sum(list)`"
   ]
  },
  {
   "cell_type": "code",
   "execution_count": null,
   "metadata": {
    "colab": {
     "base_uri": "https://localhost:8080/"
    },
    "id": "Je2qMEpkeuWz",
    "outputId": "7ae3166d-5be4-4697-87ca-fc2a3bd73d77"
   },
   "outputs": [],
   "source": [
    "print(min(L))\n",
    "print(max(L))\n",
    "print(sum(L))"
   ]
  },
  {
   "cell_type": "markdown",
   "metadata": {
    "id": "dbpTqd35euWz"
   },
   "source": [
    "> `list.index()`"
   ]
  },
  {
   "cell_type": "code",
   "execution_count": null,
   "metadata": {
    "colab": {
     "base_uri": "https://localhost:8080/"
    },
    "id": "MVIGpeTheuWz",
    "outputId": "51b297a8-2423-4a68-f5cd-b4100e42cbdb"
   },
   "outputs": [],
   "source": [
    "L = [1, 'hbar', 6.626e-34, False, (2+1j), 4, 'm0']\n",
    "print(L.index('hbar'))\n",
    "print(L.index(False))"
   ]
  },
  {
   "cell_type": "markdown",
   "metadata": {
    "id": "kx-oCbW3euWz"
   },
   "source": [
    "> `in`"
   ]
  },
  {
   "cell_type": "code",
   "execution_count": null,
   "metadata": {
    "colab": {
     "base_uri": "https://localhost:8080/"
    },
    "id": "eGf4Ut_leuWz",
    "outputId": "cab58c4c-f889-450a-d5a6-5076cbbc1bbd"
   },
   "outputs": [],
   "source": [
    "print('hbar' in L)\n",
    "print(6.627e-34 in L)"
   ]
  },
  {
   "cell_type": "markdown",
   "metadata": {
    "id": "ozsM86XleuWz"
   },
   "source": [
    "> `list.count(x)`"
   ]
  },
  {
   "cell_type": "code",
   "execution_count": null,
   "metadata": {
    "colab": {
     "base_uri": "https://localhost:8080/"
    },
    "id": "Z3msJ2X8euWz",
    "outputId": "e837e009-8f72-40e5-8cd7-e02f3c9aaeb6"
   },
   "outputs": [],
   "source": [
    "L = [1,2,3,5,2,4,89,1,1,2,2]\n",
    "print(L.count(1))\n",
    "print(L.count(2))"
   ]
  },
  {
   "cell_type": "markdown",
   "metadata": {
    "id": "1g6rztwFeuW0"
   },
   "source": [
    "#### Function `range`\n",
    "\n",
    "> range($n_{inf}$, $n_{sup}$, $\\sigma$) avec $\\sigma$ le pas et $(n_{inf},n_{sup},\\sigma)\\in\\mathbb{Z}$\n",
    "\n",
    "> créé une liste d'entiers $n\\in[n_{inf},n_{sup}[$\n",
    "tel que, $n=\\{n_{inf},\\;n_{inf}+\\sigma,\\;n_{inf}+2\\sigma,...,\\;n_{sup}-\\sigma\\}$\n",
    "\n",
    "> $n_{sup}$ n'est pas compris dans la liste !"
   ]
  },
  {
   "cell_type": "code",
   "execution_count": null,
   "metadata": {
    "colab": {
     "base_uri": "https://localhost:8080/"
    },
    "id": "5CXe07T3euW0",
    "outputId": "21c6d000-4f36-4acd-a8ac-29717f2b1bfb"
   },
   "outputs": [],
   "source": [
    "L = range(10)\n",
    "print(L)\n",
    "print(list(L))\n",
    "\n",
    "L = range(1,10,1)\n",
    "print(L)\n",
    "print(list(L))"
   ]
  },
  {
   "cell_type": "code",
   "execution_count": null,
   "metadata": {
    "colab": {
     "base_uri": "https://localhost:8080/"
    },
    "id": "BJqKmTpWeuW0",
    "outputId": "54c83b5e-969a-4015-ff22-78a7025c5f13"
   },
   "outputs": [],
   "source": [
    "L = range(4,119,4)\n",
    "print(list(L))"
   ]
  },
  {
   "cell_type": "markdown",
   "metadata": {
    "id": "r6w-x6LieuW0"
   },
   "source": [
    "#### Tuples\n",
    "\n",
    "> Un tuple est une séquence d'éléments protégés en écriture."
   ]
  },
  {
   "cell_type": "code",
   "execution_count": null,
   "metadata": {
    "colab": {
     "base_uri": "https://localhost:8080/"
    },
    "id": "piakjSYteuW0",
    "outputId": "ccbefcff-7864-4a1e-f665-1f89da8c1cb6"
   },
   "outputs": [],
   "source": [
    "T = (2,8.67,'toto')\n",
    "print(T, type(T))\n",
    "print(T[2])\n",
    "\n",
    "S = (True,'titi',3+2j)\n",
    "R = S + T\n",
    "print(R)"
   ]
  },
  {
   "cell_type": "markdown",
   "metadata": {
    "id": "sglJvYxgeuW0"
   },
   "source": [
    "> une affectation distribuée est un tuple"
   ]
  },
  {
   "cell_type": "code",
   "execution_count": null,
   "metadata": {
    "colab": {
     "base_uri": "https://localhost:8080/"
    },
    "id": "ANwhzbrieuW0",
    "outputId": "e32f5a65-2b83-4518-f8a4-808e02ec742c"
   },
   "outputs": [],
   "source": [
    "a, b, c = 2, 7.45, 'toto'\n",
    "print(a)\n",
    "print(b)\n",
    "print(c)\n",
    "\n",
    "T = a, b, c\n",
    "print(T)\n",
    "print(type(T))"
   ]
  },
  {
   "cell_type": "markdown",
   "metadata": {
    "id": "ZxfmY5EMeuW0"
   },
   "source": [
    "##### Exercice <hr style=\"border:1px solid grey\">"
   ]
  },
  {
   "cell_type": "markdown",
   "metadata": {
    "id": "Df84PeZ8euW0"
   },
   "source": [
    "1. Créer 2 listes allant de 0 à 5 et de 6 à 9 : $v=[0,1,2,...,5]$ and $w=[6,7,8,9]$ \n",
    "1. A partir de $v$ and $w$ creer une liste unique contenant les 9 premiers entiers : $x=[0,1,2,...,9]$\n",
    "1. Ajouter 10 à la fin de cette liste : $x=[0,1,2,...,9,10]$\n",
    "1. Enlever le deuxième élément de la liste : $x=[0,2,3,...,9,10]$ \n",
    "1. Déplacer le dernier élément à la première position : $x=[10,0,2,...,9]$ "
   ]
  },
  {
   "cell_type": "markdown",
   "metadata": {
    "id": "TVX_qNtWeuW1"
   },
   "source": [
    "<span style=\"color:red\">**solution :**</span>"
   ]
  },
  {
   "cell_type": "code",
   "execution_count": null,
   "metadata": {
    "colab": {
     "base_uri": "https://localhost:8080/"
    },
    "id": "zGy3-VPLeuW1",
    "outputId": "22aa3cd5-aa33-48d6-bd0b-642d138919d0"
   },
   "outputs": [],
   "source": [
    "v = list(range(0,6 ))\n",
    "print(v)\n",
    "\n",
    "w = list(range(6,10))\n",
    "print(w) \n",
    "\n",
    "x = v + w\n",
    "print(x)\n",
    "\n",
    "x.append(10)\n",
    "print(x)\n",
    "\n",
    "x.remove(1)\n",
    "print(x)\n",
    "\n",
    "x.insert(0,x.pop(-1))\n",
    "print(x)"
   ]
  }
 ],
 "metadata": {
  "celltoolbar": "Diaporama",
  "colab": {
   "include_colab_link": true,
   "provenance": []
  },
  "kernelspec": {
   "display_name": "Python 3 (ipykernel)",
   "language": "python",
   "name": "python3"
  },
  "language_info": {
   "codemirror_mode": {
    "name": "ipython",
    "version": 3
   },
   "file_extension": ".py",
   "mimetype": "text/x-python",
   "name": "python",
   "nbconvert_exporter": "python",
   "pygments_lexer": "ipython3",
   "version": "3.9.13"
  }
 },
 "nbformat": 4,
 "nbformat_minor": 1
}
