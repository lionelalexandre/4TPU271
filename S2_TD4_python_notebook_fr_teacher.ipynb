{
 "cells": [
  {
   "cell_type": "markdown",
   "metadata": {
    "id": "F1WI4b8ShUv1"
   },
   "source": [
    "# <span style=\"color:blue\"> <center>Teacher / TD4 : 4TPU279U $-$ Bachelor 1st year $-$ spring 2023</center></span>\n",
    "# <center>Introduction to python programming</center>\n",
    "# <hr style=\"border:1px solid black\"><center>  Finite differences and integration of movement equations  </center><hr style=\"border:1px solid black\">\n",
    "</br>\n",
    "\n",
    "<div style=\"text-align: right\"> Credits: R. Boisgard, L. Truflandier, Philippe Paillou, Julien Burgin, Sara Zein, Leo Delmarre, Simon Villain-Guillot </div>\n"
   ]
  },
  {
   "cell_type": "markdown",
   "metadata": {},
   "source": [
    "The following topics will be cover in this notebook:\n",
    "- Dérivées et différences finies\n",
    "- Différences finies et méthode d'Euler\n",
    "- Application aux équations de la dynamique"
   ]
  },
  {
   "cell_type": "markdown",
   "metadata": {},
   "source": [
    "## <hr style=\"border:1px solid black\">  Dérivées et différences finies  <hr style=\"border:1px solid black\">\n",
    "\n"
   ]
  },
  {
   "cell_type": "markdown",
   "metadata": {},
   "source": [
    "### Différences finies *progressive* et *regressive* ( = *forward* and *backward* finite difference)"
   ]
  },
  {
   "cell_type": "markdown",
   "metadata": {},
   "source": [
    "La dérivée $f'(x)$ d’une fonction $f : \\mathbb{R}\\rightarrow\\mathbb{R}$ au point $x$ est formellement définie par:\n",
    "$$f'(x) = \\lim_{h\\rightarrow 0}\\frac{f(x+h)-f(x)}{h}$$\n",
    "ou encore par\n",
    "$$f'(x) = \\lim_{h\\rightarrow 0}\\frac{f(x)-f(x-h)}{h}$$\n",
    "D'un point de vue géometrique la dérivée correspond à la pente de la tangente à $f$ au point $x$.\n",
    "\n",
    "> Exemple : à partir de la dérivée analytique représenter les tangentes à $f(x)=3x^2-2x^3$ pour $x_1=0$ et $x_2=1$ avec $x\\in[-1.0,2.0]$"
   ]
  },
  {
   "cell_type": "markdown",
   "metadata": {},
   "source": [
    "##### 1. On peut commencer par définir $f(x)$ et $f'(x)$ comme fonctions python :"
   ]
  },
  {
   "cell_type": "code",
   "execution_count": null,
   "metadata": {},
   "outputs": [],
   "source": [
    "def f(x):\n",
    "    return 3*x**2 - 2*x**3\n",
    "\n",
    "def fp(x):\n",
    "    return 6*x - 6*x**2"
   ]
  },
  {
   "cell_type": "markdown",
   "metadata": {},
   "source": [
    "##### 2. On discrétise suivant l'axe $(Ox)$ avec 128 points de grille. Puis on calcul $y=f(x)$."
   ]
  },
  {
   "cell_type": "code",
   "execution_count": null,
   "metadata": {},
   "outputs": [],
   "source": [
    "from numpy import linspace\n",
    "\n",
    "x   = linspace(-1.0,2.0,128)\n",
    "y   = f(x)"
   ]
  },
  {
   "cell_type": "markdown",
   "metadata": {},
   "source": [
    "##### 3. On définit les points d'absisse $x_1=0$ et $x_2=1$. Puis on calcule les dérivées et les équations des tangentes à ces mêmes points, ie. \n",
    "$$y'_1=f'(x_1)(x-x_1) + f(x_1)$$ et  $$y'_2=f'(x_2)(x-x_2) + f(x_2)$$"
   ]
  },
  {
   "cell_type": "code",
   "execution_count": null,
   "metadata": {},
   "outputs": [],
   "source": [
    "xp1 = 0.0\n",
    "xp2 = 1.0\n",
    "\n",
    "yp1 = fp( xp1 ) * (x - xp1) + f( xp1 )\n",
    "yp2 = fp( xp2 ) * (x - xp2) + f( xp2 )"
   ]
  },
  {
   "cell_type": "markdown",
   "metadata": {},
   "source": [
    "##### 4. On représente les courbes"
   ]
  },
  {
   "cell_type": "code",
   "execution_count": null,
   "metadata": {},
   "outputs": [],
   "source": [
    "import matplotlib.pylab as plt\n",
    "\n",
    "plt.plot(x,y,   linestyle='-',color='black',label='$f(x)=x^2$')\n",
    "\n",
    "plt.plot(x,yp1,linestyle='--', color='red',  label='tengente in $x_1=0$')\n",
    "plt.plot(x,yp2,linestyle='--', color='green',label='tengente in $x_2=1$')\n",
    "\n",
    "plt.plot(xp1,f(xp1),marker='o',color='red')\n",
    "plt.plot(xp2,f(xp2),marker='o',color='green')\n",
    "\n",
    "plt.legend()\n",
    "plt.xlim(-1.0,+2.0)\n",
    "plt.ylim(-0.5,+1.5)"
   ]
  },
  {
   "cell_type": "markdown",
   "metadata": {},
   "source": [
    "Si la dérivée analytique de $f$ est inconnue ou que les valeurs $f(x_i)$ ne sont connues que pour un ensemble discret de points $\\{x_i\\}^N_{i=1}$ (résultats d'une série d'expériences par exemple) alors il nous faut évaluer $$f'(x) = \\lim_{h\\rightarrow 0}\\frac{f(x+h)-f(x)}{h}$$ par une approximation numérique. En fixant une valeur pour $h$, connaissant $f(x+h)$ et $f(x)$ alors $f'(x)$ au voisinnage de $x+h$ est évaluée par différence finie *progressive*, suivant : $$f'(x) \\simeq \\frac{f(x+h)-f(x)}{h}\\quad\\quad\\textcolor{green}{(1)}$$ ou par différence finie *régressive*, suivant : $$f'(x) \\simeq \\frac{f(x)-f(x-h)}{h}\\quad\\quad\\textcolor{green}{(2)}$$"
   ]
  },
  {
   "cell_type": "markdown",
   "metadata": {},
   "source": [
    "##### Exercise 4.0 <hr style=\"border:1px solid grey\">\n",
    "\n",
    "Pour la fonction $f(x)=3x^2-2x^3$, et un pas $h=0.5$ représenter les dérivées par différences finies progressives au point $x_1=0$. On utilisera l'exemple précédent de représentation graphique pour cet exercice. On comparera aux résultats analytiques. Recommencer pour $h=0.1$ et $h=0.01$."
   ]
  },
  {
   "cell_type": "markdown",
   "metadata": {},
   "source": [
    "<span style=\"color:red\">**solutions :**</span>"
   ]
  },
  {
   "cell_type": "code",
   "execution_count": null,
   "metadata": {},
   "outputs": [],
   "source": [
    "import matplotlib.pylab as plt\n",
    "from numpy import linspace\n",
    "\n",
    "def f(x):\n",
    "    return 3*x**2 - 2*x**3\n",
    "\n",
    "def fp(x):\n",
    "    return 6*x - 6*x**2\n",
    "\n",
    "x   = linspace(-1.0,2.0,128)\n",
    "y   = f(x)\n",
    "\n",
    "xp1 = 0.0\n",
    "for h in [0.5,0.1,0.01]: \n",
    "    fp1 = ( f(xp1 + h) - f(xp1) ) / h\n",
    "    yp1 = fp1 * (x - xp1) + f( xp1 )\n",
    "\n",
    "    plt.plot(x,yp1, linestyle='--', label='FD tengente in $x_1=0$ for $h=$%.2f'%h)\n",
    "\n",
    "plt.plot(xp1,f(xp1),marker='o',color='red')\n",
    "plt.plot(x,y,linestyle='-',color='black',label='$f(x)=x^2$')\n",
    "\n",
    "yp1_ana = fp(xp1)* (x - xp1) + f( xp1 )\n",
    "plt.plot(x,yp1_ana,linestyle='-',  color='blue', label='analytical tengente in $x_1=0$')\n",
    "\n",
    "plt.legend()\n",
    "plt.xlim(-1.0,+2.0)\n",
    "plt.ylim(-0.5,+1.5)"
   ]
  },
  {
   "cell_type": "markdown",
   "metadata": {},
   "source": [
    "<hr style=\"border:1px solid grey\">"
   ]
  },
  {
   "cell_type": "markdown",
   "metadata": {},
   "source": [
    "### Développement de Taylor et erreur sur les différences finies *progressives* et *régressives*"
   ]
  },
  {
   "cell_type": "markdown",
   "metadata": {},
   "source": [
    "$\\require{color}$\n",
    "L'utilisation d'un développement de Taylor au 3e ordre suivant $h$ pour $x$ au voisinnage de $x+h$ nous donne[<sup>1</sup>](#fn1) :\n",
    "$$f(x+h) = f(x) + hf'(x) + \\frac{h^2}{2!}f''(x) + \\frac{h^3}{3!}f'''(x) + h^3\\epsilon(h)\\quad\\quad\\textcolor{green}{(3)}$$\n",
    "A partir de cette relation, on peut déduire l'erreur commise par l'approximation des différences finies *progressives* : \n",
    "$$f'(x) = \\frac{f(x+h)-f(x)}{h} - \\left( \\textcolor{blue}{\\frac{h}{2!}f''(x)} + \\frac{h^2}{3!}f'''(x) + h^2\\epsilon(h) \\right)$$\n",
    "Dans l'expression ci-dessus le terme dominant est $\\frac{h}{2!}f''(x) $ dans ce cas l'erreur est linéaire par rapport $h$ et on obtient :\n",
    "$$f'(x) = \\frac{f(x+h)-f(x)}{h} + O(h)$$\n",
    "De la même manière on peut utiliser le développement de Talor pour l'approximation des différences finies *régressives* :\n",
    "$$f(x-h) = f(x) - hf'(x) + \\frac{h^2}{2!}f''(x) - \\frac{h^3}{3!}f'''(x) - h^3\\epsilon(h)\\quad\\quad\\textcolor{green}{(4)}$$\n",
    "Il suit :\n",
    "$$f'(x) = \\frac{f(x)-f(x-h)}{h} - \\left(\\textcolor{blue}{- \\frac{h}{2!}f''(x)} + \\frac{h^2}{3!}f'''(x) + h^2\\epsilon(h)\\right)$$\n",
    "L'erreur sur $f(x-h)$ est aussi linéaire par rapport à $h$.\n",
    "\n",
    "\n",
    "<span id=\"fn1\"> $^1$ $h^3\\epsilon(h)$ représente l'erreur de truncation de l'expansion de Taylor avec $\\lim_{h\\rightarrow 0}\\epsilon(h)= 0$. On utilisera l'abréviation $O(h^p)$ pour $h^p\\epsilon(h)$ .</span>"
   ]
  },
  {
   "cell_type": "markdown",
   "metadata": {},
   "source": [
    "##### Exercise 4.1 <hr style=\"border:1px solid grey\">\n",
    "\n",
    "Pour $f(x)=3x^2-2x^3$ calculer la valeur analytique de la dérivée à $x_1 = 0$ et $x_2=1$. Faire afficher le résultat. Calculer la valeur de la dérivée numérique en utilisant la formule de différences finies *progressive* avec $h=0.01$. Enfin, calculer la correction d'ordre $h$ et affiner le résultat numérique."
   ]
  },
  {
   "cell_type": "markdown",
   "metadata": {},
   "source": [
    "<span style=\"color:red\">**solution / DF progressive :**</span>"
   ]
  },
  {
   "cell_type": "code",
   "execution_count": null,
   "metadata": {},
   "outputs": [],
   "source": [
    "import matplotlib.pylab as plt\n",
    "from numpy import linspace\n",
    "\n",
    "def f(x):\n",
    "    return 3*x**2 - 2*x**3\n",
    "\n",
    "def fp(x):\n",
    "    return 6*x - 6*x**2\n",
    "\n",
    "def fpp(x):\n",
    "    return 6 - 12*x\n",
    "\n",
    "xp1 = 0.0\n",
    "xp2 = 1.0\n",
    "h   = 0.01\n",
    "\n",
    "fp1 = ( f(xp1 + h) - f(xp1) ) / h\n",
    "fp2 = ( f(xp2 + h) - f(xp2) ) / h\n",
    "\n",
    "fp1_err = fpp(xp1)*h/2\n",
    "fp2_err = fpp(xp2)*h/2\n",
    "\n",
    "fp1_ana = fp(xp1) \n",
    "fp2_ana = fp(xp2) \n",
    "\n",
    "print('          analytical derivative at x1 = %.6f'%fp1_ana)\n",
    "print('          numerical  derivative at x1 = %.6f'%fp1,'for h = %.2f'%h)\n",
    "print('corrected numerical  derivative at x1 = %.6f'%(fp1-fp1_err),'for h = %.2f'%h)\n",
    "print()\n",
    "print('          analytical derivative at x2 = %.6f'%fp2_ana)\n",
    "print('          numerical  derivative at x2 = %.6f'%fp2,'for h = %.2f'%h)\n",
    "print('corrected numerical  derivative at x2 = %.6f'%(fp2-fp2_err),'for h = %.2f'%h)"
   ]
  },
  {
   "cell_type": "markdown",
   "metadata": {},
   "source": [
    "<hr style=\"border:1px solid grey\">"
   ]
  },
  {
   "cell_type": "markdown",
   "metadata": {},
   "source": [
    "##### Exercise 4.2 <hr style=\"border:1px solid grey\">\n",
    "\n",
    "Reprendre l'***exercice 4.1*** par la méthode des différences finies *regressives*."
   ]
  },
  {
   "cell_type": "markdown",
   "metadata": {},
   "source": [
    "<span style=\"color:red\">**solution / DF régressive :**</span>"
   ]
  },
  {
   "cell_type": "code",
   "execution_count": null,
   "metadata": {},
   "outputs": [],
   "source": [
    "import matplotlib.pylab as plt\n",
    "from numpy import linspace\n",
    "\n",
    "def f(x):\n",
    "    return 3*x**2 - 2*x**3\n",
    "\n",
    "def fp(x):\n",
    "    return 6*x - 6*x**2\n",
    "\n",
    "def fpp(x):\n",
    "    return 6 - 12*x\n",
    "\n",
    "\n",
    "xp1 = 0.0\n",
    "xp2 = 1.0\n",
    "h   = 0.01\n",
    "\n",
    "fp1 = ( f(xp1) - f(xp1 - h) ) / h\n",
    "fp2 = ( f(xp2) - f(xp2 - h) ) / h\n",
    "\n",
    "fp1_err = fpp(xp1)*h/2\n",
    "fp2_err = fpp(xp2)*h/2\n",
    "\n",
    "fp1_ana = fp(xp1) \n",
    "fp2_ana = fp(xp2) \n",
    "\n",
    "print('          analytical derivative at x1 = %.6f'%fp1_ana)\n",
    "print('          numerical  derivative at x1 = %.6f'%fp1,'for h = %.2f'%h)\n",
    "print('corrected numerical  derivative at x1 = %.6f'%(fp1+fp1_err),'for h = %.2f'%h)\n",
    "print()\n",
    "print('          analytical derivative at x2 = %.6f'%fp2_ana)\n",
    "print('          numerical  derivative at x2 = %.6f'%fp2,'for h = %.2f'%h)\n",
    "print('corrected numerical  derivative at x2 = %.6f'%(fp2+fp2_err),'for h = %.2f'%h)"
   ]
  },
  {
   "cell_type": "markdown",
   "metadata": {},
   "source": [
    "<hr style=\"border:1px solid grey\">"
   ]
  },
  {
   "cell_type": "markdown",
   "metadata": {},
   "source": [
    "### Approximation des différences finies *centrées* (central finite difference)"
   ]
  },
  {
   "cell_type": "markdown",
   "metadata": {},
   "source": [
    "Par substraction du développement de Taylor *progressif*  de l'***équation*** $\\textcolor{green}{(3)}$ au développement de Taylor *régressif* de l'***équation*** $\\textcolor{green}{(4)}$, on obtient une nouvelle définition pour la différence finie, appelée approximation des différences finies *centrée* :\n",
    "$$f'(x) = \\frac{f(x+h)-f(x-h)}{2h} - \\left(\\textcolor{blue}{\\frac{h^2}{3!}f'''(x)} + h^2\\epsilon(h)\\right)$$"
   ]
  },
  {
   "cell_type": "markdown",
   "metadata": {},
   "source": [
    "On s'aperçoit ici que l'erreur est au deuxième ordre par rapport à $h$. Pour une valeur donnée de $h$, on s'attend à ce que cette nouvelle approximation soit plus précise que les versions *progressive* et *régressive*."
   ]
  },
  {
   "cell_type": "markdown",
   "metadata": {},
   "source": [
    "##### Exercise 4.3 <hr style=\"border:1px solid grey\">\n",
    "\n",
    "Pour $f(x)=3x^2-2x^3$ calculer la valeur de la dérivée numérique en  à $x_1 = 0$ et $x_2=1$ en utilisant la formule de différences finies *centrées* avec $h=0.01$. Puis, calculer la correction d'ordre $h^2$ et affiner le résultat numérique."
   ]
  },
  {
   "cell_type": "markdown",
   "metadata": {},
   "source": [
    "<span style=\"color:red\">**solution :**</span>"
   ]
  },
  {
   "cell_type": "code",
   "execution_count": null,
   "metadata": {},
   "outputs": [],
   "source": [
    "import matplotlib.pylab as plt\n",
    "from numpy import linspace\n",
    "\n",
    "def f(x):\n",
    "    return 3*x**2 - 2*x**3\n",
    "\n",
    "def fp(x):\n",
    "    return 6*x - 6*x**2\n",
    "\n",
    "def fpp(x):\n",
    "    return 6 - 12*x\n",
    "\n",
    "def fppp():\n",
    "    return -12\n",
    "\n",
    "xp1 = 0.0\n",
    "xp2 = 1.0\n",
    "h   = 0.01\n",
    "\n",
    "fp1 = ( f(xp1 + h) - f(xp1 - h) ) / (2*h)\n",
    "fp2 = ( f(xp2 + h) - f(xp2 - h) ) / (2*h)\n",
    "\n",
    "fp1_err = fppp()*h**2/6\n",
    "fp2_err = fppp()*h**2/6\n",
    "\n",
    "fp1_ana = fp(xp1) \n",
    "fp2_ana = fp(xp2) \n",
    "\n",
    "print('          analytical derivative at x1 = %.12f'%fp1_ana)\n",
    "print('          numerical  derivative at x1 = %.12f'%fp1,'for h = %.2f'%h)\n",
    "print('corrected numerical  derivative at x1 = %.12f'%(fp1-fp1_err),'for h = %.2f'%h)\n",
    "print()\n",
    "print('          analytical derivative at x2 = %.12f'%fp2_ana)\n",
    "print('          numerical  derivative at x2 = %.12f'%fp2,'for h = %.2f'%h)\n",
    "print('corrected numerical  derivative at x2 = %.12f'%(fp2-fp2_err),'for h = %.2f'%h)"
   ]
  },
  {
   "cell_type": "markdown",
   "metadata": {},
   "source": [
    "<hr style=\"border:1px solid grey\">"
   ]
  },
  {
   "cell_type": "markdown",
   "metadata": {},
   "source": [
    "## <hr style=\"border:1px solid black\">  Différences finies et méthode d'Euler <hr style=\"border:1px solid black\">"
   ]
  },
  {
   "cell_type": "markdown",
   "metadata": {},
   "source": [
    "A partir des méthodes de différences finies pour le calcul de dérivées décrites plus haut on peut aussi élaborer une méthode de résolution d'équations différentielles. Ici on considèrera seulement les équations du premier ordre du type : $$\\frac{dy}{dt}=f(t)\\quad\\quad\\textcolor{green}{(5)}$$ \n",
    ">A partir de l'***équation*** $\\textcolor{green}{(1)}$, en négligeant les ordre supérieur à $h$ on peut approximer $y'(t)$ par :\n",
    "$$\\frac{dy}{dt}=f(t)\\simeq\\frac{y(t+\\delta t) - y(t)}{\\delta t}$$\n",
    "ou $\\delta t\\equiv h$ correspond au pas de temps. On peut alors procéder à une integration pas à pas de l'***équation*** $\\textcolor{green}{(5)}$ suivant:\n",
    "$$y(t+\\Delta t) = y(t) + hf(t)$$\n",
    "Connaisant les conditions initiales $y_0=y(t_0)$ et la valeur de $f(t_i)$ pour chaque valeur $t_i\\in[t_0,t_\\infty]$ on peut prédire la valeur de $y$ au pas $t_{i+1}=t_i+h$. L'***équation*** $\\textcolor{green}{(5)}$ peut-être réécrite suivant :\n",
    "$$y(t_{i+1}) = y(t_i) + hf(t_i)\\quad\\quad\\textcolor{green}{(6)}$$ \n",
    "\n",
    "Cette méthode d'intégration est appelée méthode d'Euler explicite.\n",
    "\n",
    "> Notons qu'il existe une autre manière de trouver la relation de récurrence ci-dessus, en explicitant l'intégration par pas de temps successif. En d'autres termes, à partir de  l'***équation*** $\\textcolor{green}{(5)}$, nous obtenons : $$dy=f(t)dt\\quad\\quad\\textcolor{green}{(7)}$$ L'intégration numérique de l'***équation*** $\\textcolor{green}{(7)}$ sur l'intervalle $(t_{i+1}-t_i)$ s'écrit : $$\\int^{t_{i+1}}_{t_{i}}dy = \\int^{t_{i+1}}_{t_{i}}f(t)dt$$ \n",
    "où le membre de droite de l'équation peut-être approximé par l'aire du rectangle\n",
    "de côtés $h=t_{i+1} - t_{i}$ et $f(t_i)$.\n",
    "Ce qui donne : $$y(t_{i+1}) - y(t_{i}) \\simeq  hf(t_i)$$"
   ]
  },
  {
   "cell_type": "markdown",
   "metadata": {},
   "source": [
    "Ci dessous, sont représentés les rectangles d'aire $hf(t_i)$ pour $f=3x^2-2x^3$ et $t\\in[-1,2]$ avec un pas de $h=0.2$. On remarquera l'erreur associée à la méthode des rectangles."
   ]
  },
  {
   "cell_type": "code",
   "execution_count": null,
   "metadata": {},
   "outputs": [],
   "source": [
    "from numpy import linspace, arange\n",
    "import matplotlib.pyplot as plt\n",
    "\n",
    "tmin = -1\n",
    "tmax = +2\n",
    "h    = +0.2\n",
    "\n",
    "t = arange(tmin, tmax+h, h)\n",
    "f = 3*t**2 - 2*t**3\n",
    "plt.plot(t,f,marker='o',linestyle='-',color='blue')\n",
    "plt.fill_between(t, f, alpha=0.2, interpolate=True)\n",
    "\n",
    "for i in range(len(t)-1):\n",
    "    t_rect = [t[i], t[i], t[i+1], t[i+1], t[i]]\n",
    "    f_rect = [0   , f[i], f[i]  , 0     , 0   ]\n",
    "    plt.plot(t_rect,f_rect,marker='',linestyle='-',color='red')\n",
    "    \n",
    "plt.xlabel('$t_i$')\n",
    "plt.ylabel('$f(t_i)$')\n",
    "plt.xticks(arange(tmin, tmax+h, h*2))\n",
    "plt.show()"
   ]
  },
  {
   "cell_type": "markdown",
   "metadata": {},
   "source": [
    "##### Exercise 4.4 <hr style=\"border:1px solid grey\">\n",
    "\n",
    "En utilisant le programme précédent, calculer l'aire de la fonction $f(x)=3x^2-2x^3$ pour $h=0.2$ et $t\\in[-1,2]$. Comparer à la valeur théorique de $3/2$ en faisant afficher l'erreur. Recommencer pour $h=0.1,0.01,0.001,0.0001,0.00001$ (on pourra utiliser une boucle)."
   ]
  },
  {
   "cell_type": "markdown",
   "metadata": {},
   "source": [
    "<span style=\"color:red\">**solution :**</span>"
   ]
  },
  {
   "cell_type": "code",
   "execution_count": null,
   "metadata": {},
   "outputs": [],
   "source": [
    "tmin = -1\n",
    "tmax = +2\n",
    "\n",
    "for h in [0.2,0.1,0.01,0.001,0.0001,0.00001]:\n",
    "\n",
    "    t = arange(tmin, tmax+h, h)\n",
    "    f = 3*t**2 - 2*t**3\n",
    "    \n",
    "    integral = 0.0\n",
    "    for i in range(len(t)-1):\n",
    "        integral = integral + h*f[i]\n",
    "        \n",
    "    print('integral = %.6f'%integral, 'erreur = %.6f'%(integral-1.5))"
   ]
  },
  {
   "cell_type": "markdown",
   "metadata": {},
   "source": [
    "<hr style=\"border:1px solid grey\">"
   ]
  },
  {
   "cell_type": "markdown",
   "metadata": {},
   "source": [
    "### Exemple d'application de la méthode d'Euler\n",
    "\n",
    "Prenons par example l'équation suivante :\n",
    "$$\\frac{dy}{dt}=-y$$\n",
    "avec la condition initiale $y_0=100$ et la solution analytique $y(t)=y_0\\exp(-t)$.\n",
    "> Discrétisons $t$ pour $t\\in[0,5]$ avec un pas $h=0.1$ "
   ]
  },
  {
   "cell_type": "code",
   "execution_count": null,
   "metadata": {},
   "outputs": [],
   "source": [
    "from numpy import arange, linspace, exp, zeros\n",
    "\n",
    "h = 0.1\n",
    "t = arange(0,5+h,h)"
   ]
  },
  {
   "cell_type": "markdown",
   "metadata": {},
   "source": [
    "> Définissons le membre de droite de ***équation*** $\\textcolor{green}{(5)}$ :"
   ]
  },
  {
   "cell_type": "code",
   "execution_count": null,
   "metadata": {},
   "outputs": [],
   "source": [
    "def f(x):\n",
    "    return -x"
   ]
  },
  {
   "cell_type": "markdown",
   "metadata": {},
   "source": [
    "> Calculons pas à pas $y(t_{i+1})=y(t_i) + hf(t_i)$ avec $y(t_0)=100$"
   ]
  },
  {
   "cell_type": "code",
   "execution_count": null,
   "metadata": {},
   "outputs": [],
   "source": [
    "y0 = 100\n",
    "yi =  y0\n",
    "for i in range(1,len(t)):\n",
    "    yi = yi + h*f(yi)\n",
    "    #print('index %s : ti = %.3f, yi = %.3f'%(i,t[i],yi))"
   ]
  },
  {
   "cell_type": "markdown",
   "metadata": {},
   "source": [
    "> Sauvegardons chaque valeur de $y(t_i)$ dans un tableau `y_euler`"
   ]
  },
  {
   "cell_type": "code",
   "execution_count": null,
   "metadata": {},
   "outputs": [],
   "source": [
    "y0 = 100\n",
    "y_euler    = zeros(len(t))\n",
    "y_euler[0] = y0\n",
    "for i in range(len(t)-1):\n",
    "    y_euler[i+1] = y_euler[i] + h*f(y_euler[i])"
   ]
  },
  {
   "cell_type": "markdown",
   "metadata": {},
   "source": [
    "> Représentons $y(t)$ obtenu par la méthode d'Euler $(y_\\textrm{Euler})$ et par la solution analytique $(y_\\textrm{exact})$"
   ]
  },
  {
   "cell_type": "code",
   "execution_count": null,
   "metadata": {},
   "outputs": [],
   "source": [
    "import matplotlib.pyplot as plt \n",
    "\n",
    "y_exact= y0*exp(-t)\n",
    "\n",
    "plt.plot(t,y_euler, linestyle='-', label='Euler')\n",
    "plt.plot(t,y_exact, linestyle='--',label='Analytic')\n",
    "plt.xlabel('$t$ (in sec.)')\n",
    "plt.ylabel('$y(t)$')\n",
    "plt.legend()"
   ]
  },
  {
   "cell_type": "markdown",
   "metadata": {},
   "source": [
    "> Représentons l'ecart de la solution numérique par rapport à la solution analytique"
   ]
  },
  {
   "cell_type": "code",
   "execution_count": null,
   "metadata": {},
   "outputs": [],
   "source": [
    "import matplotlib.pyplot as plt \n",
    "\n",
    "y_err = y_exact - y_euler\n",
    "\n",
    "plt.plot(t,y_err, linestyle='-', label='Euler')\n",
    "plt.xlabel('$t$ (in sec.)')\n",
    "plt.ylabel('$\\Delta y(t)$')\n",
    "plt.legend()"
   ]
  },
  {
   "cell_type": "markdown",
   "metadata": {},
   "source": [
    "##### Exercise 4.5 <hr style=\"border:1px solid grey\">\n",
    "\n",
    "Reprendre la solution numérique de l'équation $$\\frac{dy}{dt}=-y,\\quad y_0=100$$ pour des pas de temps $h=\\{0.1,0.05,0.01\\}$ et représenter l'erreur par rapport aux résultats analytiques. Qu'observe t-on ? Est-ce attendu ?"
   ]
  },
  {
   "cell_type": "markdown",
   "metadata": {},
   "source": [
    "<span style=\"color:red\">**solution :**</span>"
   ]
  },
  {
   "cell_type": "code",
   "execution_count": null,
   "metadata": {},
   "outputs": [],
   "source": [
    "from numpy import arange, linspace, exp, zeros\n",
    "\n",
    "def f(x):\n",
    "    return -x\n",
    "\n",
    "y0 = 100\n",
    "\n",
    "for h in [0.1, 0.05, 0.01]:\n",
    "\n",
    "    t          = arange(0,5+h,h)\n",
    "    y_euler    = zeros(len(t))\n",
    "    y_euler[0] = y0\n",
    "    for i in range(len(t)-1):\n",
    "        y_euler[i+1] = y_euler[i] + h*f(y_euler[i])    \n",
    "\n",
    "    y_exact = y0*exp(-t)\n",
    "    y_err   = y_exact - y_euler\n",
    "\n",
    "    plt.plot(t, y_err, linestyle='-', label='Euler with $h=%.4f$'%h)\n",
    "\n",
    "plt.xlabel('$t$ (in sec.)')\n",
    "plt.ylabel('Error $\\Delta y(t)$')\n",
    "plt.legend()"
   ]
  },
  {
   "cell_type": "markdown",
   "metadata": {},
   "source": [
    "<hr style=\"border:1px solid grey\">"
   ]
  },
  {
   "cell_type": "markdown",
   "metadata": {},
   "source": [
    "##### Exercise 4.6 <hr style=\"border:1px solid grey\">\n",
    "\n",
    "A partir de l'approximation des différences finies *centrées* la résolution numérique de l'équation différentielle $$\\frac{dy}{dt}=-y,\\quad y_0=100$$ s'écrit :\n",
    "$$y(t+h) = y(t-h) + 2hf(t)$$\n",
    "c'est-à-dire :\n",
    "$$y(t_{i+1}) = y(t_{i-1}) + 2hf(t_i)$$\n",
    "1. Ecrire le programme qui permet cette résolution. On prendra $h=0.01$, $y_0 =100$ et $y_1 =99$.\n",
    "2. Sur le même graphique représenter les résultats analytique et numérique.\n",
    "3. Sur un deuxième graphique représenter l'erreur des différences finies *centrées* et des différences finies *progressives*.\n",
    "4. Recommencer avec les conditions initiales suivantes : $y_0 =100$ et $y_1 =99.005$. Conclure."
   ]
  },
  {
   "cell_type": "markdown",
   "metadata": {},
   "source": [
    "<span style=\"color:red\">**solution :**</span>"
   ]
  },
  {
   "cell_type": "code",
   "execution_count": null,
   "metadata": {},
   "outputs": [],
   "source": [
    "from numpy import arange, linspace, exp, zeros\n",
    "import matplotlib.pyplot as plt\n",
    "\n",
    "def f(x):\n",
    "    return -x\n",
    "\n",
    "y0 = 100\n",
    "\n",
    "h  = 0.01\n",
    "t  = arange(0,5+h,h)\n",
    "y_euler_c    = zeros(len(t))\n",
    "y_euler_c[0] = y0\n",
    "y_euler_c[1] = 99\n",
    "for i in range(1,len(t)-1):\n",
    "    y_euler_c[i+1] = y_euler_c[i-1] + 2*h*f(y_euler_c[i])\n",
    "    \n",
    "y_exact = y0*exp(-t)    \n",
    "y_err_c = y_exact - y_euler_c\n",
    "\n",
    "plt.plot(t,y_euler_c, linestyle='-', label='Euler central FD')\n",
    "plt.plot(t,y_exact, linestyle='--',  label='Analytic')\n",
    "plt.xlabel('$t$ (in sec.)')\n",
    "plt.ylabel('$y(t)$')\n",
    "plt.legend()"
   ]
  },
  {
   "cell_type": "code",
   "execution_count": null,
   "metadata": {},
   "outputs": [],
   "source": [
    "plt.plot(t,y_err_c, linestyle='-', label='Euler central FD with $h=%.4f$'%0.01)\n",
    "#plt.plot(t,y_err, linestyle='-', label='Euler progressive FD with $h=%.4f$'%0.01)\n",
    "\n",
    "plt.xlabel('$t$ (in sec.)')\n",
    "plt.ylabel('Error $\\Delta y(t)$')\n",
    "plt.legend()"
   ]
  },
  {
   "cell_type": "markdown",
   "metadata": {},
   "source": [
    "<hr style=\"border:1px solid grey\">"
   ]
  },
  {
   "cell_type": "markdown",
   "metadata": {},
   "source": [
    "## <hr style=\"border:1px solid black\">  Application aux équations de la dynamique <hr style=\"border:1px solid black\">"
   ]
  },
  {
   "cell_type": "markdown",
   "metadata": {},
   "source": [
    "L'objectif ici est de  construire les trajectoires de points matériels soumis à diverses forces (ressort, poids, frottement, gravité) de façon numérique, c'est-à-dire sans résoudre analytiquement des équations différentielles de la dynamique :\n",
    "\n",
    "$$\\begin{align}\n",
    "\\vec f &=m \\vec a =m \\frac {d \\vec v}{dt}\\quad\\quad\\textcolor{green}{(8)}\\\\\n",
    "\\vec v &= \\frac {d \\vec r}{dt}\n",
    "\\end{align}$$\n",
    "\n",
    "avec $\\vec{v}$ le vecteur vitesse de coordonnées $(v_x,v_y,v_z)$ et $\\vec{r}$ le vecteur position de coordonnées $(x,y,z)$. A partir de la méthode d'Euler, cf. ***équation*** $\\textcolor{green}{(6)}$, le calcul de $\\vec{v}$ et $\\vec{r}$ peut s'obtenir par récurrence suivant :\n",
    "\n",
    "$$\\begin{align}\n",
    "\\vec{r}(t_{i+1}) &= \\vec{r}(t_i) + h\\ \\vec{v}(t_i)\\\\\n",
    "\\vec{v}(t_{i+1}) &= \\vec{v}(t_i) + \\frac{h}{m}\\vec{f}(t_i)\n",
    "\\end{align}$$\n",
    "\n",
    "avec $h=t_{i+1}-t_{i}$ le pas d'intégration des équations du mouvement. Dans le cas de mouvements  unidirectionnels, on a $\\vec{r}=x\\vec{e}_x$, $\\vec{v}=v\\vec{e}_x$ et $\\vec{f}=f\\vec{e}_x$\n",
    "Ce qui nous donne 1 équation pour la position :\n",
    "\n",
    "$$\\begin{align}\n",
    "x(t_{i+1})   &= x(t_i) + h\\;v(t_i)\\\\   \n",
    "\\end{align}$$\n",
    "\n",
    "et 1 équation pour la vitesse :\n",
    "\n",
    "$$\\begin{align}\n",
    "v(t_{i+1}) &= v(t_i)+\\frac{h}m f\\left(x(t_i)\\right) \\\\ \n",
    "\\end{align}$$\n",
    "\n",
    "\n",
    "On voit qu'à partir de ces équations, si on connait $(x,v)$ à un instant $t_i$ donné, on est alors capable de déterminer $(x,v)$ à un instant ultérieur $t_{i+1}$ et ainsi de construire pas à pas la trajectoire d'un point matériel au cours du temps."
   ]
  },
  {
   "cell_type": "markdown",
   "metadata": {},
   "source": [
    "### Mouvement d'un oscillateur harmonique 1D méthode d'Euler"
   ]
  },
  {
   "cell_type": "markdown",
   "metadata": {},
   "source": [
    "> On souhaite étudier le mouvement d'un objet de masse $m$ soumis à une force de rappel : $$f=-kx \\quad\\quad\\textcolor{green}{(9)}$$ (loi de Hooke) avec $m=1$ kg, $k=4$ N/m. On négligera les frottements. Le temps d'étude sera de $t_\\textrm{max}=4\\pi$ s, avec un pas de discrétisation de $h=0.01$ s. On utilisera les conditions initiales $x(t_0)=0.1$ et $v(t_0)=0$.  On rappelle la solution analytique de l'équation du mouvement : $x(t) = x_0\\cos(\\omega t)$ avec $\\omega=\\sqrt{k/m}$.\n",
    "\n",
    "> On commence par définir le membre de droite de l'équation de la dynamique :"
   ]
  },
  {
   "cell_type": "code",
   "execution_count": null,
   "metadata": {},
   "outputs": [],
   "source": [
    "def f(x):\n",
    "    k = 4.0\n",
    "    return -k*x"
   ]
  },
  {
   "cell_type": "markdown",
   "metadata": {},
   "source": [
    "> On discrétise l'axe du temps :"
   ]
  },
  {
   "cell_type": "code",
   "execution_count": null,
   "metadata": {},
   "outputs": [],
   "source": [
    "from numpy import pi, arange, zeros, cos, sqrt\n",
    "\n",
    "tmin = 0.0\n",
    "tmax = 4*pi\n",
    "h    = 0.01\n",
    "t    = arange(tmin,tmax,h)"
   ]
  },
  {
   "cell_type": "markdown",
   "metadata": {},
   "source": [
    "> On initialise $m$, $k$, les tableaux pour $x$ et $v$ ainsi que les conditions initiales :"
   ]
  },
  {
   "cell_type": "code",
   "execution_count": null,
   "metadata": {},
   "outputs": [],
   "source": [
    "m = 1.0\n",
    "k = 4.0\n",
    "\n",
    "x = zeros(len(t))\n",
    "v = zeros(len(t))\n",
    "\n",
    "x0 = 0.1\n",
    "v0 = 0.0"
   ]
  },
  {
   "cell_type": "markdown",
   "metadata": {},
   "source": [
    "> On applique la relation de récurrence de Euler à $x$ et à $v$ :"
   ]
  },
  {
   "cell_type": "code",
   "execution_count": null,
   "metadata": {},
   "outputs": [],
   "source": [
    "x[0] = x0\n",
    "v[0] = v0\n",
    "for i in range(len(t)-1):\n",
    "    x[i+1] = x[i] + h*v[i]\n",
    "    v[i+1] = v[i] + h*f(x[i])/m"
   ]
  },
  {
   "cell_type": "markdown",
   "metadata": {},
   "source": [
    "> Tracer des lois horaires $x(t)$ et $v(t)$ et de la solution analytique :"
   ]
  },
  {
   "cell_type": "code",
   "execution_count": null,
   "metadata": {},
   "outputs": [],
   "source": [
    "import matplotlib.pylab as plt\n",
    "\n",
    "x_analy = x0*cos( sqrt(k/m)*t )\n",
    "\n",
    "plt.plot(t,x,marker='',label='$x(t)$')\n",
    "plt.plot(t,v,marker='',label='$v(t)$')\n",
    "plt.plot(t,x_analy,marker='',label='$x(t)$ analytic',)\n",
    "plt.xlabel('$t$ (in s)')\n",
    "plt.legend()"
   ]
  },
  {
   "cell_type": "markdown",
   "metadata": {},
   "source": [
    "> Tracer du portrait de phase $(x(t),v(t))$ et repérage des conditions initiales :"
   ]
  },
  {
   "cell_type": "code",
   "execution_count": null,
   "metadata": {},
   "outputs": [],
   "source": [
    "plt.plot(x,v,marker='')\n",
    "plt.plot(x0,v0,marker='o')\n",
    "plt.xlabel('$x(t)$')\n",
    "plt.ylabel('$v(t)$')"
   ]
  },
  {
   "cell_type": "markdown",
   "metadata": {},
   "source": [
    "Dans le cas idéal, sans frottement, l'énergie mécanique $(E_m)$ doit être une constante du mouvement. Cette énergie est donnée par la somme de l'énergie cinétique :\n",
    "$$E_c(t)= \\frac{1}{2}mv(t)^2$$\n",
    "et de l'énergie potentielle, qui dans le cas d'un oscillateur harmonique 1D est donnée par :\n",
    "$$E_p(t)= \\frac{1}{2}kx(t)^2$$\n"
   ]
  },
  {
   "cell_type": "markdown",
   "metadata": {},
   "source": [
    "> Tracer de l'évolution de $E_m(t)$, $E_c(t)$ et $E_p(t)$ avec\n",
    "$$E_c(t)= \\frac{1}{2}mv(t)^2$$\n",
    "$$E_p(t)= \\frac{1}{2}kx(t)^2$$\n",
    "$$E_m(t)=E_c(t)+E_p(t)$$"
   ]
  },
  {
   "cell_type": "code",
   "execution_count": null,
   "metadata": {},
   "outputs": [],
   "source": [
    "Ec = 1/2*m*v**2\n",
    "Ep = 1/2*k*x**2\n",
    "Em = Ec + Ep\n",
    "\n",
    "plt.plot(t,Ec,marker='',label='$E_c(t)$')\n",
    "plt.plot(t,Ep,marker='',label='$E_p(t)$')\n",
    "plt.plot(t,Em,marker='',label='$E_m(t)$')\n",
    "plt.xlabel('$t$ (in sec)')\n",
    "plt.ylabel('Energy (in J)')\n",
    "plt.legend()"
   ]
  },
  {
   "cell_type": "markdown",
   "metadata": {},
   "source": [
    "> A partir de des ***équations*** $\\textcolor{green}{(8)}$ et $\\textcolor{green}{(9)}$ on peut montrer que : $$E_m(t_{i+1}) = E_m(t_{i})\\left(1+h^2\\frac{k}{m}\\right)\\quad\\quad\\textcolor{green}{(10)}$$\n",
    "On remarque que l'énergie totale est conservée si et seulement si $h=0$. Dans tous les autres cas l'énergie augmente à une vitesse en $(1+\\alpha h^2)$. Ci-dessous l'évolution de l'énergie mécanique en fonction du temps est représenté en utilisant ***l'équation*** $\\textcolor{green}{(10)}$."
   ]
  },
  {
   "cell_type": "code",
   "execution_count": null,
   "metadata": {},
   "outputs": [],
   "source": [
    "Em_analy = zeros(len(t))\n",
    "\n",
    "Em_analy[0] = Ec[0] + Ep[0]\n",
    "for i in range(len(t)-1):\n",
    "    Em_analy[i+1] = Em_analy[i]*(1 + h**2*k/m) \n",
    "\n",
    "plt.plot(t,Ec,marker='',label='$E_c(t)$')\n",
    "plt.plot(t,Ep,marker='',label='$E_p(t)$')\n",
    "plt.plot(t,Em,marker='',label='$E_m(t)$')\n",
    "plt.plot(t,Em_analy,marker='',linestyle='--',label='$E_m(t)$ analytique')\n",
    "\n",
    "plt.xlabel('$t$ (in sec)')\n",
    "plt.ylabel('Energy (in J)')\n",
    "plt.legend()"
   ]
  },
  {
   "cell_type": "markdown",
   "metadata": {},
   "source": [
    "##### Exercise 4.7 <hr style=\"border:1px solid grey\">"
   ]
  },
  {
   "cell_type": "markdown",
   "metadata": {},
   "source": [
    "Nous avons vu que la méthode d'Euler appliquée à l'intégration des équations du mouvement ne permet pas de conserver l'énergie. Dans le cas 1D, ces équations sont données par :\n",
    "\n",
    "$$\\begin{align}\n",
    "x(t_{i+1}) &= \\textcolor{blue}{x(t_i)} + h\\;v(t_i)\\\\   \n",
    "v(t_{i+1}) &= v(t_i)+\\frac{h}m \\textcolor{blue}{f\\left(x(t_{i})\\right)} \\\\ \n",
    "\\end{align}$$\n",
    "\n",
    "Ici on propose d'étudier la méthode de Hooke-Newton décrite ci-dessous :\n",
    "$$\\begin{align}\n",
    "\\textcolor{blue}{x(t_{i+1})} &= x(t_i) + h\\;v(t_i)\\\\   \n",
    "v(t_{i+1}) &= v(t_i)+\\frac{h}m \\textcolor{blue}{f\\left(x(t_{i+1})\\right)} \\\\ \n",
    "\\end{align}$$\n",
    "pour cette dernière, on remarquera que pour prédire la vitesse au temps $t_{i+1}$ la force est maintenant évaluée à la position $x(t_{i+1})$.\n",
    "\n",
    "Reprendre l'étude du mouvement d'un oscillateur harmonique 1D en utilisant ces nouvelles équations. On utilisera les mêmes paramètres de calcul."
   ]
  },
  {
   "cell_type": "code",
   "execution_count": null,
   "metadata": {},
   "outputs": [],
   "source": [
    "from numpy import pi, arange, zeros, sqrt\n",
    "\n",
    "def f(x):\n",
    "    k = 4.0\n",
    "    return -k*x\n",
    "\n",
    "tmin = 0.0\n",
    "tmax = 4*pi\n",
    "h    = 0.001\n",
    "t    = arange(tmin,tmax,h)\n",
    "\n",
    "m = 1.0\n",
    "k = 4.0\n",
    "\n",
    "x = zeros(len(t))\n",
    "v = zeros(len(t))\n",
    "\n",
    "x0 = 0.1\n",
    "v0 = 0.0\n",
    "\n",
    "x[0] = x0\n",
    "v[0] = v0\n",
    "for i in range(len(t)-1):\n",
    "    x[i+1] = x[i] + h*v[i]\n",
    "    v[i+1] = v[i] + h*f(x[i+1])/m"
   ]
  },
  {
   "cell_type": "code",
   "execution_count": null,
   "metadata": {},
   "outputs": [],
   "source": [
    "import matplotlib.pylab as plt\n",
    "\n",
    "plt.plot(t,x,marker='',label='$x(t)$')\n",
    "plt.plot(t,v,marker='',label='$v(t)$')\n",
    "plt.xlabel('$t$ (in s)')\n",
    "plt.legend()"
   ]
  },
  {
   "cell_type": "code",
   "execution_count": null,
   "metadata": {},
   "outputs": [],
   "source": [
    "plt.plot(x,v,marker='')\n",
    "plt.plot(x0,v0,marker='o')\n",
    "plt.xlabel('$x(t)$')\n",
    "plt.ylabel('$v(t)$')"
   ]
  },
  {
   "cell_type": "code",
   "execution_count": null,
   "metadata": {},
   "outputs": [],
   "source": [
    "Ec = 1/2*m*v**2\n",
    "Ep = 1/2*k*x**2\n",
    "Em = Ec + Ep\n",
    "\n",
    "plt.plot(t,Ec,marker='',label='$E_c(t)$')\n",
    "plt.plot(t,Ep,marker='',label='$E_p(t)$')\n",
    "plt.plot(t,Em,marker='',label='$E_m(t)$')\n",
    "plt.xlabel('$t$ (in sec)')\n",
    "plt.ylabel('Energy (in J)')\n",
    "plt.legend()"
   ]
  },
  {
   "cell_type": "markdown",
   "metadata": {
    "id": "iW7MFdnUhUwd"
   },
   "source": [
    "<hr style=\"border:1px solid grey\">"
   ]
  },
  {
   "cell_type": "code",
   "execution_count": null,
   "metadata": {},
   "outputs": [],
   "source": []
  }
 ],
 "metadata": {
  "celltoolbar": "Diaporama",
  "colab": {
   "provenance": []
  },
  "kernelspec": {
   "display_name": "Python 3 (ipykernel)",
   "language": "python",
   "name": "python3"
  },
  "language_info": {
   "codemirror_mode": {
    "name": "ipython",
    "version": 3
   },
   "file_extension": ".py",
   "mimetype": "text/x-python",
   "name": "python",
   "nbconvert_exporter": "python",
   "pygments_lexer": "ipython3",
   "version": "3.9.13"
  }
 },
 "nbformat": 4,
 "nbformat_minor": 1
}
