{
 "cells": [
  {
   "cell_type": "markdown",
   "metadata": {
    "slideshow": {
     "slide_type": "slide"
    }
   },
   "source": [
    "# <span style=\"color:blue\"> <center>Teacher / TD3 : 4TPU279U $-$ Bachelor 1st year $-$ spring 2023</center></span>\n",
    "# <center>Introduction à la programmation Python</center>\n",
    "# <hr style=\"border:1px solid black\"><center> Traitement des données et représentation graphique </center><hr style=\"border:1px solid black\">\n",
    "</br>\n",
    "\n",
    "<div style=\"text-align: right\"> Credits: R. Boisgard, L. Truflandier, Philippe Paillou, Julien Burgin, Sara Zein, Leo Delmarre, Simon Villain-Guillot </div>"
   ]
  },
  {
   "cell_type": "markdown",
   "metadata": {},
   "source": [
    "<hr style=\"border:1px solid grey\">"
   ]
  },
  {
   "cell_type": "markdown",
   "metadata": {},
   "source": [
    "Les sujets suivants seront abordés dans ce notebook :\n",
    "- Traitement des fichiers de données\n",
    "- Les bases de la représentation graphique\n",
    "- Guide de survie pour les travaux pratiques"
   ]
  },
  {
   "cell_type": "markdown",
   "metadata": {},
   "source": [
    "## <hr style=\"border:1px solid black\">  Traitement des fichiers de données  <hr style=\"border:1px solid black\">"
   ]
  },
  {
   "cell_type": "markdown",
   "metadata": {},
   "source": [
    "### Utilisation des fonctions intrinsèques python\n",
    "> A partir d'un fichier de données **localisé dans le répertoire** `data_examples`, lui-même situé au même endroit que le fichier jupypter-notebook, ce dernier peut être *ouvert* en utilisant la fonction intégrée [`open()`](https://docs.python.org/3/library/functions.html#open).\n",
    "> Un exemple est donné ci-dessous avec le fichier de données `data_sin.csv` où le second argument de `open()` - à savoir `r` (= read)- représente un traitement type *lecture*."
   ]
  },
  {
   "cell_type": "code",
   "execution_count": null,
   "metadata": {},
   "outputs": [],
   "source": [
    "file = open('data_examples/data_sin.txt','r')\n",
    "print(type(file))"
   ]
  },
  {
   "cell_type": "markdown",
   "metadata": {},
   "source": [
    "*Remarque : pour visualiser le contenu de `data_sin.txt` dans un jupyter-notebook, vous pouvez cliquer sur `Fichier/Ouvrir` et choisir le fichier dans le répertoire courant*."
   ]
  },
  {
   "cell_type": "markdown",
   "metadata": {},
   "source": [
    "> le contenu de `data_sin.txt` peut être importé en utilisant la fonction `_io.TextIOWrapper`\n",
    "appelée `readlines()`. Dans ce cas, les données sont stockées dans `data` sous la forme d'une liste de chaînes de caractères."
   ]
  },
  {
   "cell_type": "code",
   "execution_count": null,
   "metadata": {},
   "outputs": [],
   "source": [
    "data = file.readlines()\n",
    "print(data)"
   ]
  },
  {
   "cell_type": "markdown",
   "metadata": {},
   "source": [
    "> Pour extraire la première ligne, nous pouvons utiliser `readline()` (sans s !). Ensuite, `readlines()` peut être utilisé en toute sécurité."
   ]
  },
  {
   "cell_type": "code",
   "execution_count": null,
   "metadata": {},
   "outputs": [],
   "source": [
    "file = open('data_examples/data_sin.txt','r')\n",
    "data = file.readline()\n",
    "data = file.readlines()\n",
    "print(data)"
   ]
  },
  {
   "cell_type": "markdown",
   "metadata": {},
   "source": [
    "> La chaîne de caractères `\\n` indique que la ligne actuelle est terminée et qu'une nouvelle ligne débute à la suite. Ceci peut être illustré en utilisant `print()`.Par exemple :"
   ]
  },
  {
   "cell_type": "code",
   "execution_count": null,
   "metadata": {},
   "outputs": [],
   "source": [
    "print('Hello\\nworld!')"
   ]
  },
  {
   "cell_type": "markdown",
   "metadata": {},
   "source": [
    "> Après avoir inspecté `data_sin.txt`, nous savons que nous avons 2 colonnes de données et que la première ligne renvoie le type de données. Dans l'état, malheureusement, `data` est une simple liste contenant les éléments des 2 colonnes concaténées."
   ]
  },
  {
   "cell_type": "markdown",
   "metadata": {},
   "source": [
    "> Pour séparer les éléments d'une ligne, nous pouvons reconnaître l'espace `' '` comme séparateur. Notez que `'.'` est également un séparateur permettant d'identifier les nombres décimaux. Pour séparer les éléments d'une ligne, nous pouvons retraiter les données et opérer *ligne par ligne* dans une boucle `for` en utilisant la fonction `split` :"
   ]
  },
  {
   "cell_type": "code",
   "execution_count": null,
   "metadata": {},
   "outputs": [],
   "source": [
    "x = [ ] ; y = [ ]\n",
    "for line in data:\n",
    "    words = line.split(' ')\n",
    "    #print(words)"
   ]
  },
  {
   "cell_type": "markdown",
   "metadata": {},
   "source": [
    "> Puisque `words` est une liste de 2 éléments, il devient facile de stocker les données dans deux **listes** $x$ et $y$ et de convertir les chaînes de caractères en nombres flottants."
   ]
  },
  {
   "cell_type": "code",
   "execution_count": null,
   "metadata": {},
   "outputs": [],
   "source": [
    "x = [ ] ; y = [ ]\n",
    "for line in data:\n",
    "    words = line.split(' ')\n",
    "    x.append( float(words[0]) )\n",
    "    y.append( float(words[1]) )\n",
    "print(x)\n",
    "print()\n",
    "print(y)"
   ]
  },
  {
   "cell_type": "markdown",
   "metadata": {},
   "source": [
    "> Pour résumer la façon de traiter un fichier de données contenant un en-tête et deux colonnes de données séparées par un espace, nous avons :"
   ]
  },
  {
   "cell_type": "code",
   "execution_count": null,
   "metadata": {},
   "outputs": [],
   "source": [
    "file = open('data_examples/data_sin.txt','r')\n",
    "file.readline()\n",
    "\n",
    "x = [ ] ; y = [ ]\n",
    "for line in file:\n",
    "    words = line.split(' ')\n",
    "    x.append( float(words[0]) )\n",
    "    y.append( float(words[1]) )\n",
    "#print(x)\n",
    "#print()\n",
    "#print(y)"
   ]
  },
  {
   "cell_type": "markdown",
   "metadata": {},
   "source": [
    "> Pour une utilisation ultérieure, notons que si nous voulons opérer sur $x$ et $y$ en utilisant des opérateurs mathématiques, nous devrons les convertir en tableau `numpy`."
   ]
  },
  {
   "cell_type": "code",
   "execution_count": null,
   "metadata": {},
   "outputs": [],
   "source": [
    "from numpy import array\n",
    "x = array(x)\n",
    "y = array(y)"
   ]
  },
  {
   "cell_type": "markdown",
   "metadata": {},
   "source": [
    "*Notons que même la commande `open` peut être utilisée pour écrire des données mais n'est pas bien adaptée pour gérer les listes et les tableaux. Il est préférable d'utiliser la fonction `savetxt` de la librairie numpy. Un exemple est donné ci-dessous*\n",
    "\n",
    "> Par exemple, si vous voulez créer un fichier contenant 2 colonnes $(\\theta,f)$ avec $f(\\theta)=\\cos(x)$ avec $\\theta\\in[0,\\pi]$ pour 32 points de données, vous pouvez utiliser :"
   ]
  },
  {
   "cell_type": "code",
   "execution_count": null,
   "metadata": {},
   "outputs": [],
   "source": [
    "from numpy import pi, cos, linspace, savetxt, column_stack, sin\n",
    "\n",
    "theta = linspace(0.0,2*pi,64)\n",
    "f     = cos(theta)\n",
    "\n",
    "savetxt('data_examples/data_cos.txt', column_stack([theta,f]), fmt='%1.4f')"
   ]
  },
  {
   "cell_type": "markdown",
   "metadata": {},
   "source": [
    "#### Note sur le fichier CSV\n",
    "Un fichier de valeurs séparées par une virgule (*comma-separated values* [CSV](https://en.wikipedia.org/wiki/Comma-separated_valuesCSV)) est un fichier texte délimité qui utilise une virgule pour séparer les valeurs. Chaque ligne du fichier est un enregistrement de données. Un fichier CSV stocke généralement des données tabulées (nombres et texte) en texte brut, auquel cas chaque ligne comporte le même nombre de champs. Les fichiers séparés par un délimiteur alternatif portent souvent l'extension \".csv\" malgré l'utilisation d'une séparation des champs différent de la virgule."
   ]
  },
  {
   "cell_type": "markdown",
   "metadata": {},
   "source": [
    "##### Exercice 3.0 :  Format CSV Anglais  <hr style=\"border:1px solid grey\">\n",
    "1. Ouvrir le fichier de données `data_sin_en.csv` localisé dans le dossier `data_examples`.\n",
    "2. Extraire les 2 colonnes et stocker les résultats dans 2 tableaux. Notons que le séparateur de champs est la virgule `','`.\n",
    "3. Afficher les résultats."
   ]
  },
  {
   "cell_type": "markdown",
   "metadata": {},
   "source": [
    "<span style=\"color:red\">**solution :**</span>"
   ]
  },
  {
   "cell_type": "code",
   "execution_count": null,
   "metadata": {},
   "outputs": [],
   "source": [
    "file = open('data_examples/data_sin_en.csv','r')\n",
    "file.readline()\n",
    "\n",
    "x = [ ] ; y = [ ]\n",
    "for line in file:\n",
    "    words = line.split(',')\n",
    "    x.append( float(words[0]) )\n",
    "    y.append( float(words[1]) )\n",
    "print(x)\n",
    "print()\n",
    "print(y)"
   ]
  },
  {
   "cell_type": "markdown",
   "metadata": {},
   "source": [
    "<hr style=\"border:1px solid grey\">"
   ]
  },
  {
   "cell_type": "markdown",
   "metadata": {},
   "source": [
    "##### Exercice 3.1 :  Format CSV Français  <hr style=\"border:1px solid grey\">\n",
    "1. Ouvrir le fichier de données `data_sin_en.csv` localisé dans le dossier `data_examples`.\n",
    "2. Extraire les 2 colonnes et stocker les résultats dans 2 tableaux. \n",
    "3. Afficher les résultats.\n",
    "\n",
    "*Notons qu'il s'agit d'un fichier de données CSV en français. Dans ce cas, le séparateur est le point-virgule \";\". Le séparateur décimal est la virgule \",\". Pour stocker les données dans un tableau, vous devrez donc remplacer la virgule par un point. Cela peut être fait avec la fonction `replace()`.* \n",
    "\n",
    "Un exemple est donné ci-dessous :"
   ]
  },
  {
   "cell_type": "code",
   "execution_count": null,
   "metadata": {},
   "outputs": [],
   "source": [
    "test = '3,14116'\n",
    "test.replace(',','.')"
   ]
  },
  {
   "cell_type": "markdown",
   "metadata": {},
   "source": [
    "<span style=\"color:red\">**solution :**</span>"
   ]
  },
  {
   "cell_type": "code",
   "execution_count": null,
   "metadata": {},
   "outputs": [],
   "source": [
    "file = open('data_examples/data_sin_fr.csv','r')\n",
    "file.readline()\n",
    "\n",
    "x = [ ] ; y = [ ]\n",
    "for line in file:\n",
    "    words = line.replace(',','.').split(';')\n",
    "    x.append( float(words[0]) )\n",
    "    y.append( float(words[1]) )\n",
    "print(x)\n",
    "print()\n",
    "print(y)"
   ]
  },
  {
   "cell_type": "markdown",
   "metadata": {},
   "source": [
    "<hr style=\"border:1px solid grey\">"
   ]
  },
  {
   "cell_type": "markdown",
   "metadata": {},
   "source": [
    "### Utilisation de Pandas"
   ]
  },
  {
   "cell_type": "markdown",
   "metadata": {},
   "source": [
    "[Pandas](https://en.wikipedia.org/wiki/Pandas_(software)) est une bibliothèque écrite pour le langage de programmation Python pour la manipulation et l'analyse de données. En particulier, elle offre des structures de données et des opérations pour manipuler des tableaux numériques et des séries temporelles appelées *DataFrames*.\n",
    "\n",
    "[Pandas](https://pandas.pydata.org) est principalement utilisé pour l'analyse de données et la manipulation associée de données tabulées dans les *DataFrames*. Pandas permet d'importer des données à partir de différents formats de fichiers tels que CSV, JSON, Parquet, tableaux ou requêtes de bases de données type SQL et Microsoft Excel. La bibliothèque pandas est construite à partir d'une autre bibliothèque, NumPy, orientée pour travailler efficacement avec les tableaux."
   ]
  },
  {
   "cell_type": "markdown",
   "metadata": {},
   "source": [
    "> Lire et traiter un fichier `CSV`"
   ]
  },
  {
   "cell_type": "code",
   "execution_count": null,
   "metadata": {},
   "outputs": [],
   "source": [
    "from pandas import read_csv\n",
    "\n",
    "data = read_csv('data_examples/harelynx.csv')\n",
    "print(type(data))\n",
    "print(data)"
   ]
  },
  {
   "cell_type": "markdown",
   "metadata": {},
   "source": [
    "> Lire et traiter un fichier `EXCEL`"
   ]
  },
  {
   "cell_type": "code",
   "execution_count": null,
   "metadata": {},
   "outputs": [],
   "source": [
    "from pandas import read_excel\n",
    "\n",
    "data = read_excel('data_examples/harelynx.xls')\n",
    "print(type(data))\n",
    "print(data)"
   ]
  },
  {
   "cell_type": "markdown",
   "metadata": {},
   "source": [
    "> Convertir un fichier `panda DataFrame` vers un `numpy array`"
   ]
  },
  {
   "cell_type": "code",
   "execution_count": null,
   "metadata": {},
   "outputs": [],
   "source": [
    "data_numpy_array = data.to_numpy()\n",
    "print(type(data_numpy_array))\n",
    "#print(data_array)"
   ]
  },
  {
   "cell_type": "markdown",
   "metadata": {},
   "source": [
    "> Convertir un `numpy array` vers `pandas DataFrame`"
   ]
  },
  {
   "cell_type": "code",
   "execution_count": null,
   "metadata": {},
   "outputs": [],
   "source": [
    "from pandas import DataFrame\n",
    "\n",
    "data_pandas = DataFrame(data_numpy_array,columns=['t', 'lievre', 'lynx'])\n",
    "print(data_pandas)"
   ]
  },
  {
   "cell_type": "markdown",
   "metadata": {},
   "source": [
    "> Exporter des données `pandas DataFrame` dans un fichier `CSV`"
   ]
  },
  {
   "cell_type": "code",
   "execution_count": null,
   "metadata": {},
   "outputs": [],
   "source": [
    "# with the index and the header (default)\n",
    "data_pandas.to_csv('data_examples/lievrelynx_hi.csv') \n",
    "\n",
    "# without the index and the header\n",
    "data_pandas.to_csv('data_examples/lievrelynx.csv', header=False, index=False)"
   ]
  },
  {
   "cell_type": "markdown",
   "metadata": {},
   "source": [
    "> Statistiques descriptives with `pandas`"
   ]
  },
  {
   "cell_type": "code",
   "execution_count": null,
   "metadata": {},
   "outputs": [],
   "source": [
    "print(data_pandas['lievre'].describe())\n",
    "print()\n",
    "print(data_pandas['lynx'].describe())"
   ]
  },
  {
   "cell_type": "markdown",
   "metadata": {},
   "source": [
    "##### Exercice 3.2 :   <hr style=\"border:1px solid grey\">\n",
    "Étant donné un ensemble de données $\\{x\\}_{i=1}^{N}$, la moyenne ($\\mu$) et l'écart type ($\\sigma$) sont donnés par :\n",
    "$$\\mu = \\frac{1}{N}\\sum_{i=1}^N x_i$$ et $$ \\sigma=\\sqrt{\\frac{1}{N-1}\\sum_{i=1}^N(x_i-\\mu)^2}$$.\n",
    "> Charger le fichier de données `lynxhare.csv` en utilisant `pandas` et le convertir en un tableau numpy.\n",
    "\n",
    "> Générer deux tableaux numpy 1D appelés `hare` et `lynx`.\n",
    "\n",
    "> En utilisant les fonctions intégrées de python (`min`, `max`, `sum`, `len`), calculez les valeurs min/max, $\\mu$ et $\\sigma$ pour les populations de lièvres et de lynx. \n",
    "\n",
    "> Imprimez les résultats dans un format approprié et comparez-les aux valeurs de `pandas`."
   ]
  },
  {
   "cell_type": "markdown",
   "metadata": {},
   "source": [
    "<span style=\"color:red\">**solution :**</span>"
   ]
  },
  {
   "cell_type": "code",
   "execution_count": null,
   "metadata": {},
   "outputs": [],
   "source": [
    "from numpy  import sqrt\n",
    "from pandas import read_csv\n",
    "\n",
    "data = read_csv('data_examples/harelynx.csv')\n",
    "\n",
    "data_array = data.to_numpy()\n",
    "\n",
    "hare = data_array[:,1] \n",
    "lynx = data_array[:,2] \n",
    "\n",
    "print('min(hare) = %12.6f'%min(hare))\n",
    "print('max(hare) = %12.6f'%max(hare))\n",
    "\n",
    "mu = sum(hare)/len(hare)\n",
    "sig= sqrt(sum((hare - mu)**2)/(len(hare)-1))\n",
    "\n",
    "print('mu (hare) = %12.6f'%mu )\n",
    "print('sig(hare) = %12.6f'%sig)"
   ]
  },
  {
   "cell_type": "markdown",
   "metadata": {},
   "source": [
    "<hr style=\"border:1px solid grey\">"
   ]
  },
  {
   "cell_type": "markdown",
   "metadata": {},
   "source": [
    "## <hr style=\"border:1px solid black\"> Bases de la représentation graphique <hr style=\"border:1px solid black\">\n",
    "Ci-dessous quelques exemples de représentation graphique en python avec une complexité croissante. Une vaste galerie d'exemples peut être trouvée ici [https://matplotlib.org/stable/gallery/index.html](https://matplotlib.org/stable/gallery/index.html). Les tracés 1D peuvent être realisés en utilisant la (sous-)bibliothèque \n",
    "[`pyplot`](https://matplotlib.org/stable/tutorials/introductory/pyplot.html) de [`matplotlib`](https://matplotlib.org)\n",
    "\n",
    "> Notez que l'alias `plt` sera utilisé tout au long de ce notebook pour invoquer `pyplot`."
   ]
  },
  {
   "cell_type": "code",
   "execution_count": null,
   "metadata": {},
   "outputs": [],
   "source": [
    "import matplotlib.pyplot as plt"
   ]
  },
  {
   "cell_type": "markdown",
   "metadata": {},
   "source": [
    "#### Graphique 1D simple\n",
    "\n",
    "> Traçons $y=\\sin(2\\pi t)\\exp(-t)$ pour $t\\in[0,5]$ avec $n=40$ points de grille"
   ]
  },
  {
   "cell_type": "code",
   "execution_count": 1,
   "metadata": {},
   "outputs": [
    {
     "data": {
      "text/plain": [
       "[<matplotlib.lines.Line2D at 0x7fa2d930ec40>]"
      ]
     },
     "execution_count": 1,
     "metadata": {},
     "output_type": "execute_result"
    },
    {
     "data": {
      "image/png": "[encoded data removed]",
      "text/plain": [
       "<Figure size 640x480 with 1 Axes>"
      ]
     },
     "metadata": {},
     "output_type": "display_data"
    }
   ],
   "source": [
    "from numpy import pi, exp, cos, linspace\n",
    "import matplotlib.pyplot as plt\n",
    "\n",
    "n    =  40\n",
    "tmin =   0\n",
    "tmax =   5\n",
    "\n",
    "t = linspace(tmin,tmax,n)\n",
    "y = cos(2*pi*t)*exp(-t)\n",
    "\n",
    "plt.plot(t,y)"
   ]
  },
  {
   "cell_type": "markdown",
   "metadata": {},
   "source": [
    "> Par défaut, la fonction [`plot()`](https://matplotlib.org/2.1.1/api/_as_gen/matplotlib.pyplot.plot.html) interpole (segments droits) entre les points de données et les données ne sont pas représentées par des marqueurs.\n",
    "\n",
    "> Dans les exemples ci-dessous, vous pouvez choisir : [`linestyle`](https://matplotlib.org/stable/gallery/lines_bars_and_markers/linestyles.html), [`markers`](https://matplotlib.org/stable/api/markers_api.html), [`color`](https://matplotlib.org/stable/tutorials/colors/colors.html) et ajouter un `étiquette` pour chaque graphique. La fonction [`legend()`](https://matplotlib.org/stable/api/_as_gen/matplotlib.pyplot.legend.html) doit être appelée pour que l'étiquette soit ajoutée sur le graphique."
   ]
  },
  {
   "cell_type": "code",
   "execution_count": 2,
   "metadata": {},
   "outputs": [
    {
     "data": {
      "text/plain": [
       "<matplotlib.legend.Legend at 0x7fa2e98f6700>"
      ]
     },
     "execution_count": 2,
     "metadata": {},
     "output_type": "execute_result"
    },
    {
     "data": {
      "image/png": "[encoded data removed]",
      "text/plain": [
       "<Figure size 640x480 with 1 Axes>"
      ]
     },
     "metadata": {},
     "output_type": "display_data"
    }
   ],
   "source": [
    "plt.plot(t, y, marker='o', linestyle='', color='orange', label='no line')\n",
    "plt.legend()"
   ]
  },
  {
   "cell_type": "code",
   "execution_count": 3,
   "metadata": {},
   "outputs": [
    {
     "data": {
      "text/plain": [
       "<matplotlib.legend.Legend at 0x7fa2e98f6850>"
      ]
     },
     "execution_count": 3,
     "metadata": {},
     "output_type": "execute_result"
    },
    {
     "data": {
      "image/png": "[encoded data removed]",
      "text/plain": [
       "<Figure size 640x480 with 1 Axes>"
      ]
     },
     "metadata": {},
     "output_type": "display_data"
    }
   ],
   "source": [
    "plt.plot(t, y, marker='o', linestyle='solid', color='orange', label='with line')\n",
    "\n",
    "plt.legend()"
   ]
  },
  {
   "cell_type": "markdown",
   "metadata": {},
   "source": [
    "> Jouons avec les options de ligne et de marqueur"
   ]
  },
  {
   "cell_type": "code",
   "execution_count": 4,
   "metadata": {},
   "outputs": [
    {
     "data": {
      "text/plain": [
       "[<matplotlib.lines.Line2D at 0x7fa2d939a310>]"
      ]
     },
     "execution_count": 4,
     "metadata": {},
     "output_type": "execute_result"
    },
    {
     "data": {
      "image/png": "[encoded data removed]",
      "text/plain": [
       "<Figure size 640x480 with 1 Axes>"
      ]
     },
     "metadata": {},
     "output_type": "display_data"
    }
   ],
   "source": [
    "plt.plot(t, y, marker='p', linestyle='solid', color='red', \\\n",
    "         linewidth=1.5, ms=10.0, mew=1.0, mec='black', mfc='orange')"
   ]
  },
  {
   "cell_type": "markdown",
   "metadata": {},
   "source": [
    "##### Exercice 3.3 :  <hr style=\"border:1px solid grey\">\n",
    "Trouver l'action des options `linewidth`, `ms`, `mew`, `mec` et `mfc` dans l'exemple précédent."
   ]
  },
  {
   "cell_type": "markdown",
   "metadata": {},
   "source": [
    "<hr style=\"border:1px solid grey\">"
   ]
  },
  {
   "cell_type": "markdown",
   "metadata": {},
   "source": [
    "##### Exercice 3.4 :  <hr style=\"border:1px solid grey\">\n",
    "En utilisant les fonctions de l'**Exercice 2.1** du **TD2** tracer:\n",
    "$$f(x)=4x^2\\exp(-2x)$$ \n",
    "\n",
    "$$g(x)=\\frac{x^2}{2}\\left(1-\\frac{x}{2}\\right)^2\\exp(-x)$$\n",
    "\n",
    "$$h(x)= \\frac{4x^2}{243}\\left(3 - 2x + \\frac{2}{9}x^2\\right)^2 \\exp\\left(-\\frac{2x}{3}\\right)$$\n",
    "avec $x\\in[0,20]$ et $n=128$ points de donnée, en suivant les consignes suivantes :\n",
    "1. Pour toutes les courbes, il n'y a pas de marqueurs.\n",
    "2. Les courbes doivent être de couleur orange, rouge et violette pour $f(x)$, $g(x)$ et $h(x)$, respectivement.\n",
    "3. La légende doit être affichée."
   ]
  },
  {
   "cell_type": "markdown",
   "metadata": {},
   "source": [
    "<span style=\"color:red\">**solution :**</span>"
   ]
  },
  {
   "cell_type": "code",
   "execution_count": null,
   "metadata": {},
   "outputs": [],
   "source": [
    "from numpy import exp, linspace\n",
    "import matplotlib.pyplot as plt\n",
    "\n",
    "def func_f(x):\n",
    "    return 4*x**2 * exp(-2*x)\n",
    "\n",
    "def func_g(x):\n",
    "    return x**2/2 * (1 - x/2)**2 * exp(-x)\n",
    "\n",
    "def func_h(x):\n",
    "    return 4*x**2/243 * (3 - 2*x + 2/9*x**2)**2 * exp(-2*x/3)\n",
    "\n",
    "n    = 128\n",
    "xmin =   0\n",
    "xmax =  20\n",
    "\n",
    "x = linspace(xmin,xmax,n)\n",
    "\n",
    "f = func_f(x=x)\n",
    "g = func_g(x=x)\n",
    "h = func_h(x=x)\n",
    "\n",
    "plt.plot(x,f,marker='',linestyle='solid', color='orange', linewidth=1.5, label='f(x)')\n",
    "plt.plot(x,g,marker='',linestyle='solid', color='red',    linewidth=1.5, label='g(x)')\n",
    "plt.plot(x,h,marker='',linestyle='solid', color='purple', linewidth=1.5, label='h(x)')\n",
    "\n",
    "plt.legend()"
   ]
  },
  {
   "cell_type": "markdown",
   "metadata": {},
   "source": [
    "<hr style=\"border:1px solid grey\">"
   ]
  },
  {
   "cell_type": "markdown",
   "metadata": {},
   "source": [
    "> Voici un exemple pour définir les limites du tracé avec $x\\in[0,12]$ et $y\\in[0,0.3]$."
   ]
  },
  {
   "cell_type": "code",
   "execution_count": null,
   "metadata": {},
   "outputs": [],
   "source": [
    "import matplotlib.pylab as plt\n",
    "\n",
    "plt.plot(x,f,marker='',linestyle='solid', color='orange', linewidth=1.5, label='f(x)')\n",
    "plt.plot(x,g,marker='',linestyle='solid', color='red',    linewidth=1.5, label='g(x)')\n",
    "plt.plot(x,h,marker='',linestyle='solid', color='purple', linewidth=1.5, label='h(x)')\n",
    "\n",
    "plt.legend()\n",
    "\n",
    "plt.xlim(0,12)\n",
    "plt.ylim(0,0.3)"
   ]
  },
  {
   "cell_type": "markdown",
   "metadata": {},
   "source": [
    "> Les étiquettes des axes $x$ et $y$ sont ajoutées en utilisant `xlabel()` et `ylabel()`. \n",
    "\n",
    "> Les symboles dollar dans l'étiquette correspondent au formatage [$\\LaTeX$] (https://en.wikibooks.org/wiki/LaTeX/Mathematics) des équations.\n",
    "\n",
    "> Les graduations des axes $x$ et $y$ peuvent être définis explicitement en utilisant `xticks()` et `yticks()` ainsi que `arange()`.\n",
    "\n",
    "> > La figure peut être sauvegardée en utilisant la fonction [`savefig()`](https://matplotlib.org/stable/api/_as_gen/matplotlib.pyplot.savefig.html)."
   ]
  },
  {
   "cell_type": "code",
   "execution_count": null,
   "metadata": {},
   "outputs": [],
   "source": [
    "import matplotlib.pylab as plt\n",
    "from numpy import arange\n",
    "\n",
    "plt.plot(x,f,marker='',linestyle='solid', color='orange', linewidth=1.5, \n",
    "         label='$f(x)=4x^2\\exp(-2x)$')\n",
    "plt.plot(x,g,marker='',linestyle='solid', color='red',    linewidth=1.5,\n",
    "         label='$g(x)=\\\\frac{x^2}{2}\\\\left(1-\\\\frac{x}{2}\\\\right)^2\\\\exp(-x)$')\n",
    "plt.plot(x,h,marker='',linestyle='solid', color='purple', linewidth=1.5,\n",
    "         label='$h(x)=\\\\frac{4x^2}{243}\\\\left(3 - 2x + \\\\frac{2}{9}x^2\\\\right)^2 \\\\exp\\\\left(-\\\\frac{2x}{3}\\\\right)$')\n",
    "plt.legend()\n",
    "\n",
    "plt.xlabel('$x$')\n",
    "plt.ylabel('$function$')\n",
    "\n",
    "# x-ticks for x in [0,20] with step 1\n",
    "plt.xticks(arange(0.0, 20, 1 ))\n",
    "\n",
    "# y-ticks for y in [0,0.3] with step 0.02\n",
    "plt.yticks(arange(0.0, 0.3, 0.02))\n",
    "\n",
    "plt.xlim(0,15)\n",
    "plt.ylim(0,0.3)\n",
    "\n",
    "plt.savefig('figure_examples/figure_test.png', dpi=300, format='png', transparent=True)"
   ]
  },
  {
   "cell_type": "markdown",
   "metadata": {},
   "source": [
    "##### Exercice 3.5 :   <hr style=\"border:1px solid grey\">"
   ]
  },
  {
   "cell_type": "markdown",
   "metadata": {},
   "source": [
    "Nous fournissons un fichier de données `comete_C2022E3ZTF.csv` qui rassemble les observations de la comète C/2022 E3 (ZTF) du 22 mars 2022 au 25 février 2023. Ces données sont disponibles sur le [site web du LESIA](https://lesia.obspm.fr/comets/lib/all-obs-table.php?Code=CK22E030&y1=1908&m1=01). Nous voulons tracer la distance par rapport au soleil ($r$) et à la terre ($d$) en fonction du [jour julien](https://fr.wikipedia.org/wiki/Jour_julien) ($j$). Une visualisation de la trajectoire est disponible [ici](https://ssd.jpl.nasa.gov/tools/sbdb_lookup.html#/?sstr=C%2F2022%20E3&view=VOP).\n",
    "\n",
    "1. Aller en ligne et vérifier où se trouvent $j$, $r$ et $d$ dans le tableau.\n",
    "2. Vérifier le fichier de données situé dans le répertoire `data_examples` et identifier les lignes correspondantes. \n",
    "3. Charger les données et extraire les 3 colonnes.\n",
    "4. Sur le même graphique, tracer $r$ et $d$ en fonction de $j$.\n",
    "5. Ajoutez les étiquettes des axes et une légende."
   ]
  },
  {
   "cell_type": "markdown",
   "metadata": {},
   "source": [
    "<div class=\"alert alert-block alert-warning\">\n",
    "<b>Attention :</b> vous pourriez avoir des problèmes avec certaines données qui ne peuvent pas être converties en flottant. Trouvez un moyen de contourner le problème en utilisant, par exemple, la fonction `replace()` pour remplacer le caractère par un flottant (disons 0.0)\n",
    "</div>"
   ]
  },
  {
   "cell_type": "markdown",
   "metadata": {},
   "source": [
    "<span style=\"color:red\">**solution 1:**</span>"
   ]
  },
  {
   "cell_type": "code",
   "execution_count": null,
   "metadata": {},
   "outputs": [],
   "source": [
    "import matplotlib.pylab as plt\n",
    "\n",
    "j = [ ]\n",
    "r = [ ]\n",
    "d = [ ]\n",
    "\n",
    "file = open('data_examples/comete_C2022E3ZTF.csv','r')\n",
    "for line in file:\n",
    "\n",
    "    words = line.replace('-','0.0').split(',')\n",
    "    \n",
    "    j.append( float(words[2]) )\n",
    "    r.append( float(words[4]) )\n",
    "    d.append( float(words[5]) )\n",
    "\n",
    "plt.plot(j,r,marker='o',linestyle='',markersize=3,label='X = sun')\n",
    "plt.plot(j,d,marker='o',linestyle='',markersize=3,label='X = earth')\n",
    "\n",
    "plt.xlabel('Julian day')\n",
    "plt.ylabel('comet - X distance (au)')\n",
    "plt.legend()\n",
    "\n",
    "'astronomical unit'"
   ]
  },
  {
   "cell_type": "markdown",
   "metadata": {},
   "source": [
    "<span style=\"color:red\">**solution 2:**</span>"
   ]
  },
  {
   "cell_type": "markdown",
   "metadata": {},
   "source": [
    "*Nous définissons ici une fonction qui vérifie si la chaîne de caractères peut être convertie en un nombre flottant*"
   ]
  },
  {
   "cell_type": "code",
   "execution_count": null,
   "metadata": {},
   "outputs": [],
   "source": [
    "def isfloat(x):    \n",
    "    try:\n",
    "        float(x)\n",
    "        return True\n",
    "    \n",
    "    except ValueError:\n",
    "        return False"
   ]
  },
  {
   "cell_type": "markdown",
   "metadata": {},
   "source": [
    "*Examples:*"
   ]
  },
  {
   "cell_type": "code",
   "execution_count": null,
   "metadata": {},
   "outputs": [],
   "source": [
    "print( isfloat(x='1.4') )\n",
    "print( isfloat(x='1.-') )"
   ]
  },
  {
   "cell_type": "code",
   "execution_count": null,
   "metadata": {},
   "outputs": [],
   "source": [
    "import matplotlib.pylab as plt\n",
    "\n",
    "j = [ ]\n",
    "r = [ ]\n",
    "d = [ ]\n",
    "\n",
    "file = open('data_examples/comete_C2022E3ZTF.csv','r')\n",
    "\n",
    "for line in file:\n",
    "\n",
    "    words = line.split(',')\n",
    "    \n",
    "    if ( isfloat(x=words[2]) and isfloat(x=words[4]) and isfloat(x=words[5]) ):\n",
    "    \n",
    "        j.append( float(words[2]) )\n",
    "        r.append( float(words[4]) )\n",
    "        d.append( float(words[5]) )\n",
    "\n",
    "plt.plot(j,r,marker='o',linestyle='',markersize=3,label='X = earth')\n",
    "plt.plot(j,d,marker='o',linestyle='',markersize=3,label='X = sun')\n",
    "\n",
    "plt.xlabel('Julian day')\n",
    "plt.ylabel('comet - X distance (au)')\n",
    "plt.legend()\n",
    "    \n",
    "    "
   ]
  },
  {
   "cell_type": "markdown",
   "metadata": {},
   "source": [
    "<hr style=\"border:1px solid grey\">"
   ]
  },
  {
   "cell_type": "markdown",
   "metadata": {},
   "source": [
    "##### Exercice 3.6 :   <hr style=\"border:1px solid grey\">\n",
    "A partir du fichier de données `harelynx.csv` situé dans `data_examples`, tracer la variation de la population de lièvres et de lynx en fonction du temps.\n",
    "Suivez les consignes suivantes :\n",
    "1. Les données du fichier `lynxlievre.csv` doivent être chargées en utilisant `pandas`.\n",
    "2. Les données doivent être converties en tableau `numpy`.\n",
    "3. A partir du tableau `numpy`, 3 colonnes seront extraites $(t,x,y)$.\n",
    "4. Sur le même graphique, tracer $x(t)$ pour les lièvres et $y(t)$ pour les lynx.\n",
    "5. Calculer la moyenne des 2 populations en utilisant la fonction [`mean()`](https://numpy.org/doc/stable/reference/generated/numpy.mean.html) de la bibliothèque `numpy`.\n",
    "6. Tracer la moyenne sous forme de lignes horizontales en utilisant la fonction [`axhline()`](https://matplotlib.org/stable/api/_as_gen/matplotlib.pyplot.axhline.html) de la bibliothèque `matplotlib.pyplot`.\n",
    "6. Ajouter la légende et un titre.\n",
    "7. Adapter l'espacement des graduations suivant $x$ et $y$, la taille de la figure, la couleur et le type de marqueurs.\n",
    "\n",
    "**Un exemple est donné ci-dessous:**\n",
    "<img src=\"./figure_examples/figure_lynxhare_ref.png\" alt=\"Alternative text\" width=\"500\"/>"
   ]
  },
  {
   "cell_type": "markdown",
   "metadata": {},
   "source": [
    "<span style=\"color:red\">**solution :**</span>"
   ]
  },
  {
   "cell_type": "code",
   "execution_count": null,
   "metadata": {},
   "outputs": [],
   "source": [
    "from pandas import read_csv\n",
    "from numpy  import arange, mean\n",
    "import matplotlib.pylab as plt\n",
    "\n",
    "data = read_csv('data_examples/harelynx.csv')"
   ]
  },
  {
   "cell_type": "code",
   "execution_count": null,
   "metadata": {},
   "outputs": [],
   "source": [
    "data_array = data.to_numpy()"
   ]
  },
  {
   "cell_type": "code",
   "execution_count": null,
   "metadata": {},
   "outputs": [],
   "source": [
    "t = data_array[:,0]\n",
    "x = data_array[:,1]\n",
    "y = data_array[:,2]"
   ]
  },
  {
   "cell_type": "code",
   "execution_count": null,
   "metadata": {
    "scrolled": true
   },
   "outputs": [],
   "source": [
    "plt.plot(t,x,marker='o',label='hare', color='black', linewidth=1.0, mfc='white')\n",
    "plt.plot(t,y,marker='D',label='lynx', color='red',   linewidth=1.0)\n",
    "plt.xlabel(\"Year\")\n",
    "plt.ylabel(\"Population ($\\\\times 10^3$)\")\n",
    "\n",
    "plt.xticks(arange(1840,1940,10))\n",
    "plt.yticks(arange(0, 160, 10))\n",
    "plt.title('Fluctuations in the numbers of hare and lynx (Hudson’s Bay)')\n",
    "\n",
    "plt.axhline(mean(x), color='black', linestyle='--', linewidth=1.0, label='mean(hare)')\n",
    "plt.axhline(mean(y), color='red',   linestyle='--', linewidth=1.0, label='mean(lynx)')\n",
    "\n",
    "plt.legend(loc=2)\n",
    "\n",
    "plt.xlim(1840,1940)\n",
    "plt.ylim(0,155)"
   ]
  },
  {
   "cell_type": "markdown",
   "metadata": {},
   "source": [
    "<hr style=\"border:1px solid grey\">"
   ]
  },
  {
   "cell_type": "markdown",
   "metadata": {},
   "source": [
    "## <hr style=\"border:1px solid black\">  Guide de survie pour les travaux pratiques <hr style=\"border:1px solid black\">\n",
    "</br>\n",
    "\n",
    "A partir d'un exemple, dans ce guide de survie, nous allons :\n",
    "\n",
    "1. Représenter graphiquement les données à l'aide de python. Ajouter les étiquettes des axes, les unités, la légende.\n",
    "2. Ajuster un modèle linéaire sur les données. \n",
    "3. Ajouter le modèle sur le graphique et enregistrer la figure."
   ]
  },
  {
   "cell_type": "markdown",
   "metadata": {},
   "source": [
    "### Example"
   ]
  },
  {
   "cell_type": "markdown",
   "metadata": {},
   "source": [
    "In water-resources engineering, the sizing of reservoirs depends on accurate estimates of\n",
    "water flow in the river that is being impounded. For some rivers, long-term historical\n",
    "records of such flow data are difficult to obtain. In contrast, meteorological data on\n",
    "precipitation are often available for many years past. Therefore, it is often useful to\n",
    "determine a relationship between flow and precipitation. This relationship can then be\n",
    "used to estimate flows for years when only precipitation measurements were made. The\n",
    "following data are available for a river: [<sup>1</sup>](#fn1)\n",
    "\n",
    "*Dans le domaine de l'ingénierie des ressources en eau, le dimensionnement des réservoirs dépend d'une estimation précise du débit de la rivière que l'on considère. Pour certains cours d'eau, il est difficile d'obtenir des enregistrements historiques à long terme du débit. En revanche, les données météorologiques sur les précipitations sont souvent disponibles pour de plus longues périodes. Par conséquent, il est souvent utile de déterminer une relation entre le débit et les précipitations. Cette relation peut alors être utilisée pour estimer les débits pour les années où seules les précipitations ont été mesurées. Les données suivantes sont disponibles pour une rivière :*\n",
    "\n",
    "Precip. (cm/yr)|  88.9 | 108.5 | 104.1 | 139.7 | 127.0 | 94.0 | 116.8 | 99.1 |\n",
    "---------------|-------|-------|-------|-------|-------|------|-------|------|\n",
    "Débit (m$^3$/s)|  14.6 |  16.7 |  15.3 |  23.2 |  19.5 | 16.1 |  18.1 | 16.6 |\n",
    "\n",
    "Par la suite on considérera une erreur de 10\\% sur les valeurs du débit. \n",
    "\n",
    "<span id=\"fn1\"> $^1$ Exemple extrait de *Applied Numerical Methods with MATLAB* by S. C. Chapra.</span>"
   ]
  },
  {
   "cell_type": "markdown",
   "metadata": {},
   "source": [
    "### <hr style=\"border:1px solid black\"> Charger les données <hr style=\"border:1px solid black\">"
   ]
  },
  {
   "cell_type": "markdown",
   "metadata": {},
   "source": [
    "#### Créer un tableau numpy avec les données brutes\n",
    "\n",
    "> Ici, nous créons d'abord une liste avec les données qui seront converties en tableau `numpy`\n",
    "\n",
    "> Attention : nous devons utiliser la notation anglaise avec le point comme séparateur décimale !"
   ]
  },
  {
   "cell_type": "code",
   "execution_count": null,
   "metadata": {},
   "outputs": [],
   "source": [
    "from numpy import array\n",
    "\n",
    "prec = [88.9, 108.5, 104.1, 139.7, 127.0, 94.0, 116.8, 99.1]\n",
    "flow = [14.6,  16.7,  15.3,  23.2,  19.5, 16.1,  18.1, 16.6]\n",
    "\n",
    "x  = array(prec)\n",
    "y  = array(flow)"
   ]
  },
  {
   "cell_type": "markdown",
   "metadata": {},
   "source": [
    "#### ... ou extraire les données à partir d'un fichier en utilisant la fonction intrinsèque de python"
   ]
  },
  {
   "cell_type": "code",
   "execution_count": null,
   "metadata": {},
   "outputs": [],
   "source": [
    "file = open('data_examples/prec_flow.csv','r')\n",
    "file.readline()\n",
    "\n",
    "x = [ ] ; y = [ ]\n",
    "for line in file:\n",
    "    words = line.split(',')\n",
    "    x.append( float(words[0]) )\n",
    "    y.append( float(words[1]) )\n",
    "print(x)\n",
    "print()\n",
    "print(y)"
   ]
  },
  {
   "cell_type": "markdown",
   "metadata": {},
   "source": [
    "#### ... ou extraire les données à partir d'un fichier en utilisant pandas"
   ]
  },
  {
   "cell_type": "code",
   "execution_count": null,
   "metadata": {},
   "outputs": [],
   "source": [
    "from pandas import read_csv\n",
    "\n",
    "data_pandas = read_csv('data_examples/prec_flow.csv')\n",
    "print(data_pandas)\n",
    "#data_numpy_array = data_pandas.to_numpy()\n",
    "#x = data_numpy_array[:,0]\n",
    "#y = data_numpy_array[:,1]"
   ]
  },
  {
   "cell_type": "markdown",
   "metadata": {},
   "source": [
    "#### calcul de l'erreur sur $y$ "
   ]
  },
  {
   "cell_type": "code",
   "execution_count": null,
   "metadata": {},
   "outputs": [],
   "source": [
    "err = 0.05*array(y)"
   ]
  },
  {
   "cell_type": "markdown",
   "metadata": {},
   "source": [
    "### <hr style=\"border:1px solid black\"> Représentation graphique <hr style=\"border:1px solid black\">"
   ]
  },
  {
   "cell_type": "markdown",
   "metadata": {},
   "source": [
    "#### En utilisant `matplolib`"
   ]
  },
  {
   "cell_type": "code",
   "execution_count": null,
   "metadata": {},
   "outputs": [],
   "source": [
    "import matplotlib.pylab as plt\n",
    "from numpy import arange\n",
    "\n",
    "plt.plot(x,y,marker='o',color='black', linestyle='')\n",
    "plt.xlabel(\"Precipitation (cm/yr)\")\n",
    "plt.ylabel(\"Flow (m$^3$/s)\")\n",
    "\n",
    "plt.xticks(arange(min(x)+1.1,max(x)+1,5))\n",
    "plt.yticks(arange(min(y)+0.4,max(y),1))\n",
    "plt.title('Water flow as a function of precipitation')\n",
    "\n",
    "#plt.xlim()\n",
    "#plt.ylim()"
   ]
  },
  {
   "cell_type": "markdown",
   "metadata": {},
   "source": [
    "#### En utilisant `pandas`"
   ]
  },
  {
   "cell_type": "markdown",
   "metadata": {},
   "source": [
    "> Pandas peut être utilisé pour réaliser des graphiques avec la fonction [`DataFrame.plot`](https://pandas.pydata.org/docs/reference/api/pandas.DataFrame.plot.html)"
   ]
  },
  {
   "cell_type": "code",
   "execution_count": null,
   "metadata": {},
   "outputs": [],
   "source": [
    "data_pandas.plot(x='prec',y='flow',kind='scatter',color='black')"
   ]
  },
  {
   "cell_type": "markdown",
   "metadata": {},
   "source": [
    "#### Représentation graphiques avec les barres d'erreur"
   ]
  },
  {
   "cell_type": "code",
   "execution_count": null,
   "metadata": {},
   "outputs": [],
   "source": [
    "import matplotlib.pylab as plt\n",
    "from numpy import arange\n",
    "\n",
    "plt.plot(x,y,marker='o',color='black', linestyle='')\n",
    "plt.errorbar(x,y,err,linestyle='',color='blue')\n",
    "\n",
    "plt.xlabel(\"Precipitation (cm/yr)\")\n",
    "plt.ylabel(\"Flow (m$^3$/s)\")\n",
    "\n",
    "plt.xticks(arange(min(x)+1.1,max(x)+1,5))\n",
    "plt.yticks(arange(min(y)+0.4,max(y),1))\n",
    "plt.title('Water flow as a function of precipitation')\n",
    "\n",
    "#plt.xlim()\n",
    "#plt.ylim()"
   ]
  },
  {
   "cell_type": "markdown",
   "metadata": {},
   "source": [
    "### <hr style=\"border:1px solid black\"> Perform a linear fit <hr style=\"border:1px solid black\">\n",
    "\n",
    "> L'ajustement est effectué en utilisant `curve_fit` de la bibliothèque `scipy.optimize`\n",
    "\n",
    "> Etant donné $\\{x_i,y_i\\}^N_{i=1}$, l'erreur standard $\\{\\sigma_i\\}^N_{i=1}$ sur $\\{y_i\\}^N_{i=1}$ et la fonction modèle $f_\\textrm{model}(x;a_0,a_1,...a_m)$ où $\\{a_k\\}_{k=1}^m$ sont les coefficients à optimiser. Étant donné $\\chi^2$ :\n",
    "$$\\chi^2=\\sum_{i=1}^{N}\\frac{\\left[y_i-f_\\textrm{model}\\left(x_i;a_0,a_1,...a_m\\right)\\right]^2}{\\sigma^2_i}$$\n",
    "`curve_fit`performe la minimisation de $\\chi^2$ par rapport à ces coefficients."
   ]
  },
  {
   "cell_type": "markdown",
   "metadata": {},
   "source": [
    "Nous définissons d'abord la fonction du modèle ; dans ce cas, il s'agit d'une fonction linéaire : $f(x)=a_0 +a_1x$."
   ]
  },
  {
   "cell_type": "code",
   "execution_count": null,
   "metadata": {},
   "outputs": [],
   "source": [
    "def fmodel(x,a0,a1):\n",
    "    return a0 + a1*x"
   ]
  },
  {
   "cell_type": "markdown",
   "metadata": {},
   "source": [
    "Nous appelons ensuite la fonction `curve_fit` \n",
    "\n",
    "> En entrée avec $(f_\\textrm{modèle},x,y,\\sigma)$. \n",
    "\n",
    "> En sortie, nous récupérons les valeurs optimales des coefficients (`popt`) et la matrice de (co)variance (`pcov`) sur l'estimation des coefficients."
   ]
  },
  {
   "cell_type": "code",
   "execution_count": null,
   "metadata": {},
   "outputs": [],
   "source": [
    "from scipy.optimize import curve_fit\n",
    "from numpy import ones, sqrt\n",
    "\n",
    "# standard error\n",
    "sig = err\n",
    "\n",
    "# call curve_fit to obtain the optimized coefficients and covariance\n",
    "popt, pcov = curve_fit(f=fmodel, xdata=x, ydata=y, sigma=sig)\n",
    "\n",
    "# extract optimized coefficients\n",
    "[a0, a1] = popt\n",
    "\n",
    "# extract standard deviation errors\n",
    "sa0 = sqrt(pcov[0,0])\n",
    "sa1 = sqrt(pcov[1,1])\n",
    "\n",
    "print('a0 = %.4f +/- %.4f'%(a0,sa0))\n",
    "print('a1 = %.4f +/- %.4f'%(a1,sa1))"
   ]
  },
  {
   "cell_type": "markdown",
   "metadata": {},
   "source": [
    "### <hr style=\"border:1px solid black\"> Représentation du modèle linéaire <hr style=\"border:1px solid black\">"
   ]
  },
  {
   "cell_type": "markdown",
   "metadata": {},
   "source": [
    "Etant donné $x_\\textrm{model}\\in[\\min(x),\\max(x)]$ with $n=128$, calculons $y_\\textrm{model}=f_\\textrm{model}(x_\\textrm{model};a_0,a_1)$ "
   ]
  },
  {
   "cell_type": "code",
   "execution_count": null,
   "metadata": {},
   "outputs": [],
   "source": [
    "from numpy import linspace\n",
    "\n",
    "x_model = linspace(min(x),max(x),128)\n",
    "y_model = fmodel(x=x_model,a0=a0,a1=a1)"
   ]
  },
  {
   "cell_type": "markdown",
   "metadata": {},
   "source": [
    "Tracer les données expérimentales et la fonction du modèle linéaire ; enregistrer la figure"
   ]
  },
  {
   "cell_type": "code",
   "execution_count": null,
   "metadata": {},
   "outputs": [],
   "source": [
    "import matplotlib.pylab as plt\n",
    "from numpy import arange\n",
    "\n",
    "plt.plot(x, y, marker='o', color='black', linestyle='', label='exp. data')\n",
    "plt.errorbar(x,y,err,linestyle='',color='blue')\n",
    "\n",
    "plt.plot(x_model,y_model, marker= '', color='red',  linestyle='-',\n",
    "         label='linear regression with $f(x)= %.3f + %.3f x$'%(a0,a1))\n",
    "\n",
    "plt.xlabel(\"Precipitation (cm/yr)\")\n",
    "plt.ylabel(\"Flow (m$^3$/s)\")\n",
    "\n",
    "plt.xticks(arange(min(x)+1.1,max(x)+1,5))\n",
    "plt.yticks(arange(min(y)+0.4,max(y),1))\n",
    "\n",
    "plt.legend()\n",
    "plt.title('Water flow as a function of precipitation')\n",
    "\n",
    "plt.savefig('figure_examples/figure_prec_flow.png', dpi=300, format='png', transparent=True)"
   ]
  },
  {
   "cell_type": "markdown",
   "metadata": {},
   "source": [
    "### <hr style=\"border:1px solid black\"> Utilisation du modèle linéaire <hr style=\"border:1px solid black\">\n",
    "\n",
    "Evaluez le débit annuel si les précipitations sont de 120 cm/an."
   ]
  },
  {
   "cell_type": "code",
   "execution_count": null,
   "metadata": {},
   "outputs": [],
   "source": [
    "prec = 120\n",
    "flow = fmodel(x=prec,a0=a0,a1=a1)\n",
    "print('flow = %.4f m^3/s for prec. = %.4f'%(prec,flow))"
   ]
  }
 ],
 "metadata": {
  "celltoolbar": "Diaporama",
  "kernelspec": {
   "display_name": "Python 3 (ipykernel)",
   "language": "python",
   "name": "python3"
  },
  "language_info": {
   "codemirror_mode": {
    "name": "ipython",
    "version": 3
   },
   "file_extension": ".py",
   "mimetype": "text/x-python",
   "name": "python",
   "nbconvert_exporter": "python",
   "pygments_lexer": "ipython3",
   "version": "3.9.13"
  }
 },
 "nbformat": 4,
 "nbformat_minor": 2
}
