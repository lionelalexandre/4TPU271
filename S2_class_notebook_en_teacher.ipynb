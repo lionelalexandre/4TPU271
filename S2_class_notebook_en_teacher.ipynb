{
  "cells": [
    {
      "cell_type": "markdown",
      "metadata": {
        "id": "view-in-github",
        "colab_type": "text"
      },
      "source": [
        "<a href=\"https://colab.research.google.com/github/lionelalexandre/4TPU271/blob/main/S2_class_notebook_en_teacher.ipynb\" target=\"_parent\"><img src=\"https://colab.research.google.com/assets/colab-badge.svg\" alt=\"Open In Colab\"/></a>"
      ]
    },
    {
      "cell_type": "markdown",
      "metadata": {
        "id": "K9AhWj70lkHh"
      },
      "source": [
        "## <hr style=\"border:1px solid black\"> Teacher / Python class <hr style=\"border:1px solid black\">"
      ]
    },
    {
      "cell_type": "markdown",
      "metadata": {
        "id": "wvhExp9nlkHl"
      },
      "source": [
        "> Python is an object-oriented programming language. Object-oriented programming offer the possibility to create objects which contain both data and functions together. This is referred to as a ***class***. For instance, let's consider the class `vector_2D` which attributes $(x,y)$ coordinates to a vector, ie. $$v\\in\\mathbb{R}^{2}\\quad\\mathrm{with}\\quad\n",
        "\\begin{align}\n",
        "  v &= \\begin{pmatrix}\n",
        "  x \\\\\n",
        "  y \\\\\n",
        "  \\end{pmatrix}\n",
        "\\end{align}$$\n",
        "Consider the python class below"
      ]
    },
    {
      "cell_type": "code",
      "execution_count": null,
      "metadata": {
        "id": "DJFCp38zlkHm"
      },
      "outputs": [],
      "source": [
        "class vector_2D:\n",
        "    \"\"\" Class to create a  2D vector. \"\"\"\n",
        "    \n",
        "    def __init__(self,x=0.0,y=0.0):\n",
        "        \"\"\" Create a new vector at the origin \"\"\"\n",
        "        self.x = x\n",
        "        self.y = y"
      ]
    },
    {
      "cell_type": "markdown",
      "metadata": {
        "id": "rdHa8OX3lkHo"
      },
      "source": [
        "> There header of a class begins with the keyword, `class`, followed by the name of the class, and ending with a colon symbol `:`. \n",
        "\n",
        "> Then comes the initializer function `__init__` which is automatically called when a new object `vector_2D` is created. The `self` variables are automatically set to reference values when the object is initialized.\n",
        "\n",
        "An example of how to create an object from the class `vector_2D` is given below:"
      ]
    },
    {
      "cell_type": "code",
      "execution_count": null,
      "metadata": {
        "id": "q_gV_eY_lkHo"
      },
      "outputs": [],
      "source": [
        "vector1 = vector_2D()"
      ]
    },
    {
      "cell_type": "markdown",
      "metadata": {
        "id": "b_MpFpLwlkHp"
      },
      "source": [
        "> We said that `vector1` is an object ($\\equiv$ ***instance***) of the class `vector_2D`"
      ]
    },
    {
      "cell_type": "code",
      "execution_count": null,
      "metadata": {
        "id": "zF10VAQ7lkHp",
        "outputId": "62a4338b-c16d-4149-a153-908eb1c7c9c3"
      },
      "outputs": [
        {
          "name": "stdout",
          "output_type": "stream",
          "text": [
            "<__main__.vector_2D object at 0x7f8fb9c19b20>\n",
            "<class '__main__.vector_2D'>\n"
          ]
        }
      ],
      "source": [
        "print(vector1)\n",
        "print(type(vector1))"
      ]
    },
    {
      "cell_type": "markdown",
      "metadata": {
        "id": "DhFDZzKFlkHq"
      },
      "source": [
        "> The `x` and `y` are the ***instance attributes*** of `vector1`"
      ]
    },
    {
      "cell_type": "code",
      "execution_count": null,
      "metadata": {
        "id": "DxMX_JYylkHq",
        "outputId": "ee38ac6f-8002-4716-ebd0-0399cd198d3c"
      },
      "outputs": [
        {
          "name": "stdout",
          "output_type": "stream",
          "text": [
            "0.0 0.0\n"
          ]
        }
      ],
      "source": [
        "print(vector1.x,vector1.y)"
      ]
    },
    {
      "cell_type": "markdown",
      "metadata": {
        "id": "P8beEznjlkHr"
      },
      "source": [
        "> From the initializer function ($\\equiv$  ***initializer method***) we can explicitely attribute `(x,y)` values to the instance vector:"
      ]
    },
    {
      "cell_type": "code",
      "execution_count": null,
      "metadata": {
        "id": "1bniqcK7lkHr",
        "outputId": "64ca229c-7432-4d72-b10a-6008c0b2c4d2"
      },
      "outputs": [
        {
          "name": "stdout",
          "output_type": "stream",
          "text": [
            " Class to create a  2D vector. \n",
            "2 1\n"
          ]
        }
      ],
      "source": [
        "vector1 = vector_2D(x=2,y=1)\n",
        "print(vector1.x,vector1.y)"
      ]
    },
    {
      "cell_type": "markdown",
      "metadata": {
        "id": "K9JMpLcQlkHr"
      },
      "source": [
        "> or implicitely"
      ]
    },
    {
      "cell_type": "code",
      "execution_count": null,
      "metadata": {
        "id": "VmwadbrClkHs",
        "outputId": "6bd13022-35cd-42da-b79a-1dd078a090e2"
      },
      "outputs": [
        {
          "name": "stdout",
          "output_type": "stream",
          "text": [
            "2 1\n"
          ]
        }
      ],
      "source": [
        "vector1 = vector_2D(2,1)\n",
        "print(vector1.x,vector1.y)"
      ]
    },
    {
      "cell_type": "markdown",
      "metadata": {
        "id": "4xxMrv5LlkHs"
      },
      "source": [
        "> Plot of the vector"
      ]
    },
    {
      "cell_type": "code",
      "execution_count": null,
      "metadata": {
        "id": "E6wXDur8lkHs",
        "outputId": "b077c628-5c6a-4dfb-d743-3a231442b102"
      },
      "outputs": [
        {
          "data": {
            "image/png": "[encoded data removed]",
            "text/plain": [
              "<Figure size 400x400 with 1 Axes>"
            ]
          },
          "metadata": {},
          "output_type": "display_data"
        }
      ],
      "source": [
        "import numpy as np\n",
        "import matplotlib.pyplot as plt\n",
        "plt.rcParams[\"figure.figsize\"] = [4.0, 4.0]\n",
        "\n",
        "plt.quiver(0.0, 0.0, vector1.x, vector1.y, color='black', units='xy', scale=1, angles='uv', label='vector1')\n",
        "plt.legend()\n",
        "plt.xlim(-2, 3)\n",
        "plt.ylim(-2, 3)\n",
        "plt.grid()\n",
        "plt.show()"
      ]
    },
    {
      "cell_type": "markdown",
      "metadata": {
        "id": "tZFRP9DTlkHt"
      },
      "source": [
        "We can add a function ($\\equiv$ ***instance method***) to the class, which, for example computes the vector length (distance to the origin) from the instance attributes"
      ]
    },
    {
      "cell_type": "code",
      "execution_count": null,
      "metadata": {
        "id": "-zrvHFZLlkHt"
      },
      "outputs": [],
      "source": [
        "class vector_2D:\n",
        "    \"\"\" Class to create a  2D vector. \"\"\"\n",
        "    \n",
        "    def __init__(self,x=0.0,y=0.0):\n",
        "        \"\"\" Create a new vector at the origin \"\"\"\n",
        "        self.x = x\n",
        "        self.y = y\n",
        "        \n",
        "    def length(self):\n",
        "        \"\"\" Compute length of the vector \"\"\"\n",
        "        return (self.x**2 + self.y**2)**0.5"
      ]
    },
    {
      "cell_type": "markdown",
      "metadata": {
        "id": "7wamKkeplkHu"
      },
      "source": [
        "> The method `length` can be called from the instance"
      ]
    },
    {
      "cell_type": "code",
      "execution_count": null,
      "metadata": {
        "id": "BgTgUgwClkHu",
        "outputId": "a5157fb3-7c21-4aca-cde8-720577a6a527"
      },
      "outputs": [
        {
          "name": "stdout",
          "output_type": "stream",
          "text": [
            " Class to create a  2D vector. \n"
          ]
        }
      ],
      "source": [
        "vector1 = vector_2D(2,1)\n",
        "print(vector1.__doc__)"
      ]
    },
    {
      "cell_type": "markdown",
      "metadata": {
        "id": "qOeG9pXRlkHv"
      },
      "source": [
        "Now the question is to know if we can operate on two objects to obtain a third one. For instance, could we add (or substract) 2 vectors by adding the `x` and `y` coordinates to create a new vector using a class. The response is yes, by using the `__add__()` method. "
      ]
    },
    {
      "cell_type": "code",
      "execution_count": null,
      "metadata": {
        "id": "hs7zi4XTlkHv"
      },
      "outputs": [],
      "source": [
        "class vector_2D:\n",
        "    \"\"\" Class to create a  2D vector. \"\"\"\n",
        "    \n",
        "    def __init__(self,x=0.0,y=0.0):\n",
        "        \"\"\" Create a new vector at the origin \"\"\"\n",
        "        self.x = x\n",
        "        self.y = y\n",
        "        \n",
        "    def length(self):\n",
        "        \"\"\" Compute length of the vector \"\"\"\n",
        "        return (self.x**2 + self.y**2)**0.5      \n",
        "        \n",
        "    def __add__(self, other):\n",
        "        return vector_2D(self.x + other.x, self.y + other.y)"
      ]
    },
    {
      "cell_type": "markdown",
      "metadata": {
        "id": "jhV-SU-1lkHv"
      },
      "source": [
        "> `__add__()` has 2 arguments `self` for the 1st instance and `other` for the second one  "
      ]
    },
    {
      "cell_type": "code",
      "execution_count": null,
      "metadata": {
        "id": "5Fo4twOjlkHw"
      },
      "outputs": [],
      "source": [
        "vector1 = vector_2D(2, 1)\n",
        "vector2 = vector_2D(1,-1)"
      ]
    },
    {
      "cell_type": "code",
      "execution_count": null,
      "metadata": {
        "id": "1Q2hJV2zlkHw",
        "outputId": "d2d85c0e-2894-43a6-fc83-48ac9ac61698"
      },
      "outputs": [
        {
          "name": "stdout",
          "output_type": "stream",
          "text": [
            "3 0\n",
            "3.0\n"
          ]
        }
      ],
      "source": [
        "vector3 = vector1 + vector2\n",
        "\n",
        "print(vector3.x, vector3.y)\n",
        "print(vector3.length())"
      ]
    },
    {
      "cell_type": "markdown",
      "metadata": {
        "id": "GI6iFhsTlkHw"
      },
      "source": [
        "> Plot of the 3 vectors"
      ]
    },
    {
      "cell_type": "code",
      "execution_count": null,
      "metadata": {
        "id": "FWmpgiP_lkHw",
        "outputId": "c1c17649-60c6-471f-98eb-208daf7d0b6e"
      },
      "outputs": [
        {
          "data": {
            "image/png": "[encoded data removed]",
            "text/plain": [
              "<Figure size 400x400 with 1 Axes>"
            ]
          },
          "metadata": {},
          "output_type": "display_data"
        }
      ],
      "source": [
        "import numpy as np\n",
        "import matplotlib.pyplot as plt\n",
        "plt.rcParams[\"figure.figsize\"] = [4.0, 4.0]\n",
        "\n",
        "plt.quiver(0.0, 0.0, vector1.x, vector1.y, color='black', units='xy', scale=1, angles='uv', label='vector1')\n",
        "plt.quiver(0.0, 0.0, vector2.x, vector2.y, color='blue',  units='xy', scale=1, angles='uv', label='vector2')\n",
        "plt.quiver(0.0, 0.0, vector3.x, vector3.y, color='green', units='xy', scale=1, angles='uv', label='vector3')\n",
        "\n",
        "plt.legend()\n",
        "plt.xlim(-2, 3)\n",
        "plt.ylim(-2, 3)\n",
        "plt.grid()\n",
        "plt.show()"
      ]
    },
    {
      "cell_type": "markdown",
      "metadata": {
        "id": "8GxuRkcGlkHx"
      },
      "source": [
        "> For printing purpose it can be interesting to have a string representation of the vector. Typically, when we want to print the vector components we must explicitely loop over `x`and `y`. When we try to print an instance `vector` we get:"
      ]
    },
    {
      "cell_type": "code",
      "execution_count": null,
      "metadata": {
        "id": "Xa_ZeYtwlkHx",
        "outputId": "c17b190f-852d-485c-cb90-8638bf50a15d"
      },
      "outputs": [
        {
          "name": "stdout",
          "output_type": "stream",
          "text": [
            "<__main__.vector_2D object at 0x7f8f9836faf0>\n"
          ]
        }
      ],
      "source": [
        "print(vector3)"
      ]
    },
    {
      "cell_type": "markdown",
      "metadata": {
        "id": "o5FnOaUQlkHx"
      },
      "source": [
        "> The solution is bring by the `__str__()` method which can return the instance attributes as a formated\n",
        "string."
      ]
    },
    {
      "cell_type": "code",
      "execution_count": null,
      "metadata": {
        "id": "fbyd0Wl2lkHx"
      },
      "outputs": [],
      "source": [
        "class vector_2D:\n",
        "    \"\"\" Class to create a  2D vector. \"\"\"\n",
        "    \n",
        "    def __init__(self,x=0.0,y=0.0):\n",
        "        \"\"\" Create a new vector at the origin \"\"\"\n",
        "        self.x = x\n",
        "        self.y = y\n",
        "        \n",
        "    def length(self):\n",
        "        \"\"\" Compute length of the vector \"\"\"\n",
        "        return (self.x**2 + self.y**2)**0.5      \n",
        "        \n",
        "    def __add__(self, other):\n",
        "        return vector_2D(self.x + other.x, self.y + other.y)\n",
        "    \n",
        "    def __str__(self):\n",
        "        return '({0}, {1})'.format(self.x, self.y)"
      ]
    },
    {
      "cell_type": "code",
      "execution_count": null,
      "metadata": {
        "id": "CwHuX_2RlkHy"
      },
      "outputs": [],
      "source": [
        "vector1 = vector_2D(2, 1)"
      ]
    },
    {
      "cell_type": "code",
      "execution_count": null,
      "metadata": {
        "id": "QfOO3AcWlkHy",
        "outputId": "3d2c4caf-fa90-4a87-9b14-88e652f1201c"
      },
      "outputs": [
        {
          "name": "stdout",
          "output_type": "stream",
          "text": [
            "(2, 1)\n"
          ]
        }
      ],
      "source": [
        "print(vector1)"
      ]
    },
    {
      "cell_type": "markdown",
      "metadata": {
        "id": "JptN2BbPlkHz"
      },
      "source": [
        "##### Exercise 0.0 <hr style=\"border:1px solid grey\">\n",
        "\n",
        "Build you own complex number class (called `cplx`) *without* using explicit python complex type. Let $z=x+yi$, \n",
        "where $x$ and $y$ are the real and imaginary part, the class should have the following methods:\n",
        "\n",
        "0. Initialization of $(a,b)$ as `self.real` and `self.imag` to zero if no values are provided\n",
        "1. Calculation of the modulus $|z|=\\sqrt{zz^*}$ via `cplx.mod()`\n",
        "1. Print of the complex conjugate via `cplx.conj()`\n",
        "1. Print of the polar coordinates $(r=|z|, \\phi=\\cos^{-1}(a/|z|))$ via `cplx.polar()` [using the function `arccos`of the library numpy.[<sup>1</sup>](#fn1)]\n",
        "\n",
        "<span id=\"fn1\"> $^1$ Note that `arccos` outupt an angle in radian unit. We can convert the value in degree.</span>"
      ]
    },
    {
      "cell_type": "code",
      "execution_count": null,
      "metadata": {
        "id": "YgiZBVCtlkHz"
      },
      "outputs": [],
      "source": [
        "from numpy import arccos, pi"
      ]
    },
    {
      "cell_type": "markdown",
      "metadata": {
        "id": "PcCGJ1jvlkH0"
      },
      "source": [
        "<span style=\"color:red\">**solution :**</span>"
      ]
    },
    {
      "cell_type": "code",
      "execution_count": null,
      "metadata": {
        "id": "uBnn-AA7lkH0"
      },
      "outputs": [],
      "source": [
        "from numpy import arccos, pi\n",
        "\n",
        "class cplx:\n",
        "    \"\"\" Class for a complex number \"\"\"\n",
        "    \n",
        "    def __init__(self,real=0.0,imag=0.0):\n",
        "        \"\"\" Create a new complex number \"\"\"\n",
        "        self.real = real\n",
        "        self.imag = imag\n",
        "        \n",
        "    def mod(self):\n",
        "        \"\"\" Compute and return the module \"\"\"\n",
        "        return (self.real**2 + self.imag**2)**0.5      \n",
        "\n",
        "    def conj(self):\n",
        "        \"\"\" Return cplx conjugate \"\"\"\n",
        "        return (self.real, -self.imag)  \n",
        "\n",
        "    def polar(self):\n",
        "        \"\"\" Return polar coordinates \"\"\"\n",
        "        r  = self.mod()\n",
        "        phi= arccos(self.real/r)*180/pi\n",
        "        return (r, phi) \n",
        "    \n",
        "    def __str__(self):\n",
        "        return '({0}, {1})'.format(self.real, self.imag)"
      ]
    },
    {
      "cell_type": "code",
      "execution_count": null,
      "metadata": {
        "id": "gyPttXq1lkH1",
        "outputId": "a5f1e81d-2725-4317-9432-9d0f22343569"
      },
      "outputs": [
        {
          "name": "stdout",
          "output_type": "stream",
          "text": [
            "1.4142135623730951\n",
            "(-1, -1)\n",
            "(1.4142135623730951, 135.0)\n"
          ]
        }
      ],
      "source": [
        "z = cplx(-1,1)\n",
        "\n",
        "print( z.mod()   )\n",
        "print( z.conj()  ) \n",
        "print( z.polar() )"
      ]
    },
    {
      "cell_type": "markdown",
      "metadata": {
        "id": "tGkoO8QalkH2"
      },
      "source": [
        "<hr style=\"border:1px solid grey\">"
      ]
    },
    {
      "cell_type": "markdown",
      "metadata": {
        "id": "RRoYlumplkH2"
      },
      "source": [
        "##### Exercise 0.1 <hr style=\"border:1px solid grey\">\n",
        "\n",
        "Having a polar representation of a complex number it becomes easy to perform *exponentiation* since, given $z\\in\\mathbb{C}$ with $z=re^{i\\phi}$:\n",
        "$$z^{n} = \\left(re^{i\\phi}\\right)^n = r^n e^{in\\phi}$$\n",
        "\n",
        "The result can be back transformed using the common relations : $x=r\\cos{\\phi}$ and $y=r\\sin{\\phi}$.\n",
        "> From the equations above, improve the `cplx` class by introducing the *exponentiation* (as `cplx.power(n)`) method. Notice that, this function must has an argument associated to the power $n$.\n",
        "\n",
        "Compare your results to the python build-in function `pow(z,n)` for $z=1+i$, with $n=3$ et $n=1/3$."
      ]
    },
    {
      "cell_type": "code",
      "execution_count": null,
      "metadata": {
        "id": "0ohZY74vlkH2",
        "outputId": "bad4c0b4-2e1a-477a-88e5-d130c2a89c72"
      },
      "outputs": [
        {
          "name": "stdout",
          "output_type": "stream",
          "text": [
            "(-2+2j)\n",
            "(1.0842150814913512+0.2905145555072514j)\n"
          ]
        }
      ],
      "source": [
        "z = 1 + 1j\n",
        "\n",
        "print( pow(z,3)   )\n",
        "print( pow(z,1/3) )"
      ]
    },
    {
      "cell_type": "markdown",
      "metadata": {
        "id": "FmqyMuVglkH2"
      },
      "source": [
        "<span style=\"color:red\">**solution :**</span>"
      ]
    },
    {
      "cell_type": "code",
      "execution_count": null,
      "metadata": {
        "id": "fRcuaMFwlkH3"
      },
      "outputs": [],
      "source": [
        "from numpy import arccos, pi, cos, sin\n",
        "\n",
        "class cplx:\n",
        "    \"\"\" Class for a complex number \"\"\"\n",
        "    \n",
        "    def __init__(self,real=0.0,imag=0.0):\n",
        "        \"\"\" Create a new complex number \"\"\"\n",
        "        self.real = real\n",
        "        self.imag = imag\n",
        "        \n",
        "    def mod(self):\n",
        "        \"\"\" Compute and return the module \"\"\"\n",
        "        return (self.real**2 + self.imag**2)**0.5      \n",
        "\n",
        "    def conj(self):\n",
        "        \"\"\" Return cplx conjugate \"\"\"\n",
        "        return (self.real, -self.imag)  \n",
        "\n",
        "    def polar(self):\n",
        "        \"\"\" Return polar coordinates \"\"\"\n",
        "        r  = self.mod()\n",
        "        phi= arccos(self.real/r)*180/pi\n",
        "        return (r, phi) \n",
        "\n",
        "    def power(self,n):\n",
        "        \"\"\" Return power n of cplx \"\"\"\n",
        "        r, phi = self.polar()\n",
        "        x = r**n * cos(n*phi*pi/180)\n",
        "        y = r**n * sin(n*phi*pi/180)        \n",
        "        return (x, y) \n",
        "    \n",
        "    def __str__(self):\n",
        "        return '({0}, {1})'.format(self.real, self.imag)"
      ]
    },
    {
      "cell_type": "code",
      "execution_count": null,
      "metadata": {
        "id": "KBoDrCTXlkH3"
      },
      "outputs": [],
      "source": [
        "z = cplx(1,1)"
      ]
    },
    {
      "cell_type": "code",
      "execution_count": null,
      "metadata": {
        "scrolled": true,
        "id": "b3iTT-VGlkH4",
        "outputId": "42db4ac8-727e-47ac-e0f7-ca241d041199"
      },
      "outputs": [
        {
          "name": "stdout",
          "output_type": "stream",
          "text": [
            "(-2.0000000000000013, 1.9999999999999996)\n",
            "(1.0842150814913512, 0.29051455550725147)\n"
          ]
        }
      ],
      "source": [
        "print(z.power(3))\n",
        "print(z.power(1/3))"
      ]
    },
    {
      "cell_type": "code",
      "execution_count": null,
      "metadata": {
        "id": "svnz7ZEulkH4"
      },
      "outputs": [],
      "source": []
    }
  ],
  "metadata": {
    "celltoolbar": "Diaporama",
    "kernelspec": {
      "display_name": "Python 3 (ipykernel)",
      "language": "python",
      "name": "python3"
    },
    "language_info": {
      "codemirror_mode": {
        "name": "ipython",
        "version": 3
      },
      "file_extension": ".py",
      "mimetype": "text/x-python",
      "name": "python",
      "nbconvert_exporter": "python",
      "pygments_lexer": "ipython3",
      "version": "3.9.13"
    },
    "colab": {
      "provenance": [],
      "include_colab_link": true
    }
  },
  "nbformat": 4,
  "nbformat_minor": 0
}