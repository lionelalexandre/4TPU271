{
 "cells": [
  {
   "cell_type": "markdown",
   "metadata": {
    "id": "F1WI4b8ShUv1"
   },
   "source": [
    "# <span style=\"color:blue\"> <center>Teacher / TD4 : 4TPU279U $-$ Bachelor 1st year $-$ spring 2023</center></span>\n",
    "# <center>Introduction to python programming</center>\n",
    "# <hr style=\"border:1px solid black\"><center>  Debugging </center><hr style=\"border:1px solid black\">\n",
    "</br>\n",
    "\n",
    "<div style=\"text-align: right\"> Credits: R. Boisgard, L. Truflandier, Philippe Paillou, Julien Burgin, Sara Zein, Leo Delmarre, Simon Villain-Guillot </div>\n"
   ]
  },
  {
   "cell_type": "markdown",
   "metadata": {},
   "source": [
    "## <center> Debugg or correct, or both, programs 1.0 to 3.2 taken from the firsts 3 notebooks </center>"
   ]
  },
  {
   "cell_type": "markdown",
   "metadata": {},
   "source": [
    "## <hr style=\"border:1px solid black\">  S2_TD1_python_notebook : Basics <hr style=\"border:1px solid black\">"
   ]
  },
  {
   "cell_type": "markdown",
   "metadata": {},
   "source": [
    "##### Exercise 1.0 <hr style=\"border:1px solid grey\">\n",
    "\n",
    "> Compute : \n",
    "\n",
    "$$ s_2=1+\\cfrac{1}{ 2 + \\cfrac{1}{ 2+ \\cfrac{1}{2 + \\cfrac{1}{2} } } } $$"
   ]
  },
  {
   "cell_type": "markdown",
   "metadata": {},
   "source": [
    "<span style=\"color:red\">**solution :**</span>"
   ]
  },
  {
   "cell_type": "code",
   "execution_count": null,
   "metadata": {},
   "outputs": [],
   "source": [
    "s2 = 1 + (1/(2 + 1/(2 + 1/(2 + 1/2)))\n",
    "print(s2)"
   ]
  },
  {
   "cell_type": "markdown",
   "metadata": {},
   "source": [
    "<hr style=\"border:1px solid grey\">"
   ]
  },
  {
   "cell_type": "markdown",
   "metadata": {},
   "source": [
    "##### Exercise 1.1 <hr style=\"border:1px solid grey\">\n",
    "> For $(x,y)\\in\\mathbb{C}$, shuch that $x=a+bi$ and $y=c+di$ show that x/y = z with\n",
    "\n",
    "$$z= \\frac{(ac+bd)+(bc-ad)i}{c^2+d^2}$$\n",
    "\n",
    "> using for instance $x=1-2i$ and $y = 1+2i$"
   ]
  },
  {
   "cell_type": "code",
   "execution_count": null,
   "metadata": {},
   "outputs": [],
   "source": [
    "x = 1-2j ; y = 1+2j\n",
    "a = x.real # extract real part of x\n",
    "b = x.imag # extract imaginary part of x\n",
    "c = y.real\n",
    "d = y.imag\n",
    "print(a,b,c,d)"
   ]
  },
  {
   "cell_type": "markdown",
   "metadata": {},
   "source": [
    "<span style=\"color:red\">**solution :**</span>"
   ]
  },
  {
   "cell_type": "code",
   "execution_count": null,
   "metadata": {},
   "outputs": [],
   "source": [
    "z = (a*c + b*d) + (b*c - a*d)*1j/(c**2 + d**2)\n",
    "print(z)"
   ]
  },
  {
   "cell_type": "markdown",
   "metadata": {},
   "source": [
    "<hr style=\"border:1px solid grey\">"
   ]
  },
  {
   "cell_type": "markdown",
   "metadata": {},
   "source": [
    "##### Exercice 1.8 : roots of 2nd order polynomial using `if` construct <hr style=\"border:1px solid grey\">\n",
    "1. Using a `for` loop perform the sum: $s=\\sum_{i=1}^ni$ with $n=100$\n",
    "3. Using a `for` loop perform the product: $p=\\prod_{i=1}^ni$ with $n=10$"
   ]
  },
  {
   "cell_type": "markdown",
   "metadata": {},
   "source": [
    "<span style=\"color:red\">**solution :**</span>"
   ]
  },
  {
   "cell_type": "code",
   "execution_count": null,
   "metadata": {},
   "outputs": [],
   "source": [
    "s = 0\n",
    "for i in range(1,101):\n",
    "s = s + i\n",
    "    \n",
    "print(s)\n"
   ]
  },
  {
   "cell_type": "code",
   "execution_count": null,
   "metadata": {},
   "outputs": [],
   "source": [
    "p = 1\n",
    "for i in range(0,11):\n",
    "    p = p * i\n",
    "    \n",
    "print(p)"
   ]
  },
  {
   "cell_type": "markdown",
   "metadata": {},
   "source": [
    "Write a program to solve for the following quadratic function: $ ax^2+bx+c=0$\n",
    "1. Compute the discriminant $\\Delta= b^2-4ac$\n",
    "2. Depending on the values of $\\Delta$ compute the roots:\n",
    "\\begin{eqnarray}\n",
    "\\mathrm{if}\\ \\Delta > 0 &:& x_{\\pm} = \\frac{-b \\pm \\sqrt{\\Delta}}{2a} \\\\\n",
    "\\mathrm{if}\\ \\Delta = 0 &:& x_{+} = x_{-} = -\\frac{b}{2a} \\\\\n",
    "\\mathrm{if}\\ \\Delta < 0 &:& z_{\\pm} = \\frac{-b \\pm i\\sqrt{-\\Delta}}{2a} \\\\\n",
    "\\end{eqnarray}\n",
    "3. Print the discriminant and the roots values.\n",
    "4. Check that, given these roots $ax^2+bx+c=0$ \n",
    "\n",
    "> First write down on your paper an algorithm. Then code it in python. \n",
    "\n",
    "> To test your code, you can use the 3 following sets of parameters: \n",
    "\n",
    ">$(a = 1 ; b = -1 ; c = -1)$\n",
    "\n",
    "> $(a = 1 ; b = -1 ; c =  1)$\n",
    "\n",
    ">$(a = 1 ; b =  2 ; c =  1)$"
   ]
  },
  {
   "cell_type": "markdown",
   "metadata": {},
   "source": [
    "<span style=\"color:red\">**solution :**</span>"
   ]
  },
  {
   "cell_type": "code",
   "execution_count": null,
   "metadata": {},
   "outputs": [],
   "source": [
    "from numpy import sqrt\n",
    "\n",
    "a = 1 ; b = -1 ; c = -1\n",
    "a = 1 ; b = -1 ; c =  1\n",
    "a = 1 ; b =  2 ; c =  1\n",
    "\n",
    "delta = b**2 - 4*a*c\n",
    "\n",
    "if ( delta < 0 ):\n",
    "    xp = (-b + sqrt(delta))/2*a\n",
    "    xm = (+b - sqrt(delta))/2*a\n",
    "    print('There are 2 real roots:')\n",
    "    print('x_p =',xp)\n",
    "    print('x_m =',xm)\n",
    "\n",
    "if ( delta == 0 ):\n",
    "   xp = -b/2*a\n",
    "   xm = xp\n",
    "   print('There is 1 real root:')\n",
    "print('x =',xp)\n",
    "    \n",
    "if ( delta < 0 ):\n",
    "    xp = (-b + sqrt(-delta)*1j)/2*a\n",
    "    xm = (-b - sqrt(-delta)*1j)/2*a\n",
    "\n",
    "print('There are 2 imaginary roots:')\n",
    "print('z_p =',xp)\n",
    "print('z_m =',xm)\n",
    "\n",
    "print('ax^2+ bx + c = 0 ?', a*xp**2 + b*xp + c)\n",
    "print('ax^2+ bx + c = 0 ?', a*xm**2 + b*xm + c)"
   ]
  },
  {
   "cell_type": "markdown",
   "metadata": {},
   "source": [
    "<hr style=\"border:1px solid grey\">"
   ]
  },
  {
   "cell_type": "markdown",
   "metadata": {},
   "source": [
    "##### Exercice 1.10 : iterative square-root using `while` construct<hr style=\"border:1px solid grey\">\n",
    "\n",
    "> Given a number $S$ the square-root $\\sqrt{S}$ can be computed using the following recursion:\n",
    "\\begin{eqnarray}\n",
    "x_{n+1} &=& \\frac{1}{2}\\left(x_n + \\frac{S}{x_n}\\right)\\\\\n",
    "\\mathrm{such\\ \\ that}\\ \\ \\sqrt{S} &=& \\lim_{n\\rightarrow\\infty}x_n\n",
    "\\end{eqnarray}\n",
    "> with $x_0$ an estimate of $\\sqrt{S}$. The recursion should stop when the absolute difference between\n",
    "the current iterate and previous one is below some threshold value $\\epsilon$, that is, when:\n",
    "$|x_{n+1}-x_{n}| < \\mathrm{\\epsilon}$.\n",
    "\n",
    "> Test your algorithm for $S=3$ with $x_0=1.5$ and $\\epsilon=10^{-4}$. Print the number of iterations."
   ]
  },
  {
   "cell_type": "markdown",
   "metadata": {},
   "source": [
    "<span style=\"color:red\">**solution :**</span>"
   ]
  },
  {
   "cell_type": "code",
   "execution_count": null,
   "metadata": {},
   "outputs": [],
   "source": [
    "from numpy import sqrt\n",
    "\n",
    "S = 3\n",
    "epsilon = 1e-4\n",
    "error   = 0\n",
    "x       = 0\n",
    "while ( error > epsilon ):\n",
    "    x = 0.5 * (x_old + S/x_old)\n",
    "    error = x_old - x\n",
    "    x_old = x\n",
    "\n",
    "print('square-root of',S,'=',x,'vs numpy value =',sqrt(S))"
   ]
  },
  {
   "cell_type": "markdown",
   "metadata": {},
   "source": [
    "<hr style=\"border:1px solid grey\">"
   ]
  },
  {
   "cell_type": "markdown",
   "metadata": {},
   "source": [
    "## <hr style=\"border:1px solid black\">  S2_TD2_python_notebook : Advanced basics  <hr style=\"border:1px solid black\">"
   ]
  },
  {
   "cell_type": "markdown",
   "metadata": {},
   "source": [
    "##### Exercise 2.1 <hr style=\"border:1px solid grey\">\n",
    "\n",
    "For the function below : $$f(x)=4x^2\\exp(-2x)$$ \n",
    "\n",
    "$$g(x)=\\frac{x^2}{2}\\left(1-\\frac{x}{2}\\right)^2\\exp(-x)$$\n",
    "\n",
    "$$h(x)= \\frac{4x^2}{243}\\left(3 - 2x + \\frac{2}{9}x^2\\right)^2 \\exp\\left(-\\frac{2x}{3}\\right)$$\n",
    " \n",
    "0. Define a function called `func_f`, `func_g` and `func_h`, respectively with $y$, $z$ and $x$ as argument, respectively.\n",
    "1. Compute $f(x=1)$, $g(x=2)$. \n",
    "2. Compute $h(x)$ for $x_{+}=-\\frac{3}{2}\\left(\\sqrt{3}-3\\right)$ and $x_-=\\frac{3}{2}\\left(\\sqrt{3}+3\\right)$."
   ]
  },
  {
   "cell_type": "markdown",
   "metadata": {},
   "source": [
    "<span style=\"color:red\">**solution :**</span>"
   ]
  },
  {
   "cell_type": "code",
   "execution_count": null,
   "metadata": {},
   "outputs": [],
   "source": [
    "from numpy import exp, infty, sqrt\n",
    "#from scipy.integrate import quad\n",
    "\n",
    "def func_f(y)\n",
    "    return 4*y**2 * exp(-2*y)\n",
    "\n",
    "def func_g(z):\n",
    "    return z**2/2 * (1 - y/2)**2 * exp(-z)\n",
    "\n",
    "def func_h(x):\n",
    "    return 4*x**2/243 * (3 - 2*x + 2/9*x**2)**2 * exp(-2*x/3)\n",
    "\n",
    "x = 1\n",
    "\n",
    "result_f = func_f(1) \n",
    "result_g = func_g(x=2) \n",
    "result_h1 = func_h(x=-3/2(sqrt(3) - 3))\n",
    "result_h2 = func_h(x= 3/2(sqrt(3) + 3))"
   ]
  },
  {
   "cell_type": "markdown",
   "metadata": {},
   "source": [
    "<hr style=\"border:1px solid grey\">"
   ]
  },
  {
   "cell_type": "markdown",
   "metadata": {},
   "source": [
    "##### Exercice 2.3 : constants"
   ]
  },
  {
   "cell_type": "markdown",
   "metadata": {},
   "source": [
    "Using the `scipy.constants` module:\n",
    "\n",
    "- Compute the force between two electrons separated by $r=1$ Ang. using the Coulomb law:\n",
    "$$||\\vec{F}_C||  = \\frac{1}{4\\pi\\epsilon_0}\\frac{q_e^2}{r^2}$$\n",
    "- Compute the Rybderg constant $$R_H=\\frac{mq_e^4}{8\\varepsilon^2_0h^3c}$$ where \n",
    "  - $\\epsilon_0$ is the vacuum electric permittivity\n",
    "  - $q_e$ the elementary charge\n",
    "  -  $m$ the electron mass\n",
    "  - $h$ is the Planck constant\n",
    "  - $c$ the speed of light\n",
    "\n",
    "- Compare to the Rydberg contant implemented in `scipy.constants` as `Rydberg`"
   ]
  },
  {
   "cell_type": "markdown",
   "metadata": {},
   "source": [
    "<span style=\"color:red\">**solution :**</span>"
   ]
  },
  {
   "cell_type": "code",
   "execution_count": null,
   "metadata": {},
   "outputs": [],
   "source": [
    "from scipy.constants import c, h, epsilon_0, e, pi, electron_mass, Rydberg\n",
    "from scipy.constants import electron_mass as m_e\n",
    "\n",
    "r = 1\n",
    "F = 1/4*pi*epsilon_0*e*2/r**2\n",
    "print('FCoulomb = %.4e N'F)\n",
    "\n",
    "RH = (m_e*e)**4/(8*epsilon_0**2*h**3*c)\n",
    "print('RH       = %.2f'%RH)\n",
    "print('Rydberg  = %.8f'%Rydberg)"
   ]
  },
  {
   "cell_type": "markdown",
   "metadata": {},
   "source": [
    "<hr style=\"border:1px solid grey\">"
   ]
  },
  {
   "cell_type": "markdown",
   "metadata": {},
   "source": [
    "##### Exercice 2.5 : inner product (= dot product) <hr style=\"border:1px solid grey\">\n",
    "Given $(v,w)\\in\\mathbb{R^{3}}$, write a function wich computes $v\\cdot w$ ; compare to the function `inner`\n",
    "from the library `numpy`.\n",
    "\n",
    "Compute $a\\cdot b$, $b\\cdot c$ and $a\\cdot c$ with $a=(1/\\sqrt{2},\\; 0,\\: -1/\\sqrt{2})$, $b=(1/\\sqrt{6},\\; -2/\\sqrt{6},\\: 1/\\sqrt{6})$ and\n",
    "$c=(1/\\sqrt{3},\\; 1/\\sqrt{3},\\: 1/\\sqrt{3})$"
   ]
  },
  {
   "cell_type": "markdown",
   "metadata": {},
   "source": [
    "<span style=\"color:red\">**solution :**</span>"
   ]
  },
  {
   "cell_type": "code",
   "execution_count": null,
   "metadata": {},
   "outputs": [],
   "source": [
    "from numpy import array, inner\n",
    "\n",
    "def my_inner(v,w):\n",
    "    res = 0.0\n",
    "    for i in range(len(v)):\n",
    "        res = v[i]*w[i]\n",
    "        \n",
    "\n",
    "a = array([1/sqrt(2),       0.0, -1/sqrt(2)])\n",
    "b = array([1/sqrt(6),-2/sqrt(6),  1/sqrt(6)])\n",
    "c = array([1/sqrt(3), 1/sqrt(3),  1/sqrt(3)])\n",
    "\n",
    "print(my_inner(v=a,w=b), inner(a,b))\n",
    "print(my_inner(v=b,w=c), inner(b,c))\n",
    "print(my_inner(v=a,w=c), inner(a,c))"
   ]
  },
  {
   "cell_type": "markdown",
   "metadata": {},
   "source": [
    "<hr style=\"border:1px solid grey\">"
   ]
  },
  {
   "cell_type": "markdown",
   "metadata": {},
   "source": [
    "## <hr style=\"border:1px solid black\">  S2_TD3_python_notebook  : Data Processing and Plot <hr style=\"border:1px solid black\">"
   ]
  },
  {
   "cell_type": "markdown",
   "metadata": {},
   "source": [
    "##### Exercice 3.0 :  English CSV format  <hr style=\"border:1px solid grey\">\n",
    "1. Open the data file `data_sin_en.csv` located in `data_examples` directory.\n",
    "2. Extract the 2 columns and store the results into 2 arrays. Note that the separator is a coma `','`.\n",
    "3. Print the results."
   ]
  },
  {
   "cell_type": "code",
   "execution_count": null,
   "metadata": {},
   "outputs": [],
   "source": [
    "file = open('data_examples/data_sin_en.csv','r')\n",
    "\n",
    "x = [ ] ; y = [ ]\n",
    "for line in file:\n",
    "    words = line.split(',')\n",
    "    x.append( float(words[0]) )\n",
    "    y.append( float(words[1]) )\n",
    "print(x)\n",
    "print()\n",
    "print(y)"
   ]
  },
  {
   "cell_type": "markdown",
   "metadata": {},
   "source": [
    "<hr style=\"border:1px solid grey\">"
   ]
  },
  {
   "cell_type": "markdown",
   "metadata": {},
   "source": [
    "##### Exercice 3.2 :   <hr style=\"border:1px solid grey\">\n",
    "Given a set of data $\\{x\\}_{i=1}^{N}$, the mean ($\\mu$) and the standard deviation ($\\sigma$) are given by:\n",
    "$$\\mu = \\frac{1}{N}\\sum_{i=1}^N x_i$$ and $$ \\sigma=\\sqrt{\\frac{1}{N-1}\\sum_{i=1}^N(x_i-\\mu)^2}$$\n",
    "> Load the data file `lynxhare.csv` using `pandas` and convert to a numpy array.\n",
    "\n",
    "> Generate two 1D numpy arrays called `hare` and `lynx`.\n",
    "\n",
    "> Using the python built-in function (`min`, `max`, `sum`, `len`) compute the min/max, $\\mu$ and $\\sigma$ for the hare and lynx population. \n",
    "\n",
    "> Print the results with an appropriate format and compare to `pandas` values."
   ]
  },
  {
   "cell_type": "markdown",
   "metadata": {},
   "source": [
    "<span style=\"color:red\">**solution :**</span>"
   ]
  },
  {
   "cell_type": "code",
   "execution_count": null,
   "metadata": {},
   "outputs": [],
   "source": [
    "from numpy  import sqrt\n",
    "from pandas import read_csv\n",
    "\n",
    "data = read_csv('data_examples/harelynx.csv')\n",
    "\n",
    "data_array = data.to_numpy()\n",
    "\n",
    "hare = data_array[1,:] \n",
    "lynx = data_array[2,:] \n",
    "\n",
    "print('min(hare) = %12.6f'%min(hare))\n",
    "print('max(hare) = %12.6f'%max(hare))\n",
    "\n",
    "mu = sum(hare/len(hare))\n",
    "sig= sqrt(sum(hare - mu)**2)/(len(hare)-1))\n",
    "\n",
    "print('mu (hare) = %12.6f'%mu )\n",
    "print('sig(hare) = %12.6f'%sig)"
   ]
  },
  {
   "cell_type": "markdown",
   "metadata": {},
   "source": [
    "<hr style=\"border:1px solid grey\">"
   ]
  },
  {
   "cell_type": "markdown",
   "metadata": {},
   "source": [
    "## <center> Solve the exercices below </center>"
   ]
  },
  {
   "cell_type": "markdown",
   "metadata": {},
   "source": [
    "##### Exercice 3.6 :   <hr style=\"border:1px solid grey\">\n",
    "From the data file `harelynx.csv` located in `data_examples`, plot the variation of population of hares and lynx as a function of time.\n",
    "Follow the guidelines:\n",
    "1. the data from the file `lynxlievre.csv` should be loaded using pandas.\n",
    "2. the data shall be converted to a `numpy array`.\n",
    "3. from the `numpy array` 3 columns will be extracted $(t,x,y)$.\n",
    "4. on the same graphic plot the $x(t)$ for the hare and $y(t)$ for the lynx.\n",
    "5. compute the mean of the 2 populations using the function [`mean()`](https://numpy.org/doc/stable/reference/generated/numpy.mean.html) from numpy library.\n",
    "6. plot the mean as horizontal lines using [`axhline()`](https://matplotlib.org/stable/api/_as_gen/matplotlib.pyplot.axhline.html) function from `matplotlib.pyplot`.\n",
    "6. add the legend and a title.\n",
    "7. adapts the ticks spacing along $x$ and $y$, the size of the figure, the color and type of markers.\n",
    "\n",
    "**An template is given below:**\n",
    "<img src=\"./figure_examples/figure_lynxhare_ref.png\" alt=\"Alternative text\" width=\"500\"/>"
   ]
  },
  {
   "cell_type": "markdown",
   "metadata": {},
   "source": [
    "<hr style=\"border:1px solid grey\">"
   ]
  },
  {
   "cell_type": "markdown",
   "metadata": {},
   "source": [
    "## <hr style=\"border:1px solid black\">  S2_TD4_python_notebook  : Finite differences <hr style=\"border:1px solid black\">"
   ]
  },
  {
   "cell_type": "markdown",
   "metadata": {},
   "source": [
    "### Approximation des différences finies *centrées* (central finite difference)"
   ]
  },
  {
   "cell_type": "markdown",
   "metadata": {},
   "source": [
    "Par substraction du développement de Taylor *progressif*  de l'***équation*** $\\textcolor{green}{(3)}$ au développement de Taylor *régressif* de l'***équation*** $\\textcolor{green}{(4)}$, on obtient une nouvelle définition pour la différence finie, appelée approximation des différences finies *centrée* :\n",
    "$$f'(x) = \\frac{f(x+h)-f(x-h)}{2h} - \\left(\\textcolor{blue}{\\frac{h^2}{3!}f'''(x)} + h^2\\epsilon(h)\\right)$$"
   ]
  },
  {
   "cell_type": "markdown",
   "metadata": {},
   "source": [
    "On s'aperçoit ici que l'erreur est au deuxième ordre par rapport à $h$. Pour une valeur donnée de $h$, on s'attend à ce que cette nouvelle approximation soit plus précise que les versions *progressive* et *régressive*."
   ]
  },
  {
   "cell_type": "markdown",
   "metadata": {},
   "source": [
    "##### Exercise 4.3 <hr style=\"border:1px solid grey\">\n",
    "\n",
    "- Pour $f(x)=3x^2-2x^3$ calculer la valeur de la dérivée numérique en  à $x_1 = 0$ et $x_2=1$ en utilisant la formule de différences finies *centrées* avec $h=0.01$."
   ]
  },
  {
   "cell_type": "markdown",
   "metadata": {},
   "source": [
    "<span style=\"color:red\">**solution :**</span>"
   ]
  },
  {
   "cell_type": "code",
   "execution_count": null,
   "metadata": {},
   "outputs": [],
   "source": [
    "import matplotlib.pylab as plt\n",
    "from numpy import linspace\n",
    "\n",
    "def f(x):\n",
    "    return 3*x**2 - 2*x**3\n",
    "\n",
    "def fp(x):\n",
    "    return 6*x - 6*x**2\n",
    "\n",
    "xp1 = 0.0\n",
    "xp2 = 1.0\n",
    "h   = 0.01\n",
    "\n",
    "fp1 = ( f(xp1 + h) - f(xp1 - h) ) / (2*h)\n",
    "fp2 = ( f(xp2 + h) - f(xp2 - h) ) / (2*h)\n",
    "\n",
    "fp1_ana = fp(xp1) \n",
    "fp2_ana = fp(xp2) \n",
    "\n",
    "print('analytical derivative at x1 = %.12f'%fp1_ana)\n",
    "print('numerical  derivative at x1 = %.12f'%fp1,'for h = %.2f'%h)\n",
    "print()\n",
    "print('analytical derivative at x2 = %.12f'%fp2_ana)\n",
    "print('numerical  derivative at x2 = %.12f'%fp2,'for h = %.2f'%h)\n"
   ]
  },
  {
   "cell_type": "markdown",
   "metadata": {},
   "source": [
    "- Effectuer le calcul de la dérivée numérique de $f(x)=3x^2-2x^3$ pour $x\\in[-1,+2]$ discrétisé sur 32 points. Notons que les dérivées numériques au points $x=-1$ et $x=2$ seront écartées du calcul."
   ]
  },
  {
   "cell_type": "code",
   "execution_count": null,
   "metadata": {},
   "outputs": [],
   "source": [
    "from numpy import linspace"
   ]
  },
  {
   "cell_type": "markdown",
   "metadata": {},
   "source": [
    "- Représenter graphiquement les résultats numériques et analytiques."
   ]
  },
  {
   "cell_type": "code",
   "execution_count": null,
   "metadata": {},
   "outputs": [],
   "source": []
  },
  {
   "cell_type": "markdown",
   "metadata": {},
   "source": [
    "- Représenter graphiquement l'erreur numérique."
   ]
  },
  {
   "cell_type": "code",
   "execution_count": null,
   "metadata": {},
   "outputs": [],
   "source": []
  },
  {
   "cell_type": "markdown",
   "metadata": {},
   "source": [
    "<hr style=\"border:1px solid grey\">"
   ]
  }
 ],
 "metadata": {
  "celltoolbar": "Diaporama",
  "colab": {
   "provenance": []
  },
  "kernelspec": {
   "display_name": "Python 3 (ipykernel)",
   "language": "python",
   "name": "python3"
  },
  "language_info": {
   "codemirror_mode": {
    "name": "ipython",
    "version": 3
   },
   "file_extension": ".py",
   "mimetype": "text/x-python",
   "name": "python",
   "nbconvert_exporter": "python",
   "pygments_lexer": "ipython3",
   "version": "3.9.13"
  }
 },
 "nbformat": 4,
 "nbformat_minor": 1
}
