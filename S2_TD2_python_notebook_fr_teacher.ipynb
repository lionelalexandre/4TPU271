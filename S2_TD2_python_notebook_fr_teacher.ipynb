{
 "cells": [
  {
   "cell_type": "markdown",
   "metadata": {
    "id": "F1WI4b8ShUv1"
   },
   "source": [
    "# <span style=\"color:blue\"> <center>Teacher / TD2 : 4TPU279U $-$ Bachelor 1st year $-$ spring 2023</center></span>\n",
    "# <center>Introduction à la programmation Python</center>\n",
    "# <hr style=\"border:1px solid black\"><center> Principes de base avancés </center><hr style=\"border:1px solid black\">\n",
    "</br>\n",
    "\n",
    "<div style=\"text-align: right\"> Credits: R. Boisgard, L. Truflandier, Philippe Paillou, Julien Burgin, Sara Zein, Leo Delmarre, Simon Villain-Guillot </div>\n"
   ]
  },
  {
   "cell_type": "markdown",
   "metadata": {},
   "source": [
    "Les sujets suivants sont abordés dans ce notebook :\n",
    "- Fonction\n",
    "- Fonctions intrinsèques Python\n",
    "- Bibliothèques\n",
    "- Format d'affichage\n",
    "- Tableau Numpy\n",
    "- Fonctions et tableaux"
   ]
  },
  {
   "cell_type": "markdown",
   "metadata": {
    "id": "vl2lC9VXhUv7"
   },
   "source": [
    "## <hr style=\"border:1px solid black\">  Fonction  <hr style=\"border:1px solid black\">\n",
    "\n",
    "En programmation informatique, une [fonction](https://en.wikipedia.org/wiki/Function_(computer_programming)) est une séquence d'instructions qui exécute une tâche spécifique, présentée sous la forme d'une unité (ou d'un bloc). Cette unité peut ensuite être utilisée dans des programmes partout où cette tâche particulière doit être exécutée.\n",
    "\n",
    "Les fonctions peuvent être définies dans des *programmes* ou séparément dans des *bibliothèques* qui peuvent être utilisées par de nombreux programmes. Dans différents langages de programmation, une fonction peut être appelée *routine*, *sous-programme*, *méthode*, ou plus généralement *procédure*.\n",
    "\n",
    "En python, on parle de fonction ou, lorsqu'elle est intégrée dans une classe, de *méthode* (*vide infra*). La syntaxe d'une fonction python est la suivante :"
   ]
  },
  {
   "cell_type": "code",
   "execution_count": null,
   "metadata": {
    "id": "9KrnFE-qhUv8"
   },
   "outputs": [],
   "source": [
    "def name( arguments ):\n",
    "    statements"
   ]
  },
  {
   "cell_type": "markdown",
   "metadata": {
    "id": "Z7A_p77ShUv-"
   },
   "source": [
    "> ***name*** est le nom de la fonction. Quant aux variables, elles doivent respecter quelques règles syntaxiques de base.\n",
    "\n",
    "> ***arguments*** est une collection de valeurs impliquées dans la gestion des instructions. La collection peut être vide. Si plusieurs arguments sont introduits, ils doivent être séparés par une virgule. Dans tous les cas, les parenthèses sont obligatoires. Comme pour les constructions de base, le symbole des deux points ferme l'en-tête de la fonction.\n",
    "\n",
    "> ***statements*** sont un ensemble d'instructions qui sont exécutées lors de l'appel de la fonction. Ils doivent être *indentés* de `def` par 4 espaces. Attention : les déclarations non indentées sont considérées comme étant *extérieures* à la fonction, en d'autres termes, elles ne font pas partie de la fonction ! "
   ]
  },
  {
   "cell_type": "markdown",
   "metadata": {
    "id": "d3Oj3IWBhUv_"
   },
   "source": [
    "Parfois, nous voulons que la fonction renvoie un résultat. Un exemple est donné ci-dessous :"
   ]
  },
  {
   "cell_type": "code",
   "execution_count": null,
   "metadata": {
    "id": "R7ERDaVzhUwA"
   },
   "outputs": [],
   "source": [
    "def name( arguments ):\n",
    "    statements\n",
    "    return result"
   ]
  },
  {
   "cell_type": "markdown",
   "metadata": {
    "id": "pAzU28XOhUwC"
   },
   "source": [
    "Prenons une fonction abstraite à un seul argument $x$ : $f(x)=3x^2 - 2x^3$. Nous voulons que cette fonction imprime le résultat de $f(x)$. Un exemple est donné ci-dessous :"
   ]
  },
  {
   "cell_type": "code",
   "execution_count": null,
   "metadata": {
    "id": "mido3oBZhUwE"
   },
   "outputs": [],
   "source": [
    "def func(x):\n",
    "    print(3*x**2 - 2*x**3)"
   ]
  },
  {
   "cell_type": "markdown",
   "metadata": {
    "id": "YsdDi6ADhUwE"
   },
   "source": [
    "Après avoir défini la fonction `func`, nous devons *l'appeler* pour *l'exécuter* :"
   ]
  },
  {
   "cell_type": "markdown",
   "metadata": {
    "id": "x90T6EF0hUwF"
   },
   "source": [
    "> pour $x\\in\\mathbb{R}$, disons $x=3.0$, appelons $f(x)$:"
   ]
  },
  {
   "cell_type": "code",
   "execution_count": null,
   "metadata": {
    "id": "Xfw5nFZMhUwG"
   },
   "outputs": [],
   "source": [
    "func(x=3.0)"
   ]
  },
  {
   "cell_type": "markdown",
   "metadata": {
    "id": "WFmGK2U6hUwG"
   },
   "source": [
    "Essayons maintenant avec $x\\in\\mathbb{B}$ (Rappelez-vous que dans ce cas, `True` et `False` sont convertis en 1 et 0)."
   ]
  },
  {
   "cell_type": "code",
   "execution_count": null,
   "metadata": {
    "id": "aI1wsF7MhUwG"
   },
   "outputs": [],
   "source": [
    "func(x=True)"
   ]
  },
  {
   "cell_type": "markdown",
   "metadata": {
    "id": "avkhLkXKhUwH"
   },
   "source": [
    "> Que se passera-t-il avec une liste ?"
   ]
  },
  {
   "cell_type": "code",
   "execution_count": null,
   "metadata": {
    "id": "7atv5QEMhUwH"
   },
   "outputs": [],
   "source": [
    "func(x=[0,1,-1])"
   ]
  },
  {
   "cell_type": "markdown",
   "metadata": {
    "id": "KzkxvsOAhUwH"
   },
   "source": [
    "##### Exercise 2.0 <hr style=\"border:1px solid grey\">\n",
    "> En utilisant une boucle `for`, calculez et imprimez $f(x)$ sur les éléments de la liste $x=[0,1,-1]$."
   ]
  },
  {
   "cell_type": "markdown",
   "metadata": {
    "id": "9DmOgZlphUwI"
   },
   "source": [
    "<span style=\"color:red\">**solution :**</span>"
   ]
  },
  {
   "cell_type": "code",
   "execution_count": null,
   "metadata": {
    "id": "UiWXUOKwhUwI"
   },
   "outputs": [],
   "source": [
    "for x in [0,1,-1]:\n",
    "    func(x=x)"
   ]
  },
  {
   "cell_type": "markdown",
   "metadata": {
    "id": "DtOW2KZChUwJ"
   },
   "source": [
    "<hr style=\"border:1px solid grey\">"
   ]
  },
  {
   "cell_type": "markdown",
   "metadata": {
    "id": "8F1GByvvhUwJ"
   },
   "source": [
    "Si maintenant, nous voulons que la fonction renvoie le résultat, nous écrirons :"
   ]
  },
  {
   "cell_type": "code",
   "execution_count": null,
   "metadata": {
    "id": "Vhpwjvu9hUwJ"
   },
   "outputs": [],
   "source": [
    "def func(x):\n",
    "    result = 3*x**2 - 2*x**3\n",
    "    return result"
   ]
  },
  {
   "cell_type": "markdown",
   "metadata": {
    "id": "M74gXE2uhUwK"
   },
   "source": [
    "> Notez que pour une fonction aussi simple, l'énoncé $3x^2-2x^3$ peut être placé directement après `return`."
   ]
  },
  {
   "cell_type": "code",
   "execution_count": null,
   "metadata": {
    "id": "0lqfKh3OhUwK"
   },
   "outputs": [],
   "source": [
    "def func(x):\n",
    "    return 3*x**2 - 2*x**3"
   ]
  },
  {
   "cell_type": "markdown",
   "metadata": {
    "id": "2UECLI5ghUwK"
   },
   "source": [
    "> Lors de l'appel de la fonction, nous pouvons demander à ce que le résultat soit stocké dans une nouvelle variable, comme par exemple : $y=f(x)$"
   ]
  },
  {
   "cell_type": "code",
   "execution_count": null,
   "metadata": {
    "id": "Q3JQ0dzjhUwL"
   },
   "outputs": [],
   "source": [
    "y = func(x=1)\n",
    "print(y)"
   ]
  },
  {
   "cell_type": "markdown",
   "metadata": {
    "id": "Tf1WW2R6hUwL"
   },
   "source": [
    "##### Exercise 2.1 <hr style=\"border:1px solid grey\">\n",
    "\n",
    "Pour chaque fonction ci-dessous : \n",
    "\n",
    "$$f(x)=4x^2\\exp(-2x)$$ \n",
    "\n",
    "$$g(x)=\\frac{x^2}{2}\\left(1-\\frac{x}{2}\\right)^2\\exp(-x)$$\n",
    "\n",
    "$$h(x)= \\frac{4x^2}{243}\\left(3 - 2x + \\frac{2}{9}x^2\\right)^2 \\exp\\left(-\\frac{2x}{3}\\right)$$\n",
    "\n",
    "0. Définir une fonction appelée `func_f`, `func_g` et `func_h`, respectivement avec $x$ comme argument.\n",
    "1. Calculer $f(x=1)$, $g(x=2)$. \n",
    "2. Il s'avère que $f(x=1)$ est le $\\max$ de $f$ et que $g(x=2)$ est un $\\min$ pour $g$. Est-ce attendu ?\n",
    "2. Calculer $h(x)$ pour $x_{+}=-\\frac{3}{2}\\left(\\sqrt{3}-3\\right)$ et $x_-=\\frac{3}{2}\\left(\\sqrt{3}+3\\right)$.\n",
    "2. En utilisant le code de l'**Exercice 1.8** du **TD1** calculer les racines de $h(x)$ et comparer à $x_{+}$ and $x_{-}$."
   ]
  },
  {
   "cell_type": "markdown",
   "metadata": {
    "id": "q2nWBhdihUwL"
   },
   "source": [
    "<span style=\"color:red\">**solution :**</span>"
   ]
  },
  {
   "cell_type": "code",
   "execution_count": null,
   "metadata": {
    "id": "swJ4dhZ-hUwL"
   },
   "outputs": [],
   "source": [
    "from numpy import exp, infty, sqrt\n",
    "#from scipy.integrate import quad\n",
    "\n",
    "def func_f(x):\n",
    "    return 4*x**2 * exp(-2*x)\n",
    "\n",
    "def func_g(x):\n",
    "    return x**2/2 * (1 - x/2)**2 * exp(-x)\n",
    "\n",
    "def func_h(x):\n",
    "    return 4*x**2/243 * (3 - 2*x + 2/9*x**2)**2 * exp(-2*x/3)\n",
    "\n",
    "# Should be normalized ; just for checking\n",
    "#print(quad(func_f,0,infty))\n",
    "#print(quad(func_g,0,infty))\n",
    "#print(quad(func_h,0,infty))\n",
    "\n",
    "print( func_f(x=1) )\n",
    "print( func_g(x=2) )\n",
    "print( func_h(x=-3/2*(sqrt(3) - 3)) )\n",
    "print( func_h(x= 3/2*(sqrt(3) + 3)) )"
   ]
  },
  {
   "cell_type": "markdown",
   "metadata": {
    "id": "r9LLG7owhUwM"
   },
   "source": [
    "Note : En ce qui concerne les $\\max_{x=1}f(x)$ et $\\min_{x=2}g(x)$ : vous pouvez calculer la dérivée première et la dérivée seconde mais c'est un peu long. Le mieux est de remarquer que $f(x)$ et $g(x)$ (ainsi que $h(x)$) sont définis positifs. Pour $f(x)$, en calculant $f'(x=1)=0$, nous savons que c'est un $\\max$ qui doit être encadré par 2 $\\min$ ($\\forall x\\in[0,+\\infty[$) ; le premier $\\min$ est à $x=0$ et le second est trouvé pour $x\\rightarrow +\\infty$. Pour $g(x)$ c'est encore plus facile avec le fait que pour $g(x)\\geq 0$ $\\forall x$, alors $0$ doit être un minimum (global)."
   ]
  },
  {
   "cell_type": "code",
   "execution_count": null,
   "metadata": {
    "id": "uJ2o7YS9hUwM"
   },
   "outputs": [],
   "source": [
    "#a = 1 ; b = -1 ; c = -1\n",
    "#a = 1 ; b = -1 ; c =  1\n",
    "a = 2/9 ; b = -2 ; c =  3\n",
    "\n",
    "delta = b**2 - 4*a*c\n",
    "\n",
    "if ( delta > 0 ):\n",
    "    xp = (-b + sqrt(delta))/(2*a)\n",
    "    xm = (-b - sqrt(delta))/(2*a)\n",
    "    print('There are 2 real roots:')\n",
    "    print('x_p =',xp)\n",
    "    print('x_m =',xm)\n",
    "\n",
    "if ( delta == 0 ):\n",
    "    xp = -b/(2*a)\n",
    "    xm = xp\n",
    "    print('There is 1 real root:')\n",
    "    print('x =',xp)\n",
    "    \n",
    "if ( delta < 0 ):\n",
    "    xp = (-b + sqrt(-delta)*1j)/(2*a)\n",
    "    xm = (-b - sqrt(-delta)*1j)/(2*a)\n",
    "    print('There are 2 imaginary roots:')\n",
    "    print('z_p =',xp)\n",
    "    print('z_m =',xm)\n",
    "\n",
    "    \n",
    "print( 3/2*(sqrt(3) + 3))\n",
    "print(-3/2*(sqrt(3) - 3))\n",
    "\n",
    "print('ax^2+ bx + c = 0 ?', a*xp**2 + b*xp + c)\n",
    "print('ax^2+ bx + c = 0 ?', a*xm**2 + b*xm + c)"
   ]
  },
  {
   "cell_type": "markdown",
   "metadata": {
    "id": "pdMhiOmvhUwM"
   },
   "source": [
    "## <hr style=\"border:1px solid black\">  Fonctions intrinsèques Python  <hr style=\"border:1px solid black\">\n",
    "\n",
    "Un ensemble de [fonctions intrinsèques](https://docs.python.org/3/library/functions.html) sont disponibles\n",
    "dans Python.\n",
    "\n",
    "- Les fonctions mathématiques de base sont présentées ci-dessous.\n",
    "\n",
    "> Dans les exemples, $x=[-11,-10,...,0,1,2,...,10]$ et nous recherchons : $\\max x$, $\\min x$ and $|\\min x|$\n"
   ]
  },
  {
   "cell_type": "code",
   "execution_count": null,
   "metadata": {
    "id": "rvjj54wzhUwN"
   },
   "outputs": [],
   "source": [
    "x = list(range(-11,11))\n",
    "print(x)\n",
    "\n",
    "max_val = max(x)\n",
    "min_val = min(x)\n",
    "abs_val = abs(min_val)\n",
    "\n",
    "print('the max  is: ', max_val)\n",
    "print('the min  is: ', min_val)\n",
    "print('abs(min) is: ', abs_val)"
   ]
  },
  {
   "cell_type": "markdown",
   "metadata": {
    "id": "nKSI_sv5hUwN"
   },
   "source": [
    "> pour $x=1.6$ et $y=1.4$ nous cherchons $\\lfloor x\\rceil$ and $\\lfloor y\\rceil$, ie. les nombres entiers les plus proche"
   ]
  },
  {
   "cell_type": "code",
   "execution_count": null,
   "metadata": {
    "id": "pvcz5o9thUwN"
   },
   "outputs": [],
   "source": [
    "x = 1.6\n",
    "y = 1.4\n",
    "print('x =',x, '=> round(x) =', round(x))\n",
    "print('y =',y, '=> round(y) =', round(y))"
   ]
  },
  {
   "cell_type": "markdown",
   "metadata": {
    "id": "6MT_K7cbhUwN"
   },
   "source": [
    "- `zip` pour itérer sur plusieurs listes"
   ]
  },
  {
   "cell_type": "code",
   "execution_count": null,
   "metadata": {
    "id": "sdxcHGo-hUwN"
   },
   "outputs": [],
   "source": [
    "days = ['monday','tuesday','wednesday','thursday','friday','saturday','sunday']\n",
    "num  = list(range(1,8))\n",
    "\n",
    "for item in zip(num,days):\n",
    "    print(item)\n"
   ]
  },
  {
   "cell_type": "markdown",
   "metadata": {
    "id": "yP7coWCshUwO"
   },
   "source": [
    "##### Exercice 2.2 : <hr style=\"border:1px solid grey\">\n",
    "Passez en revue toutes les fonctions intrinsèques déjà utilisées dans le **TD1** et donnez un exemple."
   ]
  },
  {
   "cell_type": "code",
   "execution_count": null,
   "metadata": {},
   "outputs": [],
   "source": []
  },
  {
   "cell_type": "markdown",
   "metadata": {
    "id": "EPEQudZbhUwO"
   },
   "source": [
    "<hr style=\"border:1px solid grey\">"
   ]
  },
  {
   "cell_type": "markdown",
   "metadata": {
    "id": "Jpswy_ArhUwO"
   },
   "source": [
    "## <hr style=\"border:1px solid black\"> Bibliothèques  <hr style=\"border:1px solid black\">\n",
    "\n",
    "- [Numpy](https://numpy.org/doc/stable/index.html) = Numerical Python : une bibliothèque contenant les outils numériques de base et la classe `array`.\n",
    "- [Scipy](https://docs.scipy.org/doc/scipy/index.html) = Scientific Python : pour les algorithmes avancés, y compris l'algèbre linéaire, la résolution numériques d'EDP et intégration, ajustement, optimisation, transformée de Fourier...\n",
    "- [Matplotlib](https://matplotlib.org) = Bibliothèque de représentation graphique 1D/2D(3D).\n",
    "\n",
    "###  Il existe 3 méthodes de base pour utiliser une bibliothèque"
   ]
  },
  {
   "cell_type": "markdown",
   "metadata": {
    "id": "E6AORiIXhUwP"
   },
   "source": [
    "> importer directement la bibliothèque en utilisant `import`. Elle pointe ensuite vers la fonction dont vous avez besoin.\n",
    "> Ici, la fonction sinus est importée et exécutée par `numpy.sin(x)` où `x` est un nombre réel quelconque. "
   ]
  },
  {
   "cell_type": "code",
   "execution_count": null,
   "metadata": {
    "id": "i2gnv4qqhUwP"
   },
   "outputs": [],
   "source": [
    "import numpy\n",
    "numpy.sin(0.1)"
   ]
  },
  {
   "cell_type": "markdown",
   "metadata": {
    "id": "8_tHEQPehUwP"
   },
   "source": [
    "> importer la bibliothèque et lui attribuer un *alias* ; ici `np`"
   ]
  },
  {
   "cell_type": "code",
   "execution_count": null,
   "metadata": {
    "id": "vKxQ-Z1khUwP"
   },
   "outputs": [],
   "source": [
    "import numpy as np\n",
    "np.sin(0.1)"
   ]
  },
  {
   "cell_type": "markdown",
   "metadata": {
    "id": "NekfxWI0hUwP"
   },
   "source": [
    "> importer explicitement la fonction en utilisant `from *library_name* import *function_name*`"
   ]
  },
  {
   "cell_type": "code",
   "execution_count": null,
   "metadata": {
    "id": "ZOK8Y6nahUwQ"
   },
   "outputs": [],
   "source": [
    "from numpy import sin\n",
    "sin(0.1)"
   ]
  },
  {
   "cell_type": "markdown",
   "metadata": {
    "id": "nVnbLsSchUwQ"
   },
   "source": [
    "### Bibliothèque scipy.constants pour les constantes physiques et mathématiques et  les unités\n",
    "\n",
    "> Cette bibliothèque [scipy.constants](https://docs.scipy.org/doc/scipy/reference/constants.html) donne accès à toutes les constantes fondamentales recommandées internationalement par [CODATA](https://physics.nist.gov/cuu/Constants/index.html)."
   ]
  },
  {
   "cell_type": "code",
   "execution_count": null,
   "metadata": {
    "id": "MvBRVLNchUwQ"
   },
   "outputs": [],
   "source": [
    "from scipy.constants import h, c, e, epsilon_0\n",
    "from scipy.constants import unit\n",
    "\n",
    "print('Planck constant   = ',h)\n",
    "print('speed of light    = ',c)\n",
    "print('elementary charge = ',e)\n",
    "print()\n",
    "print('Planck constant   = ',h, unit('Planck constant'))\n",
    "print('speed of light    = ',c, unit('speed of light in vacuum'))\n",
    "print('elementary charge = ',e, unit('elementary charge'))"
   ]
  },
  {
   "cell_type": "markdown",
   "metadata": {
    "id": "vzqPuy1BhUwQ"
   },
   "source": [
    "> vous pouvez effectuer une recherche dans le dictionnaire à l'aide de la fonction `find()`."
   ]
  },
  {
   "cell_type": "code",
   "execution_count": null,
   "metadata": {
    "id": "bTzx2Oe-hUwQ"
   },
   "outputs": [],
   "source": [
    "from scipy.constants import find, physical_constants\n",
    "\n",
    "name = find('speed of light')\n",
    "print(name)\n",
    "\n",
    "value, unit, uncertainty = physical_constants[name[0]]\n",
    "print(value, unit, uncertainty)"
   ]
  },
  {
   "cell_type": "code",
   "execution_count": null,
   "metadata": {
    "id": "vhTfnAcwhUwR"
   },
   "outputs": [],
   "source": [
    "from scipy.constants import giga, femto, yotta, inch, foot, angstrom\n",
    "\n",
    "print('giga   =',giga)   \n",
    "print('femto  =',femto)    \n",
    "print('yotta  =',yotta)    \n",
    "print('1 inch =',inch,'m')    \n",
    "print('1 foot =',foot,'m')   \n",
    "print('1 Anstrom =',angstrom,'m')   "
   ]
  },
  {
   "cell_type": "markdown",
   "metadata": {},
   "source": [
    "##### Exercice 2.3 : <hr style=\"border:1px solid grey\">\n",
    "A partir de la bibliothèque `scipy.constants` :\n",
    "1. trouver la valeur de la permittivité électrique dans le vide et l'imprimer avec l'unité\n",
    "1. trouver la valeur de l'unité atomique de distance et l'imprimer avec l'unité\n",
    "1. trouver le facteur de conversion de eV en Joule et l'imprimer \n",
    "\n",
    "<span style=\"color:red\">**solution :**</span>"
   ]
  },
  {
   "cell_type": "code",
   "execution_count": null,
   "metadata": {},
   "outputs": [],
   "source": [
    "from scipy.constants import find, physical_constants\n",
    "\n",
    "find('permittivity')"
   ]
  },
  {
   "cell_type": "code",
   "execution_count": null,
   "metadata": {},
   "outputs": [],
   "source": [
    "value, unit, uncertainty = physical_constants['vacuum electric permittivity']\n",
    "print(value, unit)"
   ]
  },
  {
   "cell_type": "code",
   "execution_count": null,
   "metadata": {},
   "outputs": [],
   "source": [
    "find('atomic unit')"
   ]
  },
  {
   "cell_type": "code",
   "execution_count": null,
   "metadata": {},
   "outputs": [],
   "source": [
    "value, unit, uncertainty = physical_constants['atomic unit of length']\n",
    "print(value, unit)"
   ]
  },
  {
   "cell_type": "code",
   "execution_count": null,
   "metadata": {},
   "outputs": [],
   "source": [
    "find('electron volt')"
   ]
  },
  {
   "cell_type": "code",
   "execution_count": null,
   "metadata": {},
   "outputs": [],
   "source": [
    "value, unit, uncertainty = physical_constants['electron volt-joule relationship']\n",
    "print(value, unit)"
   ]
  },
  {
   "cell_type": "markdown",
   "metadata": {},
   "source": [
    "<hr style=\"border:1px solid grey\">"
   ]
  },
  {
   "cell_type": "markdown",
   "metadata": {
    "id": "oPGAjxfKhUwR"
   },
   "source": [
    "## <hr style=\"border:1px solid black\"> Format d'écriture <hr style=\"border:1px solid black\">"
   ]
  },
  {
   "cell_type": "markdown",
   "metadata": {
    "id": "_aFZoAOnhUwR"
   },
   "source": [
    "> affichage non formaté de la constante de Planck $h$."
   ]
  },
  {
   "cell_type": "code",
   "execution_count": null,
   "metadata": {
    "id": "df_K8Q8QhUwR"
   },
   "outputs": [],
   "source": [
    "from scipy.constants import h\n",
    "\n",
    "print('Planck constant = ',h)"
   ]
  },
  {
   "cell_type": "markdown",
   "metadata": {
    "id": "N_i2jsuBhUwR"
   },
   "source": [
    "> affichage formaté utilisant la notation scientifique $\\{$e$\\}$ :\n",
    "\n",
    "> $\\{$%$\\}$ indique où imprimer le nombre dans la chaîne de caractères\n",
    "\n",
    "> $\\{$12.4$\\}$ = longueur de 12 caractères (total) avec 4 décimales \n",
    "\n",
    "> Attention : n'oubliez pas que `6.6261e-34` signifie $6.6261\\times 10^{-34}$"
   ]
  },
  {
   "cell_type": "code",
   "execution_count": null,
   "metadata": {
    "id": "RZW8rL4GhUwS"
   },
   "outputs": [],
   "source": [
    "print('Planck constant = %12.4e '%h)"
   ]
  },
  {
   "cell_type": "markdown",
   "metadata": {
    "id": "7nu_CBM9hUwS"
   },
   "source": [
    "> Vous pouvez laisser python adapter la longueur du nombre scientifique en tapant $\\{$.4e$\\}$."
   ]
  },
  {
   "cell_type": "code",
   "execution_count": null,
   "metadata": {
    "id": "BffuazjmhUwS"
   },
   "outputs": [],
   "source": [
    "print('Planck constant = %.4e '%h)"
   ]
  },
  {
   "cell_type": "code",
   "execution_count": null,
   "metadata": {
    "id": "GUr9HZSMhUwS"
   },
   "outputs": [],
   "source": [
    "print('Planck constant = %.4e J.s'%h)"
   ]
  },
  {
   "cell_type": "markdown",
   "metadata": {
    "id": "UzToe2NEhUwS"
   },
   "source": [
    "> $\\{$s$\\}$ est utilisé pour les chaînes de caractères"
   ]
  },
  {
   "cell_type": "code",
   "execution_count": null,
   "metadata": {
    "id": "05LrCXKphUwS"
   },
   "outputs": [],
   "source": [
    "print('Planck constant = %.4e %s'%(h,'J.s'))"
   ]
  },
  {
   "cell_type": "markdown",
   "metadata": {
    "id": "D_TcDJ2GhUwT"
   },
   "source": [
    "> impression formatée utilisant la notation flottante $\\{$f$\\}$ :  "
   ]
  },
  {
   "cell_type": "code",
   "execution_count": null,
   "metadata": {
    "id": "Wp3phf1vhUwT"
   },
   "outputs": [],
   "source": [
    "from scipy.constants import c\n",
    "\n",
    "print('speed of light = ',c)\n",
    "print('speed of light = %20.4f'%c)\n",
    "print('speed of light = %.4f'%c)"
   ]
  },
  {
   "cell_type": "markdown",
   "metadata": {
    "id": "a2ou6XCthUwT"
   },
   "source": [
    "##### Exercice 2.4 : constants <hr style=\"border:1px solid grey\">"
   ]
  },
  {
   "cell_type": "markdown",
   "metadata": {
    "id": "t1gJX5c_hUwT"
   },
   "source": [
    "En utilisant le module `scipy.constants` :\n",
    "\n",
    "- Calculer la force entre deux électrons séparés par $r=1$ Ang. en utilisant la loi de Coulomb :\n",
    "$$||\\vec{F}_C|| = \\frac{1}{4\\pi\\epsilon_0}\\frac{q_e^2}{r^2}$$\n",
    "- Calculer la constante de Rybderg $$R_H=\\frac{mq_e^4}{8\\varepsilon^2_0h^3c}$$ où \n",
    "  - $\\epsilon_0$ est la permittivité électrique du vide\n",
    "  - $q_e$ la charge élémentaire\n",
    "  - $m$ la masse de l'électron\n",
    "  - $h$ la constante de Planck\n",
    "  - $c$ la vitesse de la lumière\n",
    "\n",
    "- Comparez avec la constante de Rydberg implémentée dans `scipy.constants` sous le nom `Rydberg`"
   ]
  },
  {
   "cell_type": "markdown",
   "metadata": {
    "id": "ohC7pTuyhUwU"
   },
   "source": [
    "<span style=\"color:red\">**solution :**</span>"
   ]
  },
  {
   "cell_type": "code",
   "execution_count": null,
   "metadata": {
    "id": "53ES_H6XhUwU"
   },
   "outputs": [],
   "source": [
    "from scipy.constants import c, h, epsilon_0, e, pi, electron_mass, Rydberg\n",
    "from scipy.constants import electron_mass as m_e\n",
    "\n",
    "r = 1e-10\n",
    "F = 1/(4*pi*epsilon_0)*e**2/r**2\n",
    "print('FCoulomb = %.4e N'%F)\n",
    "\n",
    "RH = m_e*e**4/(8*epsilon_0**2*h**3*c)\n",
    "print('RH       = %.8f'%RH)\n",
    "print('Rydberg  = %.8f'%Rydberg)\n"
   ]
  },
  {
   "cell_type": "markdown",
   "metadata": {},
   "source": [
    "<hr style=\"border:1px solid grey\">"
   ]
  },
  {
   "cell_type": "markdown",
   "metadata": {
    "id": "yGSccNQ3hUwU"
   },
   "source": [
    "## <hr style=\"border:1px solid black\"> Tableau Numpy  <hr style=\"border:1px solid black\">"
   ]
  },
  {
   "cell_type": "markdown",
   "metadata": {
    "id": "XttBktB0hUwU"
   },
   "source": [
    "### Listes"
   ]
  },
  {
   "cell_type": "code",
   "execution_count": null,
   "metadata": {
    "id": "Zg4MBc5YhUwU"
   },
   "outputs": [],
   "source": [
    "L1 = [1,20,3.14,1+3j]\n",
    "L2 = [2.5,'toto', L1]"
   ]
  },
  {
   "cell_type": "code",
   "execution_count": null,
   "metadata": {
    "id": "NT206UqEhUwU"
   },
   "outputs": [],
   "source": [
    "print(L1,L2)"
   ]
  },
  {
   "cell_type": "code",
   "execution_count": null,
   "metadata": {
    "id": "I9QxmH4thUwU"
   },
   "outputs": [],
   "source": [
    "type(L1), type(L2)"
   ]
  },
  {
   "cell_type": "code",
   "execution_count": null,
   "metadata": {
    "id": "w9TKwn6FhUwV"
   },
   "outputs": [],
   "source": [
    "print(L1+L2)"
   ]
  },
  {
   "cell_type": "markdown",
   "metadata": {
    "id": "oANS85W2hUwV"
   },
   "source": [
    "### Tableau (array)"
   ]
  },
  {
   "cell_type": "markdown",
   "metadata": {
    "id": "79fP7fxQhUwV"
   },
   "source": [
    "> construire un tableau à partir d'une liste"
   ]
  },
  {
   "cell_type": "code",
   "execution_count": null,
   "metadata": {
    "id": "pCa-2MY0hUwV"
   },
   "outputs": [],
   "source": [
    "from numpy import array, pi, zeros\n",
    "\n",
    "L = [5,pi/2,6.3] \n",
    "print(L, type(L))\n",
    "\n",
    "A = array(L)\n",
    "print(A, type(A))"
   ]
  },
  {
   "cell_type": "markdown",
   "metadata": {
    "id": "s8OlbTWXhUwV"
   },
   "source": [
    "> construire et initialiser un tableau avec des zeros ou des uns"
   ]
  },
  {
   "cell_type": "code",
   "execution_count": null,
   "metadata": {
    "id": "fv685SEIhUwV"
   },
   "outputs": [],
   "source": [
    "from numpy import zeros, ones\n",
    "\n",
    "A = zeros((4))\n",
    "print(A, type(A))\n",
    "\n",
    "B = ones((4))\n",
    "print(B,type(B))\n"
   ]
  },
  {
   "cell_type": "markdown",
   "metadata": {
    "id": "GTymC0eNhUwV"
   },
   "source": [
    "### Différences entre une liste et un tableau\n"
   ]
  },
  {
   "cell_type": "code",
   "execution_count": null,
   "metadata": {
    "id": "Ay5i4nYQhUwW"
   },
   "outputs": [],
   "source": [
    "L1 = [3,6,2]\n",
    "L2 = [8,1,4]\n",
    "print(L1)\n",
    "print(L2)\n",
    "\n",
    "L = L1+L2\n",
    "print(L)\n",
    "\n",
    "L = L1*4\n",
    "print (L)"
   ]
  },
  {
   "cell_type": "code",
   "execution_count": null,
   "metadata": {
    "id": "of40fpfFhUwW"
   },
   "outputs": [],
   "source": [
    "A1 = array(L1)\n",
    "A2 = array(L2)\n",
    "A  = A1+A2\n",
    "print(A)\n",
    "\n",
    "B = A1*A2\n",
    "print(B)\n"
   ]
  },
  {
   "cell_type": "markdown",
   "metadata": {
    "id": "jjJlCEGbhUwW"
   },
   "source": [
    "### Fonction `arange`"
   ]
  },
  {
   "cell_type": "markdown",
   "metadata": {
    "id": "Uik762PuhUwW"
   },
   "source": [
    "> arange($x_{inf}$, $x_{sup}$, $\\delta$) avec un pas $\\delta$\n",
    "\n",
    "> créé un tableau de réels $x\\in[x_{inf},x_{sup}[$\n",
    "tel que $x=\\{x_{inf},\\;x_{inf}+\\delta,\\;x_{inf}+2\\delta,...\\}$\n",
    "\n",
    "> $x_{sup}$ est exclu !"
   ]
  },
  {
   "cell_type": "code",
   "execution_count": null,
   "metadata": {
    "id": "WTi1Jw6jhUwW"
   },
   "outputs": [],
   "source": [
    "from numpy import arange\n",
    "\n",
    "A = arange(2,3,0.2)\n",
    "print(A,type(A))"
   ]
  },
  {
   "cell_type": "markdown",
   "metadata": {
    "id": "OXCfV8bihUwW"
   },
   "source": [
    "### Fonction `linspace`"
   ]
  },
  {
   "cell_type": "markdown",
   "metadata": {
    "id": "y2yM1k6ghUwX"
   },
   "source": [
    "> linspace($x_{inf}$, $x_{sup}$, $n$) avec $n$ un untier\n",
    "\n",
    "> créé un tableaux de rééls $x\\in[x_{inf},x_{sup}]$\n",
    "\n",
    "> tel que $x=\\{x_{inf},\\;x_{inf}+\\delta,\\;x_{inf}+2\\delta,...,x_{sup}\\}$ et $\\delta=\\frac{x_{sup}-x_{inf}}{n-1}$"
   ]
  },
  {
   "cell_type": "code",
   "execution_count": null,
   "metadata": {
    "id": "3CXo9-9vhUwX"
   },
   "outputs": [],
   "source": [
    "from numpy import linspace\n",
    "\n",
    "A = linspace(0,10,6)\n",
    "print(A,type(A))fds"
   ]
  },
  {
   "cell_type": "markdown",
   "metadata": {
    "id": "lygYU8X1hUwX"
   },
   "source": [
    "### Accéder aux éléments d'un tableau (1D)"
   ]
  },
  {
   "cell_type": "markdown",
   "metadata": {
    "id": "BDtjzDsGhUwX"
   },
   "source": [
    "> affichage global du tableau"
   ]
  },
  {
   "cell_type": "code",
   "execution_count": null,
   "metadata": {
    "id": "GE6VaImthUwX"
   },
   "outputs": [],
   "source": [
    "from numpy import linspace\n",
    "\n",
    "x = linspace(2,12,6) \n",
    "print(x)\n",
    "#print(x[:])"
   ]
  },
  {
   "cell_type": "markdown",
   "metadata": {
    "id": "tqNRra8ThUwX"
   },
   "source": [
    "> affichage des élements par leur index"
   ]
  },
  {
   "cell_type": "code",
   "execution_count": null,
   "metadata": {
    "id": "bFZX-YRthUwX"
   },
   "outputs": [],
   "source": [
    "print(x[0], x[3])"
   ]
  },
  {
   "cell_type": "markdown",
   "metadata": {
    "id": "TBcpptfDhUwX"
   },
   "source": [
    "> de $n=3$ (inclu) à $5$ (exclu)"
   ]
  },
  {
   "cell_type": "code",
   "execution_count": null,
   "metadata": {
    "id": "6Brtvy5XhUwX"
   },
   "outputs": [],
   "source": [
    "print(x[3:5])"
   ]
  },
  {
   "cell_type": "markdown",
   "metadata": {
    "id": "6LILjdIQhUwY"
   },
   "source": [
    "> de $n=3$ (exclu) à la fin"
   ]
  },
  {
   "cell_type": "code",
   "execution_count": null,
   "metadata": {
    "id": "JdlMrpubhUwY"
   },
   "outputs": [],
   "source": [
    "print(x[3:])"
   ]
  },
  {
   "cell_type": "markdown",
   "metadata": {
    "id": "Z7QFv58YhUwY"
   },
   "source": [
    "> du début jusqu'à $n=3$ (included) "
   ]
  },
  {
   "cell_type": "code",
   "execution_count": null,
   "metadata": {
    "id": "8_RnloNGhUwY"
   },
   "outputs": [],
   "source": [
    "print(x[:3])"
   ]
  },
  {
   "cell_type": "markdown",
   "metadata": {
    "id": "6MWOl9bthUwY"
   },
   "source": [
    "> affichage du dernier élément"
   ]
  },
  {
   "cell_type": "code",
   "execution_count": null,
   "metadata": {
    "id": "RZqZb6KzhUwY"
   },
   "outputs": [],
   "source": [
    "print(x[-1]) "
   ]
  },
  {
   "cell_type": "markdown",
   "metadata": {
    "id": "5v1cju-XhUwY"
   },
   "source": [
    "### Accéder aux éléments d'un tableau (2D)"
   ]
  },
  {
   "cell_type": "markdown",
   "metadata": {
    "id": "c3fYn_cChUwY"
   },
   "source": [
    "> Considérons $M\\in\\mathbb{N}^{3\\times 3}$"
   ]
  },
  {
   "cell_type": "code",
   "execution_count": null,
   "metadata": {
    "id": "-zEOOI-ThUwY"
   },
   "outputs": [],
   "source": [
    "from numpy import array\n",
    "\n",
    "M = array([[1,   2,  3],\n",
    "           [10, 11, 12],\n",
    "           [20, 21, 22]])\n",
    "print(M)"
   ]
  },
  {
   "cell_type": "markdown",
   "metadata": {
    "id": "mRlg4EC-hUwZ"
   },
   "source": [
    "> affichage de la première ligne"
   ]
  },
  {
   "cell_type": "code",
   "execution_count": null,
   "metadata": {
    "id": "o3ZnbGAxhUwZ"
   },
   "outputs": [],
   "source": [
    "print(M[0,:])"
   ]
  },
  {
   "cell_type": "markdown",
   "metadata": {
    "id": "UROnSBr5hUwZ"
   },
   "source": [
    "> affichage de la première colonne"
   ]
  },
  {
   "cell_type": "code",
   "execution_count": null,
   "metadata": {
    "id": "1a8jLVh2hUwZ"
   },
   "outputs": [],
   "source": [
    "print(M[:,0])"
   ]
  },
  {
   "cell_type": "markdown",
   "metadata": {
    "id": "UQDlkoMjhUwZ"
   },
   "source": [
    "> affichage d'un élement suivant les 2 index ligne - colonne"
   ]
  },
  {
   "cell_type": "code",
   "execution_count": null,
   "metadata": {
    "id": "eZEF2rNchUwZ"
   },
   "outputs": [],
   "source": [
    "print(M[1,2])"
   ]
  },
  {
   "cell_type": "markdown",
   "metadata": {
    "id": "LWr18LMghUwZ"
   },
   "source": [
    "## <hr style=\"border:1px solid black\"> Fonction et tableau  <hr style=\"border:1px solid black\">"
   ]
  },
  {
   "cell_type": "markdown",
   "metadata": {
    "id": "QyRQrC8jhUwa"
   },
   "source": [
    "> Pour un $x$ abstrait, on a : $f(x;a,b)=a\\times x + b$ où $x$ est la variable et $(a,b)$ quelques paramètres."
   ]
  },
  {
   "cell_type": "code",
   "execution_count": null,
   "metadata": {
    "id": "-kR7jHgHhUwa"
   },
   "outputs": [],
   "source": [
    "def func(x,a,b):\n",
    "    y = a*x + b\n",
    "    return y"
   ]
  },
  {
   "cell_type": "markdown",
   "metadata": {
    "id": "6Db6OuodhUwa"
   },
   "source": [
    "> pour $x\\in\\mathbb{R}$, disons $x=3.2$ et $(a=2.0,b=1.0)$, calculons $f(x)$:"
   ]
  },
  {
   "cell_type": "code",
   "execution_count": null,
   "metadata": {
    "id": "3Trlwe2HhUwa"
   },
   "outputs": [],
   "source": [
    "# print result straight in standard output\n",
    "func(x=3.2,a=2.0,b=1.0)"
   ]
  },
  {
   "cell_type": "code",
   "execution_count": null,
   "metadata": {
    "id": "2_evxipchUwa"
   },
   "outputs": [],
   "source": [
    "# store result in a variable\n",
    "c = func(x=3.2,a=2.0,b=1.0)\n",
    "print(c)\n",
    "\n",
    "# implicit assignment of arguments\n",
    "c = func(3.2,2.0,1.0)\n",
    "print(c)"
   ]
  },
  {
   "cell_type": "markdown",
   "metadata": {
    "id": "g1p5-r6fhUwa"
   },
   "source": [
    "> pour $v\\in\\mathbb{R}^{3}$, avec $(a=2.0,b=1.0)$, calculons $f(v)$:"
   ]
  },
  {
   "cell_type": "code",
   "execution_count": null,
   "metadata": {
    "id": "XENgAnDfhUwa"
   },
   "outputs": [],
   "source": [
    "from numpy import array\n",
    "\n",
    "v = array([1,2,3])\n",
    "y = func(x=v,a=2.0,b=1.0)\n",
    "\n",
    "print('v vector:')\n",
    "print(v)\n",
    "print('y vector:')\n",
    "print(y)"
   ]
  },
  {
   "cell_type": "markdown",
   "metadata": {
    "id": "peSyJaBShUwb"
   },
   "source": [
    "> Nous trouvons que pour $v\\in\\mathbb{R}^{3}$ alors $f(v)\\in\\mathbb{R}^{3}$. Notons que $b$ n'a pas besoin d'être un vecteur !\n",
    "\n",
    "> `python` a interprété : $a\\times v + b\\times o$ avec $o=[1,1,1]$."
   ]
  },
  {
   "cell_type": "markdown",
   "metadata": {
    "id": "FbOFuwyjhUwb"
   },
   "source": [
    "##### Exercice 2.5 : norme d'un vecteur <hr style=\"border:1px solid grey\">\n",
    "Etant donné $v\\in\\mathbb{R^{3}}$, écrivez une fonction qui calcule $||v||$ ; comparez avec la fonction `norm`\n",
    "de la bibliothèque `numpy.linalg`.\n",
    "\n",
    "Calculer $||a||$, $||b||$, $||c||$ avec $a=(1/\\sqrt{2},\\; 0,\\: -1/\\sqrt{2})$, $b=(1/\\sqrt{6},\\; -2/\\sqrt{6},\\: 1/\\sqrt{6})$ et\n",
    "$c=(1/\\sqrt{3},\\; 1/\\sqrt{3},\\: 1/\\sqrt{3})$"
   ]
  },
  {
   "cell_type": "markdown",
   "metadata": {
    "id": "1mmJ7AGAhUwb"
   },
   "source": [
    "<span style=\"color:red\">**solution :**</span>"
   ]
  },
  {
   "cell_type": "code",
   "execution_count": null,
   "metadata": {
    "id": "zxN_ijdqhUwb"
   },
   "outputs": [],
   "source": [
    "from numpy.linalg import norm\n",
    "from numpy import sqrt, array\n",
    "    \n",
    "def my_norm(v):\n",
    "    res = 0.0\n",
    "    for i in range(len(v)):\n",
    "        res = res + v[i]**2\n",
    "    # or\n",
    "    #return sqrt(sum(b**2))\n",
    "    return sqrt(res)\n",
    "\n",
    "a = array([1/sqrt(2),       0.0, -1/sqrt(2)])\n",
    "b = array([1/sqrt(6),-2/sqrt(6),  1/sqrt(6)])\n",
    "c = array([1/sqrt(3), 1/sqrt(3),  1/sqrt(3)])\n",
    "\n",
    "na = my_norm(v=a)\n",
    "print(na)    \n",
    "print(norm(x=a))\n",
    "\n",
    "nb = my_norm(v=b)\n",
    "print(nb)    \n",
    "\n",
    "nc = my_norm(v=c)\n",
    "print(nc)    \n"
   ]
  },
  {
   "cell_type": "markdown",
   "metadata": {
    "id": "J2fFa8XphUwb"
   },
   "source": [
    "<hr style=\"border:1px solid grey\">"
   ]
  },
  {
   "cell_type": "markdown",
   "metadata": {
    "id": "u7a1JQtnhUwb"
   },
   "source": [
    "##### Exercice 2.6 : produit interne (= produit scalaire) <hr style=\"border:1px solid grey\">\n",
    "Etant donnés $(v,w)\\in\\mathbb{R^{3}}$, écrire une fonction que calcule $v\\cdot w$ ; comparer à la fonction `inner`\n",
    "de la bibliothèque `numpy`.\n",
    "\n",
    "Calculer $a\\cdot b$, $b\\cdot c$ et $a\\cdot c$ avec $a=(1/\\sqrt{2},\\; 0,\\: -1/\\sqrt{2})$, $b=(1/\\sqrt{6},\\; -2/\\sqrt{6},\\: 1/\\sqrt{6})$ et\n",
    "$c=(1/\\sqrt{3},\\; 1/\\sqrt{3},\\: 1/\\sqrt{3})$"
   ]
  },
  {
   "cell_type": "markdown",
   "metadata": {
    "id": "zf1wgDoPhUwb"
   },
   "source": [
    "<span style=\"color:red\">**solution :**</span>"
   ]
  },
  {
   "cell_type": "code",
   "execution_count": null,
   "metadata": {
    "id": "cmc0ncdShUwc"
   },
   "outputs": [],
   "source": [
    "from numpy import array, inner\n",
    "\n",
    "def my_inner(v,w):\n",
    "    res = 0.0\n",
    "    for i in range(len(v)):\n",
    "        res = res + v[i]*w[i]\n",
    "    return res\n",
    "\n",
    "a = array([1/sqrt(2),       0.0, -1/sqrt(2)])\n",
    "b = array([1/sqrt(6),-2/sqrt(6),  1/sqrt(6)])\n",
    "c = array([1/sqrt(3), 1/sqrt(3),  1/sqrt(3)])\n",
    "\n",
    "print(my_inner(v=a,w=b), inner(a,b))\n",
    "print(my_inner(v=b,w=c), inner(b,c))\n",
    "print(my_inner(v=a,w=c), inner(a,c))"
   ]
  },
  {
   "cell_type": "markdown",
   "metadata": {
    "id": "sWyoUpeHhUwc"
   },
   "source": [
    "<hr style=\"border:1px solid grey\">"
   ]
  },
  {
   "cell_type": "markdown",
   "metadata": {
    "id": "x3i4_itEhUwc"
   },
   "source": [
    "##### Exercice 2.7 : externaliser la fonction dans un fichier `python` <hr style=\"border:1px solid grey\">\n",
    "\n",
    "0. Créer a nouveau fichier `python` appelé `my_lib.py` avec **Anaconda/Spyder**.\n",
    "1. Copier les functions `my_norm` and `my_inner` dans ce fichier.\n",
    "2. Sauvegarder la fichier au même endroit que le fichier notebook.\n",
    "3. Importer `my_norm` et `my_inner` à partir de `my_lib` and tester les fonctions."
   ]
  },
  {
   "cell_type": "code",
   "execution_count": null,
   "metadata": {
    "id": "BSXXH9NXhUwc"
   },
   "outputs": [],
   "source": [
    "from my_lib import my_norm, my_inner"
   ]
  },
  {
   "cell_type": "markdown",
   "metadata": {
    "id": "aQhh0aCghUwc"
   },
   "source": [
    "<span style=\"color:red\">**solution :**</span>"
   ]
  },
  {
   "cell_type": "code",
   "execution_count": null,
   "metadata": {
    "colab": {
     "base_uri": "https://localhost:8080/"
    },
    "id": "g36_2Hf2hUwd",
    "outputId": "8a9369af-78cb-4e9e-eb08-ef92314c0b8e"
   },
   "outputs": [],
   "source": [
    "from numpy  import array, sqrt\n",
    "from my_lib import my_norm, my_inner\n",
    "\n",
    "a = array([1/sqrt(2),       0.0, -1/sqrt(2)])\n",
    "b = array([1/sqrt(6),-2/sqrt(6),  1/sqrt(6)])\n",
    "c = array([1/sqrt(3), 1/sqrt(3),  1/sqrt(3)])\n",
    "\n",
    "print(my_norm(v=a))\n",
    "print(my_inner(v=a,w=b))"
   ]
  },
  {
   "cell_type": "markdown",
   "metadata": {
    "id": "iW7MFdnUhUwd"
   },
   "source": [
    "<hr style=\"border:1px solid grey\">"
   ]
  },
  {
   "cell_type": "code",
   "execution_count": null,
   "metadata": {},
   "outputs": [],
   "source": []
  }
 ],
 "metadata": {
  "celltoolbar": "Diaporama",
  "colab": {
   "provenance": []
  },
  "kernelspec": {
   "display_name": "Python 3 (ipykernel)",
   "language": "python",
   "name": "python3"
  },
  "language_info": {
   "codemirror_mode": {
    "name": "ipython",
    "version": 3
   },
   "file_extension": ".py",
   "mimetype": "text/x-python",
   "name": "python",
   "nbconvert_exporter": "python",
   "pygments_lexer": "ipython3",
   "version": "3.9.13"
  }
 },
 "nbformat": 4,
 "nbformat_minor": 1
}
